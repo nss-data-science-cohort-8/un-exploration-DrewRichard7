{
 "cells": [
  {
   "cell_type": "markdown",
   "id": "c7f5a6d6-9d3a-42a8-a797-2ff4375fcca3",
   "metadata": {},
   "source": [
    "# UN Data Exploration"
   ]
  },
  {
   "cell_type": "markdown",
   "id": "54803e1e",
   "metadata": {},
   "source": [
    "## Guided practice"
   ]
  },
  {
   "cell_type": "markdown",
   "id": "c2d00626",
   "metadata": {},
   "source": [
    "#### 1.\tDownload the Gross Domestic Product (GDP) per capita dataset from [http://data.un.org/Data.aspx?d=WDI&f=Indicator_Code%3aNY.GDP.PCAP.PP.KD](http://data.un.org/Data.aspx?d=WDI&f=Indicator_Code%3aNY.GDP.PCAP.PP.KD). Rename it to gdp_per_capita.csv and place it in the `data` folder of your project repository. "
   ]
  },
  {
   "cell_type": "markdown",
   "id": "3ccf0e12",
   "metadata": {},
   "source": [
    "#### 2. Create a Jupyter Notebook in the `notebooks` folder and name it `UN_Data_Exploration`.\n",
    "-  You are likely to get errors along the way. When you do, read the errors to try to understand what is happening and how to correct it.\n",
    "- Use markdown cells to record your answers to any questions asked in this exercise. On the menu bar, you can toggle the cell type from 'Code' to 'Markdown'. [Here](https://www.markdownguide.org/cheat-sheet/) is a link to a cheat sheet showing the basics of styling text using Markdown."
   ]
  },
  {
   "cell_type": "markdown",
   "id": "89c65ac7",
   "metadata": {},
   "source": [
    "#### 3.\tIn the first cell of your notebook, import the required packages with their customary aliases as follows:"
   ]
  },
  {
   "cell_type": "code",
   "execution_count": 1,
   "id": "8d49b808",
   "metadata": {},
   "outputs": [],
   "source": [
    "import pandas as pd\n",
    "import numpy as np\n",
    "import matplotlib.pyplot as plt\n",
    "import seaborn as sns\n",
    "import plotly.express as px"
   ]
  },
  {
   "cell_type": "markdown",
   "id": "00b2950b",
   "metadata": {},
   "source": [
    "#### 4.\tUsing the pandas `read_csv()` function, read the GDP dataset into your notebook as a DataFrame called `gdp_df`. After reading it in, inspect the first 10 rows and then inspect the last 10 rows."
   ]
  },
  {
   "cell_type": "code",
   "execution_count": 2,
   "id": "08e3064d",
   "metadata": {},
   "outputs": [
    {
     "data": {
      "text/html": [
       "<div>\n",
       "<style scoped>\n",
       "    .dataframe tbody tr th:only-of-type {\n",
       "        vertical-align: middle;\n",
       "    }\n",
       "\n",
       "    .dataframe tbody tr th {\n",
       "        vertical-align: top;\n",
       "    }\n",
       "\n",
       "    .dataframe thead th {\n",
       "        text-align: right;\n",
       "    }\n",
       "</style>\n",
       "<table border=\"1\" class=\"dataframe\">\n",
       "  <thead>\n",
       "    <tr style=\"text-align: right;\">\n",
       "      <th></th>\n",
       "      <th>Country or Area</th>\n",
       "      <th>Year</th>\n",
       "      <th>Value</th>\n",
       "      <th>Value Footnotes</th>\n",
       "    </tr>\n",
       "  </thead>\n",
       "  <tbody>\n",
       "    <tr>\n",
       "      <th>0</th>\n",
       "      <td>Afghanistan</td>\n",
       "      <td>2021</td>\n",
       "      <td>1517.016266</td>\n",
       "      <td>NaN</td>\n",
       "    </tr>\n",
       "    <tr>\n",
       "      <th>1</th>\n",
       "      <td>Afghanistan</td>\n",
       "      <td>2020</td>\n",
       "      <td>1968.341002</td>\n",
       "      <td>NaN</td>\n",
       "    </tr>\n",
       "    <tr>\n",
       "      <th>2</th>\n",
       "      <td>Afghanistan</td>\n",
       "      <td>2019</td>\n",
       "      <td>2079.921861</td>\n",
       "      <td>NaN</td>\n",
       "    </tr>\n",
       "  </tbody>\n",
       "</table>\n",
       "</div>"
      ],
      "text/plain": [
       "  Country or Area  Year        Value  Value Footnotes\n",
       "0     Afghanistan  2021  1517.016266              NaN\n",
       "1     Afghanistan  2020  1968.341002              NaN\n",
       "2     Afghanistan  2019  2079.921861              NaN"
      ]
     },
     "execution_count": 2,
     "metadata": {},
     "output_type": "execute_result"
    }
   ],
   "source": [
    "gdp_df = pd.DataFrame(pd.read_csv(\"../data/gdp_per_capita.csv\"))\n",
    "gdp_df.head(3)"
   ]
  },
  {
   "cell_type": "markdown",
   "id": "fb9ef584",
   "metadata": {},
   "source": [
    "#### 5. Drop the 'Value Footnotes' column, and rename the remaining columns to 'Country', 'Year', and 'GDP_Per_Capita'."
   ]
  },
  {
   "cell_type": "code",
   "execution_count": 3,
   "id": "a5faadaf-39f1-40db-969d-a92f51bbfbb7",
   "metadata": {},
   "outputs": [
    {
     "name": "stdout",
     "output_type": "stream",
     "text": [
      "<class 'pandas.core.frame.DataFrame'>\n",
      "RangeIndex: 7662 entries, 0 to 7661\n",
      "Data columns (total 3 columns):\n",
      " #   Column          Non-Null Count  Dtype  \n",
      "---  ------          --------------  -----  \n",
      " 0   Country         7662 non-null   object \n",
      " 1   Year            7662 non-null   int64  \n",
      " 2   GDP_Per_Capita  7662 non-null   float64\n",
      "dtypes: float64(1), int64(1), object(1)\n",
      "memory usage: 179.7+ KB\n"
     ]
    }
   ],
   "source": [
    "gdp_df = gdp_df.drop(columns=[\"Value Footnotes\"]).rename(\n",
    "    columns={\"Country or Area\": \"Country\", \"Value\": \"GDP_Per_Capita\"}\n",
    ") # .drop() removes value footnotes, and .rename(columns={}) names the columns what we want\n",
    "gdp_df.info() # will show datatypes of each column"
   ]
  },
  {
   "cell_type": "markdown",
   "id": "9cbc80ee",
   "metadata": {},
   "source": [
    "#### 6. How many rows and columns does gdp_df have? What are the data types of its columns? If any of the columns are not the expected types, figure out why and fix it."
   ]
  },
  {
   "cell_type": "code",
   "execution_count": 4,
   "id": "69372b89",
   "metadata": {},
   "outputs": [
    {
     "data": {
      "text/plain": [
       "(7662, 3)"
      ]
     },
     "execution_count": 4,
     "metadata": {},
     "output_type": "execute_result"
    }
   ],
   "source": [
    "# change the dtype of the Country column to string\n",
    "gdp_df[\"Country\"] = gdp_df[\"Country\"].astype(\"string\")\n",
    "gdp_df.shape # outputs (rows, columns) "
   ]
  },
  {
   "cell_type": "markdown",
   "id": "0c9b78e4",
   "metadata": {},
   "source": [
    "- **there are 7662 rows and 3 columns in the dataframe gdp_df, excluding the index column and header rows. The 'Country' column is listed as Object rather than String which indicates more than one data type in the column. Using .astype('string') I can convert the column type to str, although this is not typically necessary in a pandas df** "
   ]
  },
  {
   "cell_type": "markdown",
   "id": "54280f02",
   "metadata": {},
   "source": [
    "#### 7. Which years are represented in this dataset? Take a look at the number of observations per year. What do you notice?"
   ]
  },
  {
   "cell_type": "code",
   "execution_count": 5,
   "id": "501783a5",
   "metadata": {},
   "outputs": [
    {
     "data": {
      "text/plain": [
       "Year\n",
       "1990    207\n",
       "1991    208\n",
       "1992    210\n",
       "1993    211\n",
       "1994    213\n",
       "1995    223\n",
       "1996    223\n",
       "1997    226\n",
       "1998    226\n",
       "1999    227\n",
       "2000    233\n",
       "2001    234\n",
       "2002    235\n",
       "2003    235\n",
       "2004    236\n",
       "2005    236\n",
       "2006    237\n",
       "2007    237\n",
       "2008    238\n",
       "2009    239\n",
       "2010    239\n",
       "2011    240\n",
       "2012    240\n",
       "2013    242\n",
       "2014    242\n",
       "2015    242\n",
       "2016    242\n",
       "2017    242\n",
       "2018    242\n",
       "2019    242\n",
       "2020    242\n",
       "2021    241\n",
       "2022    232\n",
       "Name: count, dtype: int64"
      ]
     },
     "metadata": {},
     "output_type": "display_data"
    }
   ],
   "source": [
    "# see the range of years\n",
    "display(gdp_df[\"Year\"].value_counts().sort_index())"
   ]
  },
  {
   "cell_type": "markdown",
   "id": "b94bf348",
   "metadata": {},
   "source": [
    "- **There are 33 years represented: 1990 - 2022.**\n",
    "**There are an inconsistent number of measurements taken per year, which indicates a change in the number of countries throughout the time period, or an unmeasured GDP during some years for some countries**\n"
   ]
  },
  {
   "cell_type": "markdown",
   "id": "b1102209",
   "metadata": {},
   "source": [
    "#### 8. How many countries are represented in this dataset? Which countries are least represented in the dataset? Why do you think these countries have so few observations?"
   ]
  },
  {
   "cell_type": "code",
   "execution_count": 6,
   "id": "a86455e4",
   "metadata": {},
   "outputs": [
    {
     "data": {
      "text/plain": [
       "'Number of unique entries in \"Country\" col = 242'"
      ]
     },
     "metadata": {},
     "output_type": "display_data"
    },
    {
     "data": {
      "text/plain": [
       "Country\n",
       "Nauru                        19\n",
       "Cayman Islands               16\n",
       "Kosovo                       15\n",
       "Sint Maarten (Dutch part)    14\n",
       "Turks and Caicos Islands     12\n",
       "Somalia                      10\n",
       "Djibouti                     10\n",
       "Name: count, dtype: Int64"
      ]
     },
     "execution_count": 6,
     "metadata": {},
     "output_type": "execute_result"
    }
   ],
   "source": [
    "# count the number of unique years in the 'Country' col\n",
    "display(f'Number of unique entries in \"Country\" col = {gdp_df[\"Country\"].nunique()}')\n",
    "# get the value counts for each country and view the least represented\n",
    "gdp_df[\"Country\"].value_counts().tail(7)"
   ]
  },
  {
   "cell_type": "markdown",
   "id": "cb7e42bb",
   "metadata": {},
   "source": [
    "- **There are 242 uniques values in the 'Country' column. Some of these values are not countries, but areas or regions, so it does not match the listed UN member states number of 195.**\n",
    "**The least represented countries are Djibouti, Somalia, and a handful of smaller island nations like the cayman islands and countries like Kosovo which have not been high exporters due to war, famine, territorial disputes with neighboring countries, geographic isolation, or lack of resources, etc.**\n"
   ]
  },
  {
   "cell_type": "markdown",
   "id": "37b8d201",
   "metadata": {},
   "source": [
    "#### 9. Create a new dataframe by subsetting `gdp_df` to just the year 2021. Call this new dataframe `gdp_2021`."
   ]
  },
  {
   "cell_type": "code",
   "execution_count": 7,
   "id": "099e1a63",
   "metadata": {},
   "outputs": [
    {
     "data": {
      "text/html": [
       "<div>\n",
       "<style scoped>\n",
       "    .dataframe tbody tr th:only-of-type {\n",
       "        vertical-align: middle;\n",
       "    }\n",
       "\n",
       "    .dataframe tbody tr th {\n",
       "        vertical-align: top;\n",
       "    }\n",
       "\n",
       "    .dataframe thead th {\n",
       "        text-align: right;\n",
       "    }\n",
       "</style>\n",
       "<table border=\"1\" class=\"dataframe\">\n",
       "  <thead>\n",
       "    <tr style=\"text-align: right;\">\n",
       "      <th></th>\n",
       "      <th>Country</th>\n",
       "      <th>Year</th>\n",
       "      <th>GDP_Per_Capita</th>\n",
       "    </tr>\n",
       "  </thead>\n",
       "  <tbody>\n",
       "    <tr>\n",
       "      <th>0</th>\n",
       "      <td>Afghanistan</td>\n",
       "      <td>2021</td>\n",
       "      <td>1517.016266</td>\n",
       "    </tr>\n",
       "    <tr>\n",
       "      <th>21</th>\n",
       "      <td>Africa Eastern and Southern</td>\n",
       "      <td>2021</td>\n",
       "      <td>3519.174840</td>\n",
       "    </tr>\n",
       "    <tr>\n",
       "      <th>54</th>\n",
       "      <td>Africa Western and Central</td>\n",
       "      <td>2021</td>\n",
       "      <td>4014.607965</td>\n",
       "    </tr>\n",
       "    <tr>\n",
       "      <th>87</th>\n",
       "      <td>Albania</td>\n",
       "      <td>2021</td>\n",
       "      <td>14595.944386</td>\n",
       "    </tr>\n",
       "    <tr>\n",
       "      <th>120</th>\n",
       "      <td>Algeria</td>\n",
       "      <td>2021</td>\n",
       "      <td>11029.138782</td>\n",
       "    </tr>\n",
       "    <tr>\n",
       "      <th>...</th>\n",
       "      <td>...</td>\n",
       "      <td>...</td>\n",
       "      <td>...</td>\n",
       "    </tr>\n",
       "    <tr>\n",
       "      <th>7502</th>\n",
       "      <td>Viet Nam</td>\n",
       "      <td>2021</td>\n",
       "      <td>10628.219166</td>\n",
       "    </tr>\n",
       "    <tr>\n",
       "      <th>7535</th>\n",
       "      <td>West Bank and Gaza</td>\n",
       "      <td>2021</td>\n",
       "      <td>5641.044400</td>\n",
       "    </tr>\n",
       "    <tr>\n",
       "      <th>7564</th>\n",
       "      <td>World</td>\n",
       "      <td>2021</td>\n",
       "      <td>17055.357429</td>\n",
       "    </tr>\n",
       "    <tr>\n",
       "      <th>7597</th>\n",
       "      <td>Zambia</td>\n",
       "      <td>2021</td>\n",
       "      <td>3236.788981</td>\n",
       "    </tr>\n",
       "    <tr>\n",
       "      <th>7630</th>\n",
       "      <td>Zimbabwe</td>\n",
       "      <td>2021</td>\n",
       "      <td>2115.144555</td>\n",
       "    </tr>\n",
       "  </tbody>\n",
       "</table>\n",
       "<p>241 rows × 3 columns</p>\n",
       "</div>"
      ],
      "text/plain": [
       "                          Country  Year  GDP_Per_Capita\n",
       "0                     Afghanistan  2021     1517.016266\n",
       "21    Africa Eastern and Southern  2021     3519.174840\n",
       "54     Africa Western and Central  2021     4014.607965\n",
       "87                        Albania  2021    14595.944386\n",
       "120                       Algeria  2021    11029.138782\n",
       "...                           ...   ...             ...\n",
       "7502                     Viet Nam  2021    10628.219166\n",
       "7535           West Bank and Gaza  2021     5641.044400\n",
       "7564                        World  2021    17055.357429\n",
       "7597                       Zambia  2021     3236.788981\n",
       "7630                     Zimbabwe  2021     2115.144555\n",
       "\n",
       "[241 rows x 3 columns]"
      ]
     },
     "metadata": {},
     "output_type": "display_data"
    }
   ],
   "source": [
    "# use .loc() to find only the rows that contain the year 2021\n",
    "gdp_2021 = gdp_df.loc[gdp_df[\"Year\"] == 2021]\n",
    "display(gdp_2021)"
   ]
  },
  {
   "cell_type": "markdown",
   "id": "f40e58bd",
   "metadata": {},
   "source": [
    "#### 10. Use `.describe()` to find the summary statistics for GDP per capita in 2021. "
   ]
  },
  {
   "cell_type": "code",
   "execution_count": 8,
   "id": "61858e11",
   "metadata": {},
   "outputs": [
    {
     "data": {
      "text/plain": [
       "count       241.000000\n",
       "mean      20711.570080\n",
       "std       20916.978968\n",
       "min         714.066712\n",
       "25%        5044.196028\n",
       "50%       13754.802423\n",
       "75%       30974.370692\n",
       "max      115683.493708\n",
       "Name: GDP_Per_Capita, dtype: float64"
      ]
     },
     "execution_count": 8,
     "metadata": {},
     "output_type": "execute_result"
    }
   ],
   "source": [
    "gdp_2021[\"GDP_Per_Capita\"].describe()"
   ]
  },
  {
   "cell_type": "markdown",
   "id": "eca28298",
   "metadata": {},
   "source": [
    "#### 11. Create a histogram of GDP Per Capita numbers for 2021 (you may wish to adjust the number of bins for your histogram). How would you describe the shape of the distribution?"
   ]
  },
  {
   "cell_type": "code",
   "execution_count": 9,
   "id": "81d9fdcf",
   "metadata": {},
   "outputs": [
    {
     "data": {
      "image/png": "[encoded data removed]",
      "text/plain": [
       "<Figure size 640x480 with 1 Axes>"
      ]
     },
     "metadata": {},
     "output_type": "display_data"
    }
   ],
   "source": [
    "gdp_2021_hist = sns.histplot(gdp_2021[\"GDP_Per_Capita\"], bins=20)\n",
    "plt.title(\"GDP Per Capita for the year 2021\");"
   ]
  },
  {
   "cell_type": "markdown",
   "id": "d6dbead4",
   "metadata": {},
   "source": [
    "- **This is a right skewed histogram with one mode**"
   ]
  },
  {
   "cell_type": "code",
   "execution_count": 10,
   "id": "ccc0d5fe",
   "metadata": {},
   "outputs": [
    {
     "data": {
      "application/vnd.plotly.v1+json": {
       "config": {
        "plotlyServerURL": "https://plot.ly"
       },
       "data": [
        {
         "alignmentgroup": "True",
         "bingroup": "x",
         "hovertemplate": "GDP_Per_Capita=%{x}<br>count=%{y}<extra></extra>",
         "legendgroup": "",
         "marker": {
          "color": "#636efa",
          "pattern": {
           "shape": ""
          }
         },
         "name": "",
         "nbinsx": 20,
         "offsetgroup": "",
         "orientation": "v",
         "showlegend": false,
         "type": "histogram",
         "x": [
          1517.0162662229004,
          3519.174839923617,
          4014.6079651051905,
          14595.944385954315,
          11029.138782119184,
          5911.835657384446,
          19899.88242535308,
          13745.206183608236,
          21527.196136701514,
          14193.116834061891,
          38866.33348619666,
          49774.340701916655,
          54121.14554204965,
          14433.904206035546,
          49754.04773704288,
          5911.01299624227,
          13754.802423178116,
          19872.69249520087,
          51823.50752959029,
          8762.24053675135,
          3321.5521744596235,
          78570.48951483957,
          10907.856709608446,
          8052.177441439303,
          15893.060102042558,
          14907.085768038569,
          14735.58178301524,
          60127.023688627145,
          24393.775534638506,
          2179.7890386663857,
          714.0667123775538,
          5316.463900533051,
          6592.855522109262,
          4354.565206282032,
          3700.4642891129806,
          48218.03831576798,
          15776.128381892266,
          69400.66666123806,
          837.5046857253758,
          33916.2499174261,
          1425.494512453975,
          25412.75207256649,
          17657.49518086657,
          14661.213243538055,
          3228.5268583001853,
          3234.392971927634,
          21189.695663489412,
          31793.226112243126,
          20783.08561066312,
          41694.2578125,
          40744.33788207398,
          1073.6432710427357,
          57962.65409438128,
          4912.671543460476,
          10899.414529565684,
          18626.078683118227,
          9440.681653443842,
          18630.224527101876,
          15415.447708000713,
          15586.699395294732,
          10668.758291422186,
          12180.451645243606,
          9191.604049216914,
          14637.00734985946,
          38717.6961505119,
          8856.82896802352,
          2319.161063435332,
          46357.18721443744,
          35525.69956475489,
          22861.625642860516,
          24256.245776022224,
          44185.7884863668,
          10359.203697766028,
          48713.29148858533,
          4333.881032956403,
          44993.12594552616,
          13814.495200330592,
          15486.65898062151,
          53179.65440475146,
          5435.237684797212,
          29548.038910221658,
          13688.29770931014,
          8927.30195533989,
          2640.3441909513695,
          1831.383228802076,
          21925.18685873826,
          2881.17657533473,
          2520.58419064388,
          50221.81629018271,
          5572.176988026107,
          60037.4458768956,
          33619.6266459951,
          13906.177987709929,
          53003.17040768648,
          11209.910025385809,
          5044.196027583298,
          3336.210204732495,
          3889.700290307436,
          6677.185030857757,
          11859.436322952586,
          15004.687971136336,
          8786.582352320067,
          102785.49023869034,
          42409.47604043157,
          42055.54240924128,
          9607.227253664974,
          41034.65678030328,
          9203.271009827204,
          26110.53004091895,
          4745.637033429038,
          2007.9870377941893,
          44232.20572534866,
          11884.179915389665,
          45652.27840098899,
          4933.785650155733,
          7846.97502229276,
          18541.05585083598,
          15840.811742496731,
          15140.785597890736,
          15769.52746465753,
          32080.20381792812,
          3061.0806452622833,
          12986.912832506738,
          2292.8527189440197,
          1423.2295889040297,
          20273.88124771671,
          39305.42262641085,
          10853.239465442688,
          1912.2336999805,
          6862.36652617158,
          115683.49370826466,
          64796.99513698751,
          1482.376159094939,
          1491.133687668635,
          26333.159001005617,
          18765.21635112314,
          2120.623301230112,
          45571.58525825139,
          5961.919858574647,
          5307.521902027302,
          20901.875085471016,
          19086.10468025631,
          3315.2876976957104,
          16042.5391125589,
          10537.094176227882,
          10596.659905168272,
          11893.96090782637,
          13602.33345740702,
          11668.43041758818,
          20710.41347511285,
          8058.39697265625,
          1226.766964489864,
          4032.625652525765,
          9208.5830291537,
          10989.622079088298,
          3853.6802963405535,
          56617.351792442154,
          44041.902808568666,
          5692.021327080314,
          1186.576808845348,
          4922.632452286354,
          62046.89324534696,
          16708.537207420057,
          65909.00303028169,
          44864.58042908087,
          34294.76467280447,
          21607.83450463001,
          5900.04901702409,
          5232.142773174585,
          13785.636490939616,
          30416.79349540267,
          3670.1909102748946,
          13676.390206503818,
          12533.841417095811,
          8095.579567437582,
          34915.5390556534,
          33681.02883171325,
          49131.83302769704,
          3346.795026820689,
          32766.665891112523,
          92862.57179806977,
          30974.37069212964,
          28193.837890625,
          2237.70321395485,
          4052.123361580664,
          5534.222888832896,
          61609.01217925219,
          46587.15277104336,
          3511.6374237336136,
          19827.756849927235,
          27643.35453404787,
          1614.8598301377122,
          107741.11843590894,
          32688.917214273588,
          32534.95380657595,
          40036.485435638904,
          19633.029928190153,
          2397.322823724868,
          1136.7359890131097,
          13311.925698786346,
          6361.380729156353,
          6361.380729156353,
          37933.47020964907,
          13250.629848134558,
          26486.132581465587,
          13045.931706010211,
          13833.83127774133,
          3718.1795052311063,
          3716.173025779542,
          3718.179505231109,
          3701.06909179688,
          14766.748001298314,
          53771.98133093748,
          70097.36875288289,
          31466.55992448567,
          3910.4627176377567,
          2583.34448242188,
          17087.210954272807,
          30053.032393498295,
          2076.5664328234097,
          5032.4102225066445,
          2136.6261884671567,
          6142.963536516776,
          23037.143296211056,
          10395.914297791363,
          19758.922573990258,
          4604.401249085398,
          2246.414110773397,
          12949.326171875,
          69733.79377435385,
          44949.09303522898,
          63635.82381040801,
          17607.421573651085,
          23257.256408814897,
          7800.501501009317,
          2800.493865507552,
          10628.219165721526,
          5641.044400464515,
          17055.357429151794,
          3236.7889807777906,
          2115.1445549070004
         ],
         "xaxis": "x",
         "yaxis": "y"
        }
       ],
       "layout": {
        "barmode": "relative",
        "legend": {
         "tracegroupgap": 0
        },
        "template": {
         "data": {
          "bar": [
           {
            "error_x": {
             "color": "#2a3f5f"
            },
            "error_y": {
             "color": "#2a3f5f"
            },
            "marker": {
             "line": {
              "color": "#E5ECF6",
              "width": 0.5
             },
             "pattern": {
              "fillmode": "overlay",
              "size": 10,
              "solidity": 0.2
             }
            },
            "type": "bar"
           }
          ],
          "barpolar": [
           {
            "marker": {
             "line": {
              "color": "#E5ECF6",
              "width": 0.5
             },
             "pattern": {
              "fillmode": "overlay",
              "size": 10,
              "solidity": 0.2
             }
            },
            "type": "barpolar"
           }
          ],
          "carpet": [
           {
            "aaxis": {
             "endlinecolor": "#2a3f5f",
             "gridcolor": "white",
             "linecolor": "white",
             "minorgridcolor": "white",
             "startlinecolor": "#2a3f5f"
            },
            "baxis": {
             "endlinecolor": "#2a3f5f",
             "gridcolor": "white",
             "linecolor": "white",
             "minorgridcolor": "white",
             "startlinecolor": "#2a3f5f"
            },
            "type": "carpet"
           }
          ],
          "choropleth": [
           {
            "colorbar": {
             "outlinewidth": 0,
             "ticks": ""
            },
            "type": "choropleth"
           }
          ],
          "contour": [
           {
            "colorbar": {
             "outlinewidth": 0,
             "ticks": ""
            },
            "colorscale": [
             [
              0,
              "#0d0887"
             ],
             [
              0.1111111111111111,
              "#46039f"
             ],
             [
              0.2222222222222222,
              "#7201a8"
             ],
             [
              0.3333333333333333,
              "#9c179e"
             ],
             [
              0.4444444444444444,
              "#bd3786"
             ],
             [
              0.5555555555555556,
              "#d8576b"
             ],
             [
              0.6666666666666666,
              "#ed7953"
             ],
             [
              0.7777777777777778,
              "#fb9f3a"
             ],
             [
              0.8888888888888888,
              "#fdca26"
             ],
             [
              1,
              "#f0f921"
             ]
            ],
            "type": "contour"
           }
          ],
          "contourcarpet": [
           {
            "colorbar": {
             "outlinewidth": 0,
             "ticks": ""
            },
            "type": "contourcarpet"
           }
          ],
          "heatmap": [
           {
            "colorbar": {
             "outlinewidth": 0,
             "ticks": ""
            },
            "colorscale": [
             [
              0,
              "#0d0887"
             ],
             [
              0.1111111111111111,
              "#46039f"
             ],
             [
              0.2222222222222222,
              "#7201a8"
             ],
             [
              0.3333333333333333,
              "#9c179e"
             ],
             [
              0.4444444444444444,
              "#bd3786"
             ],
             [
              0.5555555555555556,
              "#d8576b"
             ],
             [
              0.6666666666666666,
              "#ed7953"
             ],
             [
              0.7777777777777778,
              "#fb9f3a"
             ],
             [
              0.8888888888888888,
              "#fdca26"
             ],
             [
              1,
              "#f0f921"
             ]
            ],
            "type": "heatmap"
           }
          ],
          "heatmapgl": [
           {
            "colorbar": {
             "outlinewidth": 0,
             "ticks": ""
            },
            "colorscale": [
             [
              0,
              "#0d0887"
             ],
             [
              0.1111111111111111,
              "#46039f"
             ],
             [
              0.2222222222222222,
              "#7201a8"
             ],
             [
              0.3333333333333333,
              "#9c179e"
             ],
             [
              0.4444444444444444,
              "#bd3786"
             ],
             [
              0.5555555555555556,
              "#d8576b"
             ],
             [
              0.6666666666666666,
              "#ed7953"
             ],
             [
              0.7777777777777778,
              "#fb9f3a"
             ],
             [
              0.8888888888888888,
              "#fdca26"
             ],
             [
              1,
              "#f0f921"
             ]
            ],
            "type": "heatmapgl"
           }
          ],
          "histogram": [
           {
            "marker": {
             "pattern": {
              "fillmode": "overlay",
              "size": 10,
              "solidity": 0.2
             }
            },
            "type": "histogram"
           }
          ],
          "histogram2d": [
           {
            "colorbar": {
             "outlinewidth": 0,
             "ticks": ""
            },
            "colorscale": [
             [
              0,
              "#0d0887"
             ],
             [
              0.1111111111111111,
              "#46039f"
             ],
             [
              0.2222222222222222,
              "#7201a8"
             ],
             [
              0.3333333333333333,
              "#9c179e"
             ],
             [
              0.4444444444444444,
              "#bd3786"
             ],
             [
              0.5555555555555556,
              "#d8576b"
             ],
             [
              0.6666666666666666,
              "#ed7953"
             ],
             [
              0.7777777777777778,
              "#fb9f3a"
             ],
             [
              0.8888888888888888,
              "#fdca26"
             ],
             [
              1,
              "#f0f921"
             ]
            ],
            "type": "histogram2d"
           }
          ],
          "histogram2dcontour": [
           {
            "colorbar": {
             "outlinewidth": 0,
             "ticks": ""
            },
            "colorscale": [
             [
              0,
              "#0d0887"
             ],
             [
              0.1111111111111111,
              "#46039f"
             ],
             [
              0.2222222222222222,
              "#7201a8"
             ],
             [
              0.3333333333333333,
              "#9c179e"
             ],
             [
              0.4444444444444444,
              "#bd3786"
             ],
             [
              0.5555555555555556,
              "#d8576b"
             ],
             [
              0.6666666666666666,
              "#ed7953"
             ],
             [
              0.7777777777777778,
              "#fb9f3a"
             ],
             [
              0.8888888888888888,
              "#fdca26"
             ],
             [
              1,
              "#f0f921"
             ]
            ],
            "type": "histogram2dcontour"
           }
          ],
          "mesh3d": [
           {
            "colorbar": {
             "outlinewidth": 0,
             "ticks": ""
            },
            "type": "mesh3d"
           }
          ],
          "parcoords": [
           {
            "line": {
             "colorbar": {
              "outlinewidth": 0,
              "ticks": ""
             }
            },
            "type": "parcoords"
           }
          ],
          "pie": [
           {
            "automargin": true,
            "type": "pie"
           }
          ],
          "scatter": [
           {
            "fillpattern": {
             "fillmode": "overlay",
             "size": 10,
             "solidity": 0.2
            },
            "type": "scatter"
           }
          ],
          "scatter3d": [
           {
            "line": {
             "colorbar": {
              "outlinewidth": 0,
              "ticks": ""
             }
            },
            "marker": {
             "colorbar": {
              "outlinewidth": 0,
              "ticks": ""
             }
            },
            "type": "scatter3d"
           }
          ],
          "scattercarpet": [
           {
            "marker": {
             "colorbar": {
              "outlinewidth": 0,
              "ticks": ""
             }
            },
            "type": "scattercarpet"
           }
          ],
          "scattergeo": [
           {
            "marker": {
             "colorbar": {
              "outlinewidth": 0,
              "ticks": ""
             }
            },
            "type": "scattergeo"
           }
          ],
          "scattergl": [
           {
            "marker": {
             "colorbar": {
              "outlinewidth": 0,
              "ticks": ""
             }
            },
            "type": "scattergl"
           }
          ],
          "scattermapbox": [
           {
            "marker": {
             "colorbar": {
              "outlinewidth": 0,
              "ticks": ""
             }
            },
            "type": "scattermapbox"
           }
          ],
          "scatterpolar": [
           {
            "marker": {
             "colorbar": {
              "outlinewidth": 0,
              "ticks": ""
             }
            },
            "type": "scatterpolar"
           }
          ],
          "scatterpolargl": [
           {
            "marker": {
             "colorbar": {
              "outlinewidth": 0,
              "ticks": ""
             }
            },
            "type": "scatterpolargl"
           }
          ],
          "scatterternary": [
           {
            "marker": {
             "colorbar": {
              "outlinewidth": 0,
              "ticks": ""
             }
            },
            "type": "scatterternary"
           }
          ],
          "surface": [
           {
            "colorbar": {
             "outlinewidth": 0,
             "ticks": ""
            },
            "colorscale": [
             [
              0,
              "#0d0887"
             ],
             [
              0.1111111111111111,
              "#46039f"
             ],
             [
              0.2222222222222222,
              "#7201a8"
             ],
             [
              0.3333333333333333,
              "#9c179e"
             ],
             [
              0.4444444444444444,
              "#bd3786"
             ],
             [
              0.5555555555555556,
              "#d8576b"
             ],
             [
              0.6666666666666666,
              "#ed7953"
             ],
             [
              0.7777777777777778,
              "#fb9f3a"
             ],
             [
              0.8888888888888888,
              "#fdca26"
             ],
             [
              1,
              "#f0f921"
             ]
            ],
            "type": "surface"
           }
          ],
          "table": [
           {
            "cells": {
             "fill": {
              "color": "#EBF0F8"
             },
             "line": {
              "color": "white"
             }
            },
            "header": {
             "fill": {
              "color": "#C8D4E3"
             },
             "line": {
              "color": "white"
             }
            },
            "type": "table"
           }
          ]
         },
         "layout": {
          "annotationdefaults": {
           "arrowcolor": "#2a3f5f",
           "arrowhead": 0,
           "arrowwidth": 1
          },
          "autotypenumbers": "strict",
          "coloraxis": {
           "colorbar": {
            "outlinewidth": 0,
            "ticks": ""
           }
          },
          "colorscale": {
           "diverging": [
            [
             0,
             "#8e0152"
            ],
            [
             0.1,
             "#c51b7d"
            ],
            [
             0.2,
             "#de77ae"
            ],
            [
             0.3,
             "#f1b6da"
            ],
            [
             0.4,
             "#fde0ef"
            ],
            [
             0.5,
             "#f7f7f7"
            ],
            [
             0.6,
             "#e6f5d0"
            ],
            [
             0.7,
             "#b8e186"
            ],
            [
             0.8,
             "#7fbc41"
            ],
            [
             0.9,
             "#4d9221"
            ],
            [
             1,
             "#276419"
            ]
           ],
           "sequential": [
            [
             0,
             "#0d0887"
            ],
            [
             0.1111111111111111,
             "#46039f"
            ],
            [
             0.2222222222222222,
             "#7201a8"
            ],
            [
             0.3333333333333333,
             "#9c179e"
            ],
            [
             0.4444444444444444,
             "#bd3786"
            ],
            [
             0.5555555555555556,
             "#d8576b"
            ],
            [
             0.6666666666666666,
             "#ed7953"
            ],
            [
             0.7777777777777778,
             "#fb9f3a"
            ],
            [
             0.8888888888888888,
             "#fdca26"
            ],
            [
             1,
             "#f0f921"
            ]
           ],
           "sequentialminus": [
            [
             0,
             "#0d0887"
            ],
            [
             0.1111111111111111,
             "#46039f"
            ],
            [
             0.2222222222222222,
             "#7201a8"
            ],
            [
             0.3333333333333333,
             "#9c179e"
            ],
            [
             0.4444444444444444,
             "#bd3786"
            ],
            [
             0.5555555555555556,
             "#d8576b"
            ],
            [
             0.6666666666666666,
             "#ed7953"
            ],
            [
             0.7777777777777778,
             "#fb9f3a"
            ],
            [
             0.8888888888888888,
             "#fdca26"
            ],
            [
             1,
             "#f0f921"
            ]
           ]
          },
          "colorway": [
           "#636efa",
           "#EF553B",
           "#00cc96",
           "#ab63fa",
           "#FFA15A",
           "#19d3f3",
           "#FF6692",
           "#B6E880",
           "#FF97FF",
           "#FECB52"
          ],
          "font": {
           "color": "#2a3f5f"
          },
          "geo": {
           "bgcolor": "white",
           "lakecolor": "white",
           "landcolor": "#E5ECF6",
           "showlakes": true,
           "showland": true,
           "subunitcolor": "white"
          },
          "hoverlabel": {
           "align": "left"
          },
          "hovermode": "closest",
          "mapbox": {
           "style": "light"
          },
          "paper_bgcolor": "white",
          "plot_bgcolor": "#E5ECF6",
          "polar": {
           "angularaxis": {
            "gridcolor": "white",
            "linecolor": "white",
            "ticks": ""
           },
           "bgcolor": "#E5ECF6",
           "radialaxis": {
            "gridcolor": "white",
            "linecolor": "white",
            "ticks": ""
           }
          },
          "scene": {
           "xaxis": {
            "backgroundcolor": "#E5ECF6",
            "gridcolor": "white",
            "gridwidth": 2,
            "linecolor": "white",
            "showbackground": true,
            "ticks": "",
            "zerolinecolor": "white"
           },
           "yaxis": {
            "backgroundcolor": "#E5ECF6",
            "gridcolor": "white",
            "gridwidth": 2,
            "linecolor": "white",
            "showbackground": true,
            "ticks": "",
            "zerolinecolor": "white"
           },
           "zaxis": {
            "backgroundcolor": "#E5ECF6",
            "gridcolor": "white",
            "gridwidth": 2,
            "linecolor": "white",
            "showbackground": true,
            "ticks": "",
            "zerolinecolor": "white"
           }
          },
          "shapedefaults": {
           "line": {
            "color": "#2a3f5f"
           }
          },
          "ternary": {
           "aaxis": {
            "gridcolor": "white",
            "linecolor": "white",
            "ticks": ""
           },
           "baxis": {
            "gridcolor": "white",
            "linecolor": "white",
            "ticks": ""
           },
           "bgcolor": "#E5ECF6",
           "caxis": {
            "gridcolor": "white",
            "linecolor": "white",
            "ticks": ""
           }
          },
          "title": {
           "x": 0.05
          },
          "xaxis": {
           "automargin": true,
           "gridcolor": "white",
           "linecolor": "white",
           "ticks": "",
           "title": {
            "standoff": 15
           },
           "zerolinecolor": "white",
           "zerolinewidth": 2
          },
          "yaxis": {
           "automargin": true,
           "gridcolor": "white",
           "linecolor": "white",
           "ticks": "",
           "title": {
            "standoff": 15
           },
           "zerolinecolor": "white",
           "zerolinewidth": 2
          }
         }
        },
        "title": {
         "text": "GDP Per Capita for 2021"
        },
        "xaxis": {
         "anchor": "y",
         "domain": [
          0,
          1
         ],
         "title": {
          "text": "GDP_Per_Capita"
         }
        },
        "yaxis": {
         "anchor": "x",
         "domain": [
          0,
          1
         ],
         "title": {
          "text": "count"
         }
        }
       }
      }
     },
     "metadata": {},
     "output_type": "display_data"
    }
   ],
   "source": [
    "plotly_hist = px.histogram(gdp_2021['GDP_Per_Capita'],nbins=20, x='GDP_Per_Capita', title = 'GDP Per Capita for 2021')\n",
    "plotly_hist\n"
   ]
  },
  {
   "cell_type": "markdown",
   "id": "eafd632b",
   "metadata": {},
   "source": [
    "#### 12. Find the top 5 counties and bottom 5 countries by GDP per capita in 2021."
   ]
  },
  {
   "cell_type": "code",
   "execution_count": 11,
   "id": "624b71b3",
   "metadata": {},
   "outputs": [
    {
     "data": {
      "text/html": [
       "<div>\n",
       "<style scoped>\n",
       "    .dataframe tbody tr th:only-of-type {\n",
       "        vertical-align: middle;\n",
       "    }\n",
       "\n",
       "    .dataframe tbody tr th {\n",
       "        vertical-align: top;\n",
       "    }\n",
       "\n",
       "    .dataframe thead th {\n",
       "        text-align: right;\n",
       "    }\n",
       "</style>\n",
       "<table border=\"1\" class=\"dataframe\">\n",
       "  <thead>\n",
       "    <tr style=\"text-align: right;\">\n",
       "      <th></th>\n",
       "      <th>Country</th>\n",
       "      <th>Year</th>\n",
       "      <th>GDP_Per_Capita</th>\n",
       "    </tr>\n",
       "  </thead>\n",
       "  <tbody>\n",
       "    <tr>\n",
       "      <th>4147</th>\n",
       "      <td>Luxembourg</td>\n",
       "      <td>2021</td>\n",
       "      <td>115683.493708</td>\n",
       "    </tr>\n",
       "    <tr>\n",
       "      <th>6107</th>\n",
       "      <td>Singapore</td>\n",
       "      <td>2021</td>\n",
       "      <td>107741.118436</td>\n",
       "    </tr>\n",
       "    <tr>\n",
       "      <th>3278</th>\n",
       "      <td>Ireland</td>\n",
       "      <td>2021</td>\n",
       "      <td>102785.490239</td>\n",
       "    </tr>\n",
       "    <tr>\n",
       "      <th>5745</th>\n",
       "      <td>Qatar</td>\n",
       "      <td>2021</td>\n",
       "      <td>92862.571798</td>\n",
       "    </tr>\n",
       "    <tr>\n",
       "      <th>680</th>\n",
       "      <td>Bermuda</td>\n",
       "      <td>2021</td>\n",
       "      <td>78570.489515</td>\n",
       "    </tr>\n",
       "  </tbody>\n",
       "</table>\n",
       "</div>"
      ],
      "text/plain": [
       "         Country  Year  GDP_Per_Capita\n",
       "4147  Luxembourg  2021   115683.493708\n",
       "6107   Singapore  2021   107741.118436\n",
       "3278     Ireland  2021   102785.490239\n",
       "5745       Qatar  2021    92862.571798\n",
       "680      Bermuda  2021    78570.489515"
      ]
     },
     "metadata": {},
     "output_type": "display_data"
    }
   ],
   "source": [
    "# Sort gdp_2021 by GDP per capita and view the top 5 countries\n",
    "display(gdp_2021.nlargest(5, \"GDP_Per_Capita\"))"
   ]
  },
  {
   "cell_type": "code",
   "execution_count": 12,
   "id": "dddc14d3",
   "metadata": {},
   "outputs": [
    {
     "data": {
      "text/html": [
       "<div>\n",
       "<style scoped>\n",
       "    .dataframe tbody tr th:only-of-type {\n",
       "        vertical-align: middle;\n",
       "    }\n",
       "\n",
       "    .dataframe tbody tr th {\n",
       "        vertical-align: top;\n",
       "    }\n",
       "\n",
       "    .dataframe thead th {\n",
       "        text-align: right;\n",
       "    }\n",
       "</style>\n",
       "<table border=\"1\" class=\"dataframe\">\n",
       "  <thead>\n",
       "    <tr style=\"text-align: right;\">\n",
       "      <th></th>\n",
       "      <th>Country</th>\n",
       "      <th>Year</th>\n",
       "      <th>GDP_Per_Capita</th>\n",
       "    </tr>\n",
       "  </thead>\n",
       "  <tbody>\n",
       "    <tr>\n",
       "      <th>972</th>\n",
       "      <td>Burundi</td>\n",
       "      <td>2021</td>\n",
       "      <td>714.066712</td>\n",
       "    </tr>\n",
       "    <tr>\n",
       "      <th>1216</th>\n",
       "      <td>Central African Republic</td>\n",
       "      <td>2021</td>\n",
       "      <td>837.504686</td>\n",
       "    </tr>\n",
       "    <tr>\n",
       "      <th>1629</th>\n",
       "      <td>Dem. Rep. Congo</td>\n",
       "      <td>2021</td>\n",
       "      <td>1073.643271</td>\n",
       "    </tr>\n",
       "    <tr>\n",
       "      <th>6272</th>\n",
       "      <td>Somalia</td>\n",
       "      <td>2021</td>\n",
       "      <td>1136.735989</td>\n",
       "    </tr>\n",
       "    <tr>\n",
       "      <th>5073</th>\n",
       "      <td>Niger</td>\n",
       "      <td>2021</td>\n",
       "      <td>1186.576809</td>\n",
       "    </tr>\n",
       "  </tbody>\n",
       "</table>\n",
       "</div>"
      ],
      "text/plain": [
       "                       Country  Year  GDP_Per_Capita\n",
       "972                    Burundi  2021      714.066712\n",
       "1216  Central African Republic  2021      837.504686\n",
       "1629           Dem. Rep. Congo  2021     1073.643271\n",
       "6272                   Somalia  2021     1136.735989\n",
       "5073                     Niger  2021     1186.576809"
      ]
     },
     "metadata": {},
     "output_type": "display_data"
    }
   ],
   "source": [
    "# Sort gdp_2021 by GDP per capita and view the bottom 5 countries\n",
    "display(gdp_2021.nsmallest(5, \"GDP_Per_Capita\"))"
   ]
  },
  {
   "cell_type": "markdown",
   "id": "d4729c09",
   "metadata": {},
   "source": [
    "- **The top five countries are Bermuda, Qatar, Ireland, Singapore, and Luxembourg.**\n",
    "- **The bottom five countries are Burundi, Central African Republic, DRC, Somalia, and Niger.**"
   ]
  },
  {
   "cell_type": "markdown",
   "id": "9006234c",
   "metadata": {},
   "source": [
    "#### 13. Now, return to the full dataset, `gdp_df`. Pivot the data for 1990 and 2021 (using the pandas `.pivot_table()` method or another method) so that each row corresponds to a country, each column corresponds to a year, and the values in the table give the GDP_Per_Capita amount. Drop any rows that are missing values for either 1990 or 2021. Save the result to a dataframe named `gdp_pivoted`."
   ]
  },
  {
   "cell_type": "code",
   "execution_count": 13,
   "id": "94760e99",
   "metadata": {},
   "outputs": [
    {
     "data": {
      "text/html": [
       "<div>\n",
       "<style scoped>\n",
       "    .dataframe tbody tr th:only-of-type {\n",
       "        vertical-align: middle;\n",
       "    }\n",
       "\n",
       "    .dataframe tbody tr th {\n",
       "        vertical-align: top;\n",
       "    }\n",
       "\n",
       "    .dataframe thead th {\n",
       "        text-align: right;\n",
       "    }\n",
       "</style>\n",
       "<table border=\"1\" class=\"dataframe\">\n",
       "  <thead>\n",
       "    <tr style=\"text-align: right;\">\n",
       "      <th>Year</th>\n",
       "      <th>1990</th>\n",
       "      <th>2021</th>\n",
       "    </tr>\n",
       "    <tr>\n",
       "      <th>Country</th>\n",
       "      <th></th>\n",
       "      <th></th>\n",
       "    </tr>\n",
       "  </thead>\n",
       "  <tbody>\n",
       "    <tr>\n",
       "      <th>Africa Eastern and Southern</th>\n",
       "      <td>3037.297466</td>\n",
       "      <td>3519.174840</td>\n",
       "    </tr>\n",
       "    <tr>\n",
       "      <th>Africa Western and Central</th>\n",
       "      <td>2788.301039</td>\n",
       "      <td>4014.607965</td>\n",
       "    </tr>\n",
       "    <tr>\n",
       "      <th>Albania</th>\n",
       "      <td>4827.027705</td>\n",
       "      <td>14595.944386</td>\n",
       "    </tr>\n",
       "    <tr>\n",
       "      <th>Algeria</th>\n",
       "      <td>8828.874473</td>\n",
       "      <td>11029.138782</td>\n",
       "    </tr>\n",
       "    <tr>\n",
       "      <th>Angola</th>\n",
       "      <td>5793.084512</td>\n",
       "      <td>5911.835657</td>\n",
       "    </tr>\n",
       "    <tr>\n",
       "      <th>...</th>\n",
       "      <td>...</td>\n",
       "      <td>...</td>\n",
       "    </tr>\n",
       "    <tr>\n",
       "      <th>Vanuatu</th>\n",
       "      <td>2774.138350</td>\n",
       "      <td>2800.493866</td>\n",
       "    </tr>\n",
       "    <tr>\n",
       "      <th>Viet Nam</th>\n",
       "      <td>2099.394649</td>\n",
       "      <td>10628.219166</td>\n",
       "    </tr>\n",
       "    <tr>\n",
       "      <th>World</th>\n",
       "      <td>9705.981267</td>\n",
       "      <td>17055.357429</td>\n",
       "    </tr>\n",
       "    <tr>\n",
       "      <th>Zambia</th>\n",
       "      <td>2290.039226</td>\n",
       "      <td>3236.788981</td>\n",
       "    </tr>\n",
       "    <tr>\n",
       "      <th>Zimbabwe</th>\n",
       "      <td>2704.757299</td>\n",
       "      <td>2115.144555</td>\n",
       "    </tr>\n",
       "  </tbody>\n",
       "</table>\n",
       "<p>206 rows × 2 columns</p>\n",
       "</div>"
      ],
      "text/plain": [
       "Year                                1990          2021\n",
       "Country                                               \n",
       "Africa Eastern and Southern  3037.297466   3519.174840\n",
       "Africa Western and Central   2788.301039   4014.607965\n",
       "Albania                      4827.027705  14595.944386\n",
       "Algeria                      8828.874473  11029.138782\n",
       "Angola                       5793.084512   5911.835657\n",
       "...                                  ...           ...\n",
       "Vanuatu                      2774.138350   2800.493866\n",
       "Viet Nam                     2099.394649  10628.219166\n",
       "World                        9705.981267  17055.357429\n",
       "Zambia                       2290.039226   3236.788981\n",
       "Zimbabwe                     2704.757299   2115.144555\n",
       "\n",
       "[206 rows x 2 columns]"
      ]
     },
     "metadata": {},
     "output_type": "display_data"
    }
   ],
   "source": [
    "gdp_pivoted = (\n",
    "    gdp_df\n",
    "    [gdp_df[\"Year\"].isin([1990, 2021])]\n",
    "    .pivot_table(\n",
    "        values=\"GDP_Per_Capita\",\n",
    "        index=\"Country\",\n",
    "        columns=\"Year\")\n",
    "    .dropna()\n",
    ")\n",
    "display(gdp_pivoted)"
   ]
  },
  {
   "cell_type": "markdown",
   "id": "e2915700",
   "metadata": {},
   "source": [
    "#### 14. Create a new column in `gdp_pivoted` named `Percent_Change`. This column should contain the percent change in GDP_Per_Capita from 1990 to 2021. Hint: Percent change is calculated as 100*(New Value - Old Value) / Old Value."
   ]
  },
  {
   "cell_type": "code",
   "execution_count": 14,
   "id": "cdd9afe2",
   "metadata": {},
   "outputs": [
    {
     "data": {
      "text/html": [
       "<div>\n",
       "<style scoped>\n",
       "    .dataframe tbody tr th:only-of-type {\n",
       "        vertical-align: middle;\n",
       "    }\n",
       "\n",
       "    .dataframe tbody tr th {\n",
       "        vertical-align: top;\n",
       "    }\n",
       "\n",
       "    .dataframe thead th {\n",
       "        text-align: right;\n",
       "    }\n",
       "</style>\n",
       "<table border=\"1\" class=\"dataframe\">\n",
       "  <thead>\n",
       "    <tr style=\"text-align: right;\">\n",
       "      <th>Year</th>\n",
       "      <th>1990</th>\n",
       "      <th>2021</th>\n",
       "      <th>Percent Change</th>\n",
       "    </tr>\n",
       "    <tr>\n",
       "      <th>Country</th>\n",
       "      <th></th>\n",
       "      <th></th>\n",
       "      <th></th>\n",
       "    </tr>\n",
       "  </thead>\n",
       "  <tbody>\n",
       "    <tr>\n",
       "      <th>Africa Eastern and Southern</th>\n",
       "      <td>3037.297466</td>\n",
       "      <td>3519.174840</td>\n",
       "      <td>15.865334</td>\n",
       "    </tr>\n",
       "    <tr>\n",
       "      <th>Africa Western and Central</th>\n",
       "      <td>2788.301039</td>\n",
       "      <td>4014.607965</td>\n",
       "      <td>43.980435</td>\n",
       "    </tr>\n",
       "    <tr>\n",
       "      <th>Albania</th>\n",
       "      <td>4827.027705</td>\n",
       "      <td>14595.944386</td>\n",
       "      <td>202.379544</td>\n",
       "    </tr>\n",
       "  </tbody>\n",
       "</table>\n",
       "</div>"
      ],
      "text/plain": [
       "Year                                1990          2021  Percent Change\n",
       "Country                                                               \n",
       "Africa Eastern and Southern  3037.297466   3519.174840       15.865334\n",
       "Africa Western and Central   2788.301039   4014.607965       43.980435\n",
       "Albania                      4827.027705  14595.944386      202.379544"
      ]
     },
     "metadata": {},
     "output_type": "display_data"
    }
   ],
   "source": [
    "gdp_pivoted[\"Percent Change\"] = (\n",
    "    100 * (gdp_pivoted[2021] - gdp_pivoted[1990]) / gdp_pivoted[1990]\n",
    ")\n",
    "display(gdp_pivoted.head(3))"
   ]
  },
  {
   "cell_type": "markdown",
   "id": "345cf407",
   "metadata": {},
   "source": [
    "#### 15. How many countries experienced a negative percent change in GDP per capita from 1990 to 2021?"
   ]
  },
  {
   "cell_type": "code",
   "execution_count": 15,
   "id": "b95bf1d4",
   "metadata": {},
   "outputs": [
    {
     "data": {
      "text/plain": [
       "'There were 19 countries with a negative % change from 1990 to 2021'"
      ]
     },
     "metadata": {},
     "output_type": "display_data"
    }
   ],
   "source": [
    "display(f'There were {(gdp_pivoted['Percent Change'] < 0).sum()} countries with a negative % change from 1990 to 2021')"
   ]
  },
  {
   "cell_type": "markdown",
   "id": "43045af4",
   "metadata": {},
   "source": [
    "- **There were 19 countries with a negative percent change from 1990 to 2021**"
   ]
  },
  {
   "cell_type": "markdown",
   "id": "463d4b27",
   "metadata": {},
   "source": [
    "#### 16. Which country had the highest % change in GDP per capita? Create a line plot showing this country's GDP per capita for all years from 1990 to 2022. Create another showing the country with the second highest % change in GDP. How do the trends in these countries compare?  \n",
    "**Bonus:** Put both line charts on the same plot."
   ]
  },
  {
   "cell_type": "markdown",
   "id": "4a1091fb",
   "metadata": {},
   "source": [
    "- **Equatorial Guinea had the highest percent change from 1990 to 2021 with a 1463.08% growth**"
   ]
  },
  {
   "cell_type": "code",
   "execution_count": 16,
   "id": "ab65a41c",
   "metadata": {},
   "outputs": [
    {
     "data": {
      "image/png": "[encoded data removed]",
      "text/plain": [
       "<Figure size 1000x600 with 3 Axes>"
      ]
     },
     "metadata": {},
     "output_type": "display_data"
    }
   ],
   "source": [
    "# determine highest percent change and extract country name \n",
    "highest_pct_change = gdp_pivoted.nlargest(1,'Percent Change').reset_index()['Country']\n",
    "# determine second highest percent change and extract country name \n",
    "second_pct_change = gdp_pivoted.nlargest(2,'Percent Change').nsmallest(1, 'Percent Change').reset_index()['Country']\n",
    "\n",
    "# extract data corresponding to the countries from gdp_df\n",
    "country_1_data = gdp_df.loc[gdp_df[\"Country\"] == highest_pct_change[0]]\n",
    "country_1_data_slice = country_1_data[country_1_data[\"Year\"].isin(list(range(1990, 2023)))]\n",
    "country_2_data = gdp_df.loc[gdp_df[\"Country\"] == second_pct_change[0]]\n",
    "country_2_data_slice = country_2_data[country_2_data[\"Year\"].isin(list(range(1990, 2023)))]\n",
    "\n",
    "# initialize 3 subplots for both countries independent and together\n",
    "fig, ax = plt.subplots(nrows=1, ncols=3, sharey=True, figsize=(10,6))\n",
    "fig.tight_layout()\n",
    "\n",
    "# Country 1 subplot\n",
    "plt.subplot(131)\n",
    "plt.xlabel(\"Year (1990 - 2022)\")\n",
    "plt.ylabel(\"GDP Per Capita($)\")\n",
    "plt.title(highest_pct_change[0])\n",
    "plt.plot(country_1_data_slice[\"Year\"], country_1_data_slice[\"GDP_Per_Capita\"], color='b')\n",
    "\n",
    "# Country 2 subplot\n",
    "plt.subplot(132)\n",
    "plt.xlabel(\"Year (1990 - 2022)\")\n",
    "plt.title(second_pct_change[0])\n",
    "plt.plot(country_2_data_slice[\"Year\"], country_2_data_slice[\"GDP_Per_Capita\"], color='r')\n",
    "\n",
    "# Both countries on the same plot\n",
    "plt.subplot(133)\n",
    "plt.xlabel(\"Year (1990 - 2022)\")\n",
    "plt.title(highest_pct_change[0] + ' & ' + second_pct_change[0])\n",
    "plt.plot(country_2_data_slice[\"Year\"],\n",
    "    country_2_data_slice[\"GDP_Per_Capita\"],\n",
    "    color=\"r\",\n",
    "    label=second_pct_change[0])\n",
    "plt.plot(\n",
    "    country_1_data_slice[\"Year\"],\n",
    "    country_1_data_slice[\"GDP_Per_Capita\"],\n",
    "    color=\"b\",\n",
    "    label=highest_pct_change[0],\n",
    ")\n",
    "plt.legend();"
   ]
  },
  {
   "cell_type": "markdown",
   "id": "706f3437",
   "metadata": {},
   "source": [
    "- **These line graphs show Equatorial Guinea's astronomical ascent and then rapid decline in GDP per capita, whereas China has had a near exponential increase in GDP per capita continuously increaseing throughout the time period shown on the plot. These are the top two countries in percent change GDP per capita, though the path taken to get from a similar starting point in 1990 to 2018 is very different.**"
   ]
  },
  {
   "cell_type": "markdown",
   "id": "1e1b8d7f",
   "metadata": {},
   "source": [
    "##### Plotly used below for practice"
   ]
  },
  {
   "cell_type": "code",
   "execution_count": 17,
   "id": "e66f804e",
   "metadata": {},
   "outputs": [
    {
     "data": {
      "application/vnd.plotly.v1+json": {
       "config": {
        "plotlyServerURL": "https://plot.ly"
       },
       "data": [
        {
         "hovertemplate": "Country=China<br>Year=%{x}<br>GDP_Per_Capita=%{y}<extra></extra>",
         "legendgroup": "",
         "line": {
          "color": "#636efa",
          "dash": "solid"
         },
         "marker": {
          "symbol": "circle"
         },
         "mode": "lines",
         "name": "",
         "orientation": "v",
         "showlegend": false,
         "type": "scatter",
         "x": [
          1990,
          1991,
          1992,
          1993,
          1994,
          1995,
          1996,
          1997,
          1998,
          1999,
          2000,
          2001,
          2002,
          2003,
          2004,
          2005,
          2006,
          2007,
          2008,
          2009,
          2010,
          2011,
          2012,
          2013,
          2014,
          2015,
          2016,
          2017,
          2018,
          2019,
          2020,
          2021,
          2022
         ],
         "xaxis": "x",
         "y": [
          1423.8963479071126,
          1534.7052715507218,
          1731.657215495066,
          1949.5342682330004,
          2178.9240567606007,
          2391.477115589357,
          2601.3634260738586,
          2812.711134594655,
          3004.427341547029,
          3206.7300257081815,
          3451.679230928577,
          3712.338132340694,
          4024.3556966354936,
          4400.82518341212,
          4817.211844527584,
          5334.646639381805,
          5979.781711825274,
          6795.174012379911,
          7412.87436349204,
          8069.354638377564,
          8884.588031226054,
          9680.097699616625,
          10370.726571679092,
          11101.938929993426,
          11851.40421757962,
          12612.351651241795,
          13399.137320274394,
          14243.532610849124,
          15133.995618232722,
          15977.763827987555,
          16296.609378967843,
          17657.49518086657,
          18187.978737053687
         ],
         "yaxis": "y"
        },
        {
         "hovertemplate": "Country=Equatorial Guinea<br>Year=%{x}<br>GDP_Per_Capita=%{y}<extra></extra>",
         "legendgroup": "",
         "line": {
          "color": "#636efa",
          "dash": "solid"
         },
         "marker": {
          "symbol": "circle"
         },
         "mode": "lines",
         "name": "",
         "orientation": "v",
         "showlegend": false,
         "type": "scatter",
         "x": [
          1990,
          1991,
          1992,
          1993,
          1994,
          1995,
          1996,
          1997,
          1998,
          1999,
          2000,
          2001,
          2002,
          2003,
          2004,
          2005,
          2006,
          2007,
          2008,
          2009,
          2010,
          2011,
          2012,
          2013,
          2014,
          2015,
          2016,
          2017,
          2018,
          2019,
          2020,
          2021,
          2022
         ],
         "xaxis": "x2",
         "y": [
          936.4197507129828,
          893.0973409787383,
          1159.7386215923443,
          1240.908573028616,
          1394.7864646826863,
          1578.0494398766173,
          2530.1987703252507,
          6084.62307492645,
          7242.224925606011,
          8749.425868387796,
          9890.817737401532,
          15389.155994440363,
          17534.847075505357,
          19081.926233119593,
          25164.153285584976,
          28075.178075681062,
          28879.352085104332,
          31770.01478786934,
          35688.64707204769,
          34479.89483304453,
          29944.26180325453,
          30502.60046883207,
          31680.659740138293,
          29143.02180178569,
          28106.19838865041,
          24563.50060444623,
          21566.057048272138,
          19617.84470536362,
          17764.96962988285,
          16240.36981015619,
          15132.37997421416,
          14637.00734985946,
          14732.917816294108
         ],
         "yaxis": "y2"
        }
       ],
       "layout": {
        "annotations": [
         {
          "font": {},
          "showarrow": false,
          "text": "Country=China",
          "x": 0.245,
          "xanchor": "center",
          "xref": "paper",
          "y": 1,
          "yanchor": "bottom",
          "yref": "paper"
         },
         {
          "font": {},
          "showarrow": false,
          "text": "Country=Equatorial Guinea",
          "x": 0.755,
          "xanchor": "center",
          "xref": "paper",
          "y": 1,
          "yanchor": "bottom",
          "yref": "paper"
         }
        ],
        "legend": {
         "tracegroupgap": 0
        },
        "template": {
         "data": {
          "bar": [
           {
            "error_x": {
             "color": "#2a3f5f"
            },
            "error_y": {
             "color": "#2a3f5f"
            },
            "marker": {
             "line": {
              "color": "#E5ECF6",
              "width": 0.5
             },
             "pattern": {
              "fillmode": "overlay",
              "size": 10,
              "solidity": 0.2
             }
            },
            "type": "bar"
           }
          ],
          "barpolar": [
           {
            "marker": {
             "line": {
              "color": "#E5ECF6",
              "width": 0.5
             },
             "pattern": {
              "fillmode": "overlay",
              "size": 10,
              "solidity": 0.2
             }
            },
            "type": "barpolar"
           }
          ],
          "carpet": [
           {
            "aaxis": {
             "endlinecolor": "#2a3f5f",
             "gridcolor": "white",
             "linecolor": "white",
             "minorgridcolor": "white",
             "startlinecolor": "#2a3f5f"
            },
            "baxis": {
             "endlinecolor": "#2a3f5f",
             "gridcolor": "white",
             "linecolor": "white",
             "minorgridcolor": "white",
             "startlinecolor": "#2a3f5f"
            },
            "type": "carpet"
           }
          ],
          "choropleth": [
           {
            "colorbar": {
             "outlinewidth": 0,
             "ticks": ""
            },
            "type": "choropleth"
           }
          ],
          "contour": [
           {
            "colorbar": {
             "outlinewidth": 0,
             "ticks": ""
            },
            "colorscale": [
             [
              0,
              "#0d0887"
             ],
             [
              0.1111111111111111,
              "#46039f"
             ],
             [
              0.2222222222222222,
              "#7201a8"
             ],
             [
              0.3333333333333333,
              "#9c179e"
             ],
             [
              0.4444444444444444,
              "#bd3786"
             ],
             [
              0.5555555555555556,
              "#d8576b"
             ],
             [
              0.6666666666666666,
              "#ed7953"
             ],
             [
              0.7777777777777778,
              "#fb9f3a"
             ],
             [
              0.8888888888888888,
              "#fdca26"
             ],
             [
              1,
              "#f0f921"
             ]
            ],
            "type": "contour"
           }
          ],
          "contourcarpet": [
           {
            "colorbar": {
             "outlinewidth": 0,
             "ticks": ""
            },
            "type": "contourcarpet"
           }
          ],
          "heatmap": [
           {
            "colorbar": {
             "outlinewidth": 0,
             "ticks": ""
            },
            "colorscale": [
             [
              0,
              "#0d0887"
             ],
             [
              0.1111111111111111,
              "#46039f"
             ],
             [
              0.2222222222222222,
              "#7201a8"
             ],
             [
              0.3333333333333333,
              "#9c179e"
             ],
             [
              0.4444444444444444,
              "#bd3786"
             ],
             [
              0.5555555555555556,
              "#d8576b"
             ],
             [
              0.6666666666666666,
              "#ed7953"
             ],
             [
              0.7777777777777778,
              "#fb9f3a"
             ],
             [
              0.8888888888888888,
              "#fdca26"
             ],
             [
              1,
              "#f0f921"
             ]
            ],
            "type": "heatmap"
           }
          ],
          "heatmapgl": [
           {
            "colorbar": {
             "outlinewidth": 0,
             "ticks": ""
            },
            "colorscale": [
             [
              0,
              "#0d0887"
             ],
             [
              0.1111111111111111,
              "#46039f"
             ],
             [
              0.2222222222222222,
              "#7201a8"
             ],
             [
              0.3333333333333333,
              "#9c179e"
             ],
             [
              0.4444444444444444,
              "#bd3786"
             ],
             [
              0.5555555555555556,
              "#d8576b"
             ],
             [
              0.6666666666666666,
              "#ed7953"
             ],
             [
              0.7777777777777778,
              "#fb9f3a"
             ],
             [
              0.8888888888888888,
              "#fdca26"
             ],
             [
              1,
              "#f0f921"
             ]
            ],
            "type": "heatmapgl"
           }
          ],
          "histogram": [
           {
            "marker": {
             "pattern": {
              "fillmode": "overlay",
              "size": 10,
              "solidity": 0.2
             }
            },
            "type": "histogram"
           }
          ],
          "histogram2d": [
           {
            "colorbar": {
             "outlinewidth": 0,
             "ticks": ""
            },
            "colorscale": [
             [
              0,
              "#0d0887"
             ],
             [
              0.1111111111111111,
              "#46039f"
             ],
             [
              0.2222222222222222,
              "#7201a8"
             ],
             [
              0.3333333333333333,
              "#9c179e"
             ],
             [
              0.4444444444444444,
              "#bd3786"
             ],
             [
              0.5555555555555556,
              "#d8576b"
             ],
             [
              0.6666666666666666,
              "#ed7953"
             ],
             [
              0.7777777777777778,
              "#fb9f3a"
             ],
             [
              0.8888888888888888,
              "#fdca26"
             ],
             [
              1,
              "#f0f921"
             ]
            ],
            "type": "histogram2d"
           }
          ],
          "histogram2dcontour": [
           {
            "colorbar": {
             "outlinewidth": 0,
             "ticks": ""
            },
            "colorscale": [
             [
              0,
              "#0d0887"
             ],
             [
              0.1111111111111111,
              "#46039f"
             ],
             [
              0.2222222222222222,
              "#7201a8"
             ],
             [
              0.3333333333333333,
              "#9c179e"
             ],
             [
              0.4444444444444444,
              "#bd3786"
             ],
             [
              0.5555555555555556,
              "#d8576b"
             ],
             [
              0.6666666666666666,
              "#ed7953"
             ],
             [
              0.7777777777777778,
              "#fb9f3a"
             ],
             [
              0.8888888888888888,
              "#fdca26"
             ],
             [
              1,
              "#f0f921"
             ]
            ],
            "type": "histogram2dcontour"
           }
          ],
          "mesh3d": [
           {
            "colorbar": {
             "outlinewidth": 0,
             "ticks": ""
            },
            "type": "mesh3d"
           }
          ],
          "parcoords": [
           {
            "line": {
             "colorbar": {
              "outlinewidth": 0,
              "ticks": ""
             }
            },
            "type": "parcoords"
           }
          ],
          "pie": [
           {
            "automargin": true,
            "type": "pie"
           }
          ],
          "scatter": [
           {
            "fillpattern": {
             "fillmode": "overlay",
             "size": 10,
             "solidity": 0.2
            },
            "type": "scatter"
           }
          ],
          "scatter3d": [
           {
            "line": {
             "colorbar": {
              "outlinewidth": 0,
              "ticks": ""
             }
            },
            "marker": {
             "colorbar": {
              "outlinewidth": 0,
              "ticks": ""
             }
            },
            "type": "scatter3d"
           }
          ],
          "scattercarpet": [
           {
            "marker": {
             "colorbar": {
              "outlinewidth": 0,
              "ticks": ""
             }
            },
            "type": "scattercarpet"
           }
          ],
          "scattergeo": [
           {
            "marker": {
             "colorbar": {
              "outlinewidth": 0,
              "ticks": ""
             }
            },
            "type": "scattergeo"
           }
          ],
          "scattergl": [
           {
            "marker": {
             "colorbar": {
              "outlinewidth": 0,
              "ticks": ""
             }
            },
            "type": "scattergl"
           }
          ],
          "scattermapbox": [
           {
            "marker": {
             "colorbar": {
              "outlinewidth": 0,
              "ticks": ""
             }
            },
            "type": "scattermapbox"
           }
          ],
          "scatterpolar": [
           {
            "marker": {
             "colorbar": {
              "outlinewidth": 0,
              "ticks": ""
             }
            },
            "type": "scatterpolar"
           }
          ],
          "scatterpolargl": [
           {
            "marker": {
             "colorbar": {
              "outlinewidth": 0,
              "ticks": ""
             }
            },
            "type": "scatterpolargl"
           }
          ],
          "scatterternary": [
           {
            "marker": {
             "colorbar": {
              "outlinewidth": 0,
              "ticks": ""
             }
            },
            "type": "scatterternary"
           }
          ],
          "surface": [
           {
            "colorbar": {
             "outlinewidth": 0,
             "ticks": ""
            },
            "colorscale": [
             [
              0,
              "#0d0887"
             ],
             [
              0.1111111111111111,
              "#46039f"
             ],
             [
              0.2222222222222222,
              "#7201a8"
             ],
             [
              0.3333333333333333,
              "#9c179e"
             ],
             [
              0.4444444444444444,
              "#bd3786"
             ],
             [
              0.5555555555555556,
              "#d8576b"
             ],
             [
              0.6666666666666666,
              "#ed7953"
             ],
             [
              0.7777777777777778,
              "#fb9f3a"
             ],
             [
              0.8888888888888888,
              "#fdca26"
             ],
             [
              1,
              "#f0f921"
             ]
            ],
            "type": "surface"
           }
          ],
          "table": [
           {
            "cells": {
             "fill": {
              "color": "#EBF0F8"
             },
             "line": {
              "color": "white"
             }
            },
            "header": {
             "fill": {
              "color": "#C8D4E3"
             },
             "line": {
              "color": "white"
             }
            },
            "type": "table"
           }
          ]
         },
         "layout": {
          "annotationdefaults": {
           "arrowcolor": "#2a3f5f",
           "arrowhead": 0,
           "arrowwidth": 1
          },
          "autotypenumbers": "strict",
          "coloraxis": {
           "colorbar": {
            "outlinewidth": 0,
            "ticks": ""
           }
          },
          "colorscale": {
           "diverging": [
            [
             0,
             "#8e0152"
            ],
            [
             0.1,
             "#c51b7d"
            ],
            [
             0.2,
             "#de77ae"
            ],
            [
             0.3,
             "#f1b6da"
            ],
            [
             0.4,
             "#fde0ef"
            ],
            [
             0.5,
             "#f7f7f7"
            ],
            [
             0.6,
             "#e6f5d0"
            ],
            [
             0.7,
             "#b8e186"
            ],
            [
             0.8,
             "#7fbc41"
            ],
            [
             0.9,
             "#4d9221"
            ],
            [
             1,
             "#276419"
            ]
           ],
           "sequential": [
            [
             0,
             "#0d0887"
            ],
            [
             0.1111111111111111,
             "#46039f"
            ],
            [
             0.2222222222222222,
             "#7201a8"
            ],
            [
             0.3333333333333333,
             "#9c179e"
            ],
            [
             0.4444444444444444,
             "#bd3786"
            ],
            [
             0.5555555555555556,
             "#d8576b"
            ],
            [
             0.6666666666666666,
             "#ed7953"
            ],
            [
             0.7777777777777778,
             "#fb9f3a"
            ],
            [
             0.8888888888888888,
             "#fdca26"
            ],
            [
             1,
             "#f0f921"
            ]
           ],
           "sequentialminus": [
            [
             0,
             "#0d0887"
            ],
            [
             0.1111111111111111,
             "#46039f"
            ],
            [
             0.2222222222222222,
             "#7201a8"
            ],
            [
             0.3333333333333333,
             "#9c179e"
            ],
            [
             0.4444444444444444,
             "#bd3786"
            ],
            [
             0.5555555555555556,
             "#d8576b"
            ],
            [
             0.6666666666666666,
             "#ed7953"
            ],
            [
             0.7777777777777778,
             "#fb9f3a"
            ],
            [
             0.8888888888888888,
             "#fdca26"
            ],
            [
             1,
             "#f0f921"
            ]
           ]
          },
          "colorway": [
           "#636efa",
           "#EF553B",
           "#00cc96",
           "#ab63fa",
           "#FFA15A",
           "#19d3f3",
           "#FF6692",
           "#B6E880",
           "#FF97FF",
           "#FECB52"
          ],
          "font": {
           "color": "#2a3f5f"
          },
          "geo": {
           "bgcolor": "white",
           "lakecolor": "white",
           "landcolor": "#E5ECF6",
           "showlakes": true,
           "showland": true,
           "subunitcolor": "white"
          },
          "hoverlabel": {
           "align": "left"
          },
          "hovermode": "closest",
          "mapbox": {
           "style": "light"
          },
          "paper_bgcolor": "white",
          "plot_bgcolor": "#E5ECF6",
          "polar": {
           "angularaxis": {
            "gridcolor": "white",
            "linecolor": "white",
            "ticks": ""
           },
           "bgcolor": "#E5ECF6",
           "radialaxis": {
            "gridcolor": "white",
            "linecolor": "white",
            "ticks": ""
           }
          },
          "scene": {
           "xaxis": {
            "backgroundcolor": "#E5ECF6",
            "gridcolor": "white",
            "gridwidth": 2,
            "linecolor": "white",
            "showbackground": true,
            "ticks": "",
            "zerolinecolor": "white"
           },
           "yaxis": {
            "backgroundcolor": "#E5ECF6",
            "gridcolor": "white",
            "gridwidth": 2,
            "linecolor": "white",
            "showbackground": true,
            "ticks": "",
            "zerolinecolor": "white"
           },
           "zaxis": {
            "backgroundcolor": "#E5ECF6",
            "gridcolor": "white",
            "gridwidth": 2,
            "linecolor": "white",
            "showbackground": true,
            "ticks": "",
            "zerolinecolor": "white"
           }
          },
          "shapedefaults": {
           "line": {
            "color": "#2a3f5f"
           }
          },
          "ternary": {
           "aaxis": {
            "gridcolor": "white",
            "linecolor": "white",
            "ticks": ""
           },
           "baxis": {
            "gridcolor": "white",
            "linecolor": "white",
            "ticks": ""
           },
           "bgcolor": "#E5ECF6",
           "caxis": {
            "gridcolor": "white",
            "linecolor": "white",
            "ticks": ""
           }
          },
          "title": {
           "x": 0.05
          },
          "xaxis": {
           "automargin": true,
           "gridcolor": "white",
           "linecolor": "white",
           "ticks": "",
           "title": {
            "standoff": 15
           },
           "zerolinecolor": "white",
           "zerolinewidth": 2
          },
          "yaxis": {
           "automargin": true,
           "gridcolor": "white",
           "linecolor": "white",
           "ticks": "",
           "title": {
            "standoff": 15
           },
           "zerolinecolor": "white",
           "zerolinewidth": 2
          }
         }
        },
        "title": {
         "text": "Change in GDP per capita 1990 - 2022"
        },
        "xaxis": {
         "anchor": "y",
         "domain": [
          0,
          0.49
         ],
         "title": {
          "text": "Year"
         }
        },
        "xaxis2": {
         "anchor": "y2",
         "domain": [
          0.51,
          1
         ],
         "matches": "x",
         "title": {
          "text": "Year"
         }
        },
        "yaxis": {
         "anchor": "x",
         "domain": [
          0,
          1
         ],
         "title": {
          "text": "GDP_Per_Capita"
         }
        },
        "yaxis2": {
         "anchor": "x2",
         "domain": [
          0,
          1
         ],
         "matches": "y",
         "showticklabels": false
        }
       }
      }
     },
     "metadata": {},
     "output_type": "display_data"
    },
    {
     "data": {
      "application/vnd.plotly.v1+json": {
       "config": {
        "plotlyServerURL": "https://plot.ly"
       },
       "data": [
        {
         "hovertemplate": "Country=China<br>Year=%{x}<br>GDP_Per_Capita=%{y}<extra></extra>",
         "legendgroup": "China",
         "line": {
          "color": "#636efa",
          "dash": "solid"
         },
         "marker": {
          "symbol": "circle"
         },
         "mode": "lines",
         "name": "China",
         "orientation": "v",
         "showlegend": true,
         "type": "scatter",
         "x": [
          1990,
          1991,
          1992,
          1993,
          1994,
          1995,
          1996,
          1997,
          1998,
          1999,
          2000,
          2001,
          2002,
          2003,
          2004,
          2005,
          2006,
          2007,
          2008,
          2009,
          2010,
          2011,
          2012,
          2013,
          2014,
          2015,
          2016,
          2017,
          2018,
          2019,
          2020,
          2021,
          2022
         ],
         "xaxis": "x",
         "y": [
          1423.8963479071126,
          1534.7052715507218,
          1731.657215495066,
          1949.5342682330004,
          2178.9240567606007,
          2391.477115589357,
          2601.3634260738586,
          2812.711134594655,
          3004.427341547029,
          3206.7300257081815,
          3451.679230928577,
          3712.338132340694,
          4024.3556966354936,
          4400.82518341212,
          4817.211844527584,
          5334.646639381805,
          5979.781711825274,
          6795.174012379911,
          7412.87436349204,
          8069.354638377564,
          8884.588031226054,
          9680.097699616625,
          10370.726571679092,
          11101.938929993426,
          11851.40421757962,
          12612.351651241795,
          13399.137320274394,
          14243.532610849124,
          15133.995618232722,
          15977.763827987555,
          16296.609378967843,
          17657.49518086657,
          18187.978737053687
         ],
         "yaxis": "y"
        },
        {
         "hovertemplate": "Country=Equatorial Guinea<br>Year=%{x}<br>GDP_Per_Capita=%{y}<extra></extra>",
         "legendgroup": "Equatorial Guinea",
         "line": {
          "color": "#EF553B",
          "dash": "solid"
         },
         "marker": {
          "symbol": "circle"
         },
         "mode": "lines",
         "name": "Equatorial Guinea",
         "orientation": "v",
         "showlegend": true,
         "type": "scatter",
         "x": [
          1990,
          1991,
          1992,
          1993,
          1994,
          1995,
          1996,
          1997,
          1998,
          1999,
          2000,
          2001,
          2002,
          2003,
          2004,
          2005,
          2006,
          2007,
          2008,
          2009,
          2010,
          2011,
          2012,
          2013,
          2014,
          2015,
          2016,
          2017,
          2018,
          2019,
          2020,
          2021,
          2022
         ],
         "xaxis": "x",
         "y": [
          936.4197507129828,
          893.0973409787383,
          1159.7386215923443,
          1240.908573028616,
          1394.7864646826863,
          1578.0494398766173,
          2530.1987703252507,
          6084.62307492645,
          7242.224925606011,
          8749.425868387796,
          9890.817737401532,
          15389.155994440363,
          17534.847075505357,
          19081.926233119593,
          25164.153285584976,
          28075.178075681062,
          28879.352085104332,
          31770.01478786934,
          35688.64707204769,
          34479.89483304453,
          29944.26180325453,
          30502.60046883207,
          31680.659740138293,
          29143.02180178569,
          28106.19838865041,
          24563.50060444623,
          21566.057048272138,
          19617.84470536362,
          17764.96962988285,
          16240.36981015619,
          15132.37997421416,
          14637.00734985946,
          14732.917816294108
         ],
         "yaxis": "y"
        }
       ],
       "layout": {
        "legend": {
         "title": {
          "text": "Country"
         },
         "tracegroupgap": 0
        },
        "template": {
         "data": {
          "bar": [
           {
            "error_x": {
             "color": "#2a3f5f"
            },
            "error_y": {
             "color": "#2a3f5f"
            },
            "marker": {
             "line": {
              "color": "#E5ECF6",
              "width": 0.5
             },
             "pattern": {
              "fillmode": "overlay",
              "size": 10,
              "solidity": 0.2
             }
            },
            "type": "bar"
           }
          ],
          "barpolar": [
           {
            "marker": {
             "line": {
              "color": "#E5ECF6",
              "width": 0.5
             },
             "pattern": {
              "fillmode": "overlay",
              "size": 10,
              "solidity": 0.2
             }
            },
            "type": "barpolar"
           }
          ],
          "carpet": [
           {
            "aaxis": {
             "endlinecolor": "#2a3f5f",
             "gridcolor": "white",
             "linecolor": "white",
             "minorgridcolor": "white",
             "startlinecolor": "#2a3f5f"
            },
            "baxis": {
             "endlinecolor": "#2a3f5f",
             "gridcolor": "white",
             "linecolor": "white",
             "minorgridcolor": "white",
             "startlinecolor": "#2a3f5f"
            },
            "type": "carpet"
           }
          ],
          "choropleth": [
           {
            "colorbar": {
             "outlinewidth": 0,
             "ticks": ""
            },
            "type": "choropleth"
           }
          ],
          "contour": [
           {
            "colorbar": {
             "outlinewidth": 0,
             "ticks": ""
            },
            "colorscale": [
             [
              0,
              "#0d0887"
             ],
             [
              0.1111111111111111,
              "#46039f"
             ],
             [
              0.2222222222222222,
              "#7201a8"
             ],
             [
              0.3333333333333333,
              "#9c179e"
             ],
             [
              0.4444444444444444,
              "#bd3786"
             ],
             [
              0.5555555555555556,
              "#d8576b"
             ],
             [
              0.6666666666666666,
              "#ed7953"
             ],
             [
              0.7777777777777778,
              "#fb9f3a"
             ],
             [
              0.8888888888888888,
              "#fdca26"
             ],
             [
              1,
              "#f0f921"
             ]
            ],
            "type": "contour"
           }
          ],
          "contourcarpet": [
           {
            "colorbar": {
             "outlinewidth": 0,
             "ticks": ""
            },
            "type": "contourcarpet"
           }
          ],
          "heatmap": [
           {
            "colorbar": {
             "outlinewidth": 0,
             "ticks": ""
            },
            "colorscale": [
             [
              0,
              "#0d0887"
             ],
             [
              0.1111111111111111,
              "#46039f"
             ],
             [
              0.2222222222222222,
              "#7201a8"
             ],
             [
              0.3333333333333333,
              "#9c179e"
             ],
             [
              0.4444444444444444,
              "#bd3786"
             ],
             [
              0.5555555555555556,
              "#d8576b"
             ],
             [
              0.6666666666666666,
              "#ed7953"
             ],
             [
              0.7777777777777778,
              "#fb9f3a"
             ],
             [
              0.8888888888888888,
              "#fdca26"
             ],
             [
              1,
              "#f0f921"
             ]
            ],
            "type": "heatmap"
           }
          ],
          "heatmapgl": [
           {
            "colorbar": {
             "outlinewidth": 0,
             "ticks": ""
            },
            "colorscale": [
             [
              0,
              "#0d0887"
             ],
             [
              0.1111111111111111,
              "#46039f"
             ],
             [
              0.2222222222222222,
              "#7201a8"
             ],
             [
              0.3333333333333333,
              "#9c179e"
             ],
             [
              0.4444444444444444,
              "#bd3786"
             ],
             [
              0.5555555555555556,
              "#d8576b"
             ],
             [
              0.6666666666666666,
              "#ed7953"
             ],
             [
              0.7777777777777778,
              "#fb9f3a"
             ],
             [
              0.8888888888888888,
              "#fdca26"
             ],
             [
              1,
              "#f0f921"
             ]
            ],
            "type": "heatmapgl"
           }
          ],
          "histogram": [
           {
            "marker": {
             "pattern": {
              "fillmode": "overlay",
              "size": 10,
              "solidity": 0.2
             }
            },
            "type": "histogram"
           }
          ],
          "histogram2d": [
           {
            "colorbar": {
             "outlinewidth": 0,
             "ticks": ""
            },
            "colorscale": [
             [
              0,
              "#0d0887"
             ],
             [
              0.1111111111111111,
              "#46039f"
             ],
             [
              0.2222222222222222,
              "#7201a8"
             ],
             [
              0.3333333333333333,
              "#9c179e"
             ],
             [
              0.4444444444444444,
              "#bd3786"
             ],
             [
              0.5555555555555556,
              "#d8576b"
             ],
             [
              0.6666666666666666,
              "#ed7953"
             ],
             [
              0.7777777777777778,
              "#fb9f3a"
             ],
             [
              0.8888888888888888,
              "#fdca26"
             ],
             [
              1,
              "#f0f921"
             ]
            ],
            "type": "histogram2d"
           }
          ],
          "histogram2dcontour": [
           {
            "colorbar": {
             "outlinewidth": 0,
             "ticks": ""
            },
            "colorscale": [
             [
              0,
              "#0d0887"
             ],
             [
              0.1111111111111111,
              "#46039f"
             ],
             [
              0.2222222222222222,
              "#7201a8"
             ],
             [
              0.3333333333333333,
              "#9c179e"
             ],
             [
              0.4444444444444444,
              "#bd3786"
             ],
             [
              0.5555555555555556,
              "#d8576b"
             ],
             [
              0.6666666666666666,
              "#ed7953"
             ],
             [
              0.7777777777777778,
              "#fb9f3a"
             ],
             [
              0.8888888888888888,
              "#fdca26"
             ],
             [
              1,
              "#f0f921"
             ]
            ],
            "type": "histogram2dcontour"
           }
          ],
          "mesh3d": [
           {
            "colorbar": {
             "outlinewidth": 0,
             "ticks": ""
            },
            "type": "mesh3d"
           }
          ],
          "parcoords": [
           {
            "line": {
             "colorbar": {
              "outlinewidth": 0,
              "ticks": ""
             }
            },
            "type": "parcoords"
           }
          ],
          "pie": [
           {
            "automargin": true,
            "type": "pie"
           }
          ],
          "scatter": [
           {
            "fillpattern": {
             "fillmode": "overlay",
             "size": 10,
             "solidity": 0.2
            },
            "type": "scatter"
           }
          ],
          "scatter3d": [
           {
            "line": {
             "colorbar": {
              "outlinewidth": 0,
              "ticks": ""
             }
            },
            "marker": {
             "colorbar": {
              "outlinewidth": 0,
              "ticks": ""
             }
            },
            "type": "scatter3d"
           }
          ],
          "scattercarpet": [
           {
            "marker": {
             "colorbar": {
              "outlinewidth": 0,
              "ticks": ""
             }
            },
            "type": "scattercarpet"
           }
          ],
          "scattergeo": [
           {
            "marker": {
             "colorbar": {
              "outlinewidth": 0,
              "ticks": ""
             }
            },
            "type": "scattergeo"
           }
          ],
          "scattergl": [
           {
            "marker": {
             "colorbar": {
              "outlinewidth": 0,
              "ticks": ""
             }
            },
            "type": "scattergl"
           }
          ],
          "scattermapbox": [
           {
            "marker": {
             "colorbar": {
              "outlinewidth": 0,
              "ticks": ""
             }
            },
            "type": "scattermapbox"
           }
          ],
          "scatterpolar": [
           {
            "marker": {
             "colorbar": {
              "outlinewidth": 0,
              "ticks": ""
             }
            },
            "type": "scatterpolar"
           }
          ],
          "scatterpolargl": [
           {
            "marker": {
             "colorbar": {
              "outlinewidth": 0,
              "ticks": ""
             }
            },
            "type": "scatterpolargl"
           }
          ],
          "scatterternary": [
           {
            "marker": {
             "colorbar": {
              "outlinewidth": 0,
              "ticks": ""
             }
            },
            "type": "scatterternary"
           }
          ],
          "surface": [
           {
            "colorbar": {
             "outlinewidth": 0,
             "ticks": ""
            },
            "colorscale": [
             [
              0,
              "#0d0887"
             ],
             [
              0.1111111111111111,
              "#46039f"
             ],
             [
              0.2222222222222222,
              "#7201a8"
             ],
             [
              0.3333333333333333,
              "#9c179e"
             ],
             [
              0.4444444444444444,
              "#bd3786"
             ],
             [
              0.5555555555555556,
              "#d8576b"
             ],
             [
              0.6666666666666666,
              "#ed7953"
             ],
             [
              0.7777777777777778,
              "#fb9f3a"
             ],
             [
              0.8888888888888888,
              "#fdca26"
             ],
             [
              1,
              "#f0f921"
             ]
            ],
            "type": "surface"
           }
          ],
          "table": [
           {
            "cells": {
             "fill": {
              "color": "#EBF0F8"
             },
             "line": {
              "color": "white"
             }
            },
            "header": {
             "fill": {
              "color": "#C8D4E3"
             },
             "line": {
              "color": "white"
             }
            },
            "type": "table"
           }
          ]
         },
         "layout": {
          "annotationdefaults": {
           "arrowcolor": "#2a3f5f",
           "arrowhead": 0,
           "arrowwidth": 1
          },
          "autotypenumbers": "strict",
          "coloraxis": {
           "colorbar": {
            "outlinewidth": 0,
            "ticks": ""
           }
          },
          "colorscale": {
           "diverging": [
            [
             0,
             "#8e0152"
            ],
            [
             0.1,
             "#c51b7d"
            ],
            [
             0.2,
             "#de77ae"
            ],
            [
             0.3,
             "#f1b6da"
            ],
            [
             0.4,
             "#fde0ef"
            ],
            [
             0.5,
             "#f7f7f7"
            ],
            [
             0.6,
             "#e6f5d0"
            ],
            [
             0.7,
             "#b8e186"
            ],
            [
             0.8,
             "#7fbc41"
            ],
            [
             0.9,
             "#4d9221"
            ],
            [
             1,
             "#276419"
            ]
           ],
           "sequential": [
            [
             0,
             "#0d0887"
            ],
            [
             0.1111111111111111,
             "#46039f"
            ],
            [
             0.2222222222222222,
             "#7201a8"
            ],
            [
             0.3333333333333333,
             "#9c179e"
            ],
            [
             0.4444444444444444,
             "#bd3786"
            ],
            [
             0.5555555555555556,
             "#d8576b"
            ],
            [
             0.6666666666666666,
             "#ed7953"
            ],
            [
             0.7777777777777778,
             "#fb9f3a"
            ],
            [
             0.8888888888888888,
             "#fdca26"
            ],
            [
             1,
             "#f0f921"
            ]
           ],
           "sequentialminus": [
            [
             0,
             "#0d0887"
            ],
            [
             0.1111111111111111,
             "#46039f"
            ],
            [
             0.2222222222222222,
             "#7201a8"
            ],
            [
             0.3333333333333333,
             "#9c179e"
            ],
            [
             0.4444444444444444,
             "#bd3786"
            ],
            [
             0.5555555555555556,
             "#d8576b"
            ],
            [
             0.6666666666666666,
             "#ed7953"
            ],
            [
             0.7777777777777778,
             "#fb9f3a"
            ],
            [
             0.8888888888888888,
             "#fdca26"
            ],
            [
             1,
             "#f0f921"
            ]
           ]
          },
          "colorway": [
           "#636efa",
           "#EF553B",
           "#00cc96",
           "#ab63fa",
           "#FFA15A",
           "#19d3f3",
           "#FF6692",
           "#B6E880",
           "#FF97FF",
           "#FECB52"
          ],
          "font": {
           "color": "#2a3f5f"
          },
          "geo": {
           "bgcolor": "white",
           "lakecolor": "white",
           "landcolor": "#E5ECF6",
           "showlakes": true,
           "showland": true,
           "subunitcolor": "white"
          },
          "hoverlabel": {
           "align": "left"
          },
          "hovermode": "closest",
          "mapbox": {
           "style": "light"
          },
          "paper_bgcolor": "white",
          "plot_bgcolor": "#E5ECF6",
          "polar": {
           "angularaxis": {
            "gridcolor": "white",
            "linecolor": "white",
            "ticks": ""
           },
           "bgcolor": "#E5ECF6",
           "radialaxis": {
            "gridcolor": "white",
            "linecolor": "white",
            "ticks": ""
           }
          },
          "scene": {
           "xaxis": {
            "backgroundcolor": "#E5ECF6",
            "gridcolor": "white",
            "gridwidth": 2,
            "linecolor": "white",
            "showbackground": true,
            "ticks": "",
            "zerolinecolor": "white"
           },
           "yaxis": {
            "backgroundcolor": "#E5ECF6",
            "gridcolor": "white",
            "gridwidth": 2,
            "linecolor": "white",
            "showbackground": true,
            "ticks": "",
            "zerolinecolor": "white"
           },
           "zaxis": {
            "backgroundcolor": "#E5ECF6",
            "gridcolor": "white",
            "gridwidth": 2,
            "linecolor": "white",
            "showbackground": true,
            "ticks": "",
            "zerolinecolor": "white"
           }
          },
          "shapedefaults": {
           "line": {
            "color": "#2a3f5f"
           }
          },
          "ternary": {
           "aaxis": {
            "gridcolor": "white",
            "linecolor": "white",
            "ticks": ""
           },
           "baxis": {
            "gridcolor": "white",
            "linecolor": "white",
            "ticks": ""
           },
           "bgcolor": "#E5ECF6",
           "caxis": {
            "gridcolor": "white",
            "linecolor": "white",
            "ticks": ""
           }
          },
          "title": {
           "x": 0.05
          },
          "xaxis": {
           "automargin": true,
           "gridcolor": "white",
           "linecolor": "white",
           "ticks": "",
           "title": {
            "standoff": 15
           },
           "zerolinecolor": "white",
           "zerolinewidth": 2
          },
          "yaxis": {
           "automargin": true,
           "gridcolor": "white",
           "linecolor": "white",
           "ticks": "",
           "title": {
            "standoff": 15
           },
           "zerolinecolor": "white",
           "zerolinewidth": 2
          }
         }
        },
        "title": {
         "text": "Change in GDP per capita 1990 - 2022"
        },
        "xaxis": {
         "anchor": "y",
         "domain": [
          0,
          1
         ],
         "title": {
          "text": "Year"
         }
        },
        "yaxis": {
         "anchor": "x",
         "domain": [
          0,
          1
         ],
         "title": {
          "text": "GDP_Per_Capita"
         }
        }
       }
      }
     },
     "metadata": {},
     "output_type": "display_data"
    }
   ],
   "source": [
    "gdp_df_top_two = gdp_df[gdp_df['Country'].isin([highest_pct_change[0], second_pct_change[0]])].sort_values(['Country', 'Year'])\n",
    "gdp_df_top_two['Country'] = gdp_df_top_two['Country'].astype('category')\n",
    "gdp_df_top_two\n",
    "\n",
    "fig = px.line(gdp_df_top_two, x='Year', y='GDP_Per_Capita', facet_col='Country', title='Change in GDP per capita 1990 - 2022')\n",
    "fig2 = px.line(gdp_df_top_two, x='Year', y='GDP_Per_Capita', color = 'Country', title='Change in GDP per capita 1990 - 2022') \n",
    "display(fig)\n",
    "display(fig2)"
   ]
  },
  {
   "cell_type": "markdown",
   "id": "e17268d0",
   "metadata": {},
   "source": [
    "#### 17. Read in continents.csv contained in the `data` folder into a new dataframe called `continents`. We will be using this dataframe to add a new column to our dataset."
   ]
  },
  {
   "cell_type": "code",
   "execution_count": 18,
   "id": "48cd5d40",
   "metadata": {},
   "outputs": [
    {
     "data": {
      "text/html": [
       "<div>\n",
       "<style scoped>\n",
       "    .dataframe tbody tr th:only-of-type {\n",
       "        vertical-align: middle;\n",
       "    }\n",
       "\n",
       "    .dataframe tbody tr th {\n",
       "        vertical-align: top;\n",
       "    }\n",
       "\n",
       "    .dataframe thead th {\n",
       "        text-align: right;\n",
       "    }\n",
       "</style>\n",
       "<table border=\"1\" class=\"dataframe\">\n",
       "  <thead>\n",
       "    <tr style=\"text-align: right;\">\n",
       "      <th></th>\n",
       "      <th>Continent</th>\n",
       "      <th>Country</th>\n",
       "    </tr>\n",
       "  </thead>\n",
       "  <tbody>\n",
       "    <tr>\n",
       "      <th>0</th>\n",
       "      <td>Asia</td>\n",
       "      <td>Afghanistan</td>\n",
       "    </tr>\n",
       "    <tr>\n",
       "      <th>1</th>\n",
       "      <td>Europe</td>\n",
       "      <td>Albania</td>\n",
       "    </tr>\n",
       "    <tr>\n",
       "      <th>2</th>\n",
       "      <td>Africa</td>\n",
       "      <td>Algeria</td>\n",
       "    </tr>\n",
       "  </tbody>\n",
       "</table>\n",
       "</div>"
      ],
      "text/plain": [
       "  Continent      Country\n",
       "0      Asia  Afghanistan\n",
       "1    Europe      Albania\n",
       "2    Africa      Algeria"
      ]
     },
     "metadata": {},
     "output_type": "display_data"
    }
   ],
   "source": [
    "continents = pd.DataFrame(pd.read_csv(\"../data/continents.csv\"))\n",
    "display(continents.head(3))"
   ]
  },
  {
   "cell_type": "markdown",
   "id": "e1ad07d7",
   "metadata": {},
   "source": [
    "#### 18. Merge gdp_df and continents. Keep only the countries that appear in both data frames. Save the result back to gdp_df."
   ]
  },
  {
   "cell_type": "code",
   "execution_count": 19,
   "id": "c9a19829",
   "metadata": {},
   "outputs": [
    {
     "data": {
      "text/html": [
       "<div>\n",
       "<style scoped>\n",
       "    .dataframe tbody tr th:only-of-type {\n",
       "        vertical-align: middle;\n",
       "    }\n",
       "\n",
       "    .dataframe tbody tr th {\n",
       "        vertical-align: top;\n",
       "    }\n",
       "\n",
       "    .dataframe thead th {\n",
       "        text-align: right;\n",
       "    }\n",
       "</style>\n",
       "<table border=\"1\" class=\"dataframe\">\n",
       "  <thead>\n",
       "    <tr style=\"text-align: right;\">\n",
       "      <th></th>\n",
       "      <th>Country</th>\n",
       "      <th>Year</th>\n",
       "      <th>GDP_Per_Capita</th>\n",
       "      <th>Continent</th>\n",
       "    </tr>\n",
       "  </thead>\n",
       "  <tbody>\n",
       "    <tr>\n",
       "      <th>0</th>\n",
       "      <td>Afghanistan</td>\n",
       "      <td>2021</td>\n",
       "      <td>1517.016266</td>\n",
       "      <td>Asia</td>\n",
       "    </tr>\n",
       "    <tr>\n",
       "      <th>1</th>\n",
       "      <td>Afghanistan</td>\n",
       "      <td>2020</td>\n",
       "      <td>1968.341002</td>\n",
       "      <td>Asia</td>\n",
       "    </tr>\n",
       "    <tr>\n",
       "      <th>2</th>\n",
       "      <td>Afghanistan</td>\n",
       "      <td>2019</td>\n",
       "      <td>2079.921861</td>\n",
       "      <td>Asia</td>\n",
       "    </tr>\n",
       "    <tr>\n",
       "      <th>3</th>\n",
       "      <td>Afghanistan</td>\n",
       "      <td>2018</td>\n",
       "      <td>2060.698973</td>\n",
       "      <td>Asia</td>\n",
       "    </tr>\n",
       "    <tr>\n",
       "      <th>4</th>\n",
       "      <td>Afghanistan</td>\n",
       "      <td>2017</td>\n",
       "      <td>2096.093111</td>\n",
       "      <td>Asia</td>\n",
       "    </tr>\n",
       "  </tbody>\n",
       "</table>\n",
       "</div>"
      ],
      "text/plain": [
       "       Country  Year  GDP_Per_Capita Continent\n",
       "0  Afghanistan  2021     1517.016266      Asia\n",
       "1  Afghanistan  2020     1968.341002      Asia\n",
       "2  Afghanistan  2019     2079.921861      Asia\n",
       "3  Afghanistan  2018     2060.698973      Asia\n",
       "4  Afghanistan  2017     2096.093111      Asia"
      ]
     },
     "metadata": {},
     "output_type": "display_data"
    }
   ],
   "source": [
    "# merging the dataframes on the 'Country' column\n",
    "gdp_df = pd.merge(left=gdp_df, right=continents, on=\"Country\", how=\"inner\", validate='many_to_one')\n",
    "display(gdp_df.head(5))"
   ]
  },
  {
   "cell_type": "markdown",
   "id": "700a4ad8",
   "metadata": {},
   "source": [
    "#### 19. Determine the number of countries per continent. Create a bar chart showing this."
   ]
  },
  {
   "cell_type": "code",
   "execution_count": 20,
   "id": "8af91ef8",
   "metadata": {},
   "outputs": [
    {
     "data": {
      "image/png": "[encoded data removed]",
      "text/plain": [
       "<Figure size 640x480 with 1 Axes>"
      ]
     },
     "metadata": {},
     "output_type": "display_data"
    }
   ],
   "source": [
    "#y = gdp_df.drop_duplicates(subset=\"Country\")[\"Continent\"].value_counts()\n",
    "fig = (\n",
    "    plt.bar(gdp_df.drop_duplicates(subset=\"Country\")[\"Continent\"].value_counts().index,\n",
    "            gdp_df.drop_duplicates(subset=\"Country\")[\"Continent\"].value_counts(),\n",
    "            color=[\"r\", \"y\", \"g\", \"b\", \"c\", \"w\"])\n",
    ")\n",
    "plt.tight_layout()\n",
    "plt.xlabel(\"Continent\")\n",
    "plt.ylabel(\"Number of Countries\")\n",
    "plt.title(\"Number of countries in each continent\");"
   ]
  },
  {
   "cell_type": "markdown",
   "id": "a9aef4ad",
   "metadata": {},
   "source": [
    "##### Plotly used below for practice"
   ]
  },
  {
   "cell_type": "code",
   "execution_count": 21,
   "id": "16693fca",
   "metadata": {},
   "outputs": [
    {
     "data": {
      "application/vnd.plotly.v1+json": {
       "config": {
        "plotlyServerURL": "https://plot.ly"
       },
       "data": [
        {
         "alignmentgroup": "True",
         "bingroup": "x",
         "hovertemplate": "Continent=%{x}<br>count=%{y}<extra></extra>",
         "legendgroup": "Asia",
         "marker": {
          "color": "#636efa",
          "pattern": {
           "shape": ""
          }
         },
         "name": "Asia",
         "offsetgroup": "Asia",
         "orientation": "v",
         "showlegend": true,
         "type": "histogram",
         "x": [
          "Asia",
          "Asia",
          "Asia",
          "Asia",
          "Asia",
          "Asia",
          "Asia",
          "Asia",
          "Asia",
          "Asia",
          "Asia",
          "Asia",
          "Asia",
          "Asia",
          "Asia",
          "Asia",
          "Asia",
          "Asia",
          "Asia",
          "Asia",
          "Asia",
          "Asia",
          "Asia",
          "Asia",
          "Asia",
          "Asia",
          "Asia",
          "Asia",
          "Asia",
          "Asia",
          "Asia",
          "Asia",
          "Asia",
          "Asia",
          "Asia",
          "Asia",
          "Asia",
          "Asia",
          "Asia",
          "Asia",
          "Asia"
         ],
         "xaxis": "x",
         "yaxis": "y"
        },
        {
         "alignmentgroup": "True",
         "bingroup": "x",
         "hovertemplate": "Continent=%{x}<br>count=%{y}<extra></extra>",
         "legendgroup": "Europe",
         "marker": {
          "color": "#EF553B",
          "pattern": {
           "shape": ""
          }
         },
         "name": "Europe",
         "offsetgroup": "Europe",
         "orientation": "v",
         "showlegend": true,
         "type": "histogram",
         "x": [
          "Europe",
          "Europe",
          "Europe",
          "Europe",
          "Europe",
          "Europe",
          "Europe",
          "Europe",
          "Europe",
          "Europe",
          "Europe",
          "Europe",
          "Europe",
          "Europe",
          "Europe",
          "Europe",
          "Europe",
          "Europe",
          "Europe",
          "Europe",
          "Europe",
          "Europe",
          "Europe",
          "Europe",
          "Europe",
          "Europe",
          "Europe",
          "Europe",
          "Europe",
          "Europe",
          "Europe",
          "Europe",
          "Europe",
          "Europe",
          "Europe",
          "Europe",
          "Europe",
          "Europe",
          "Europe",
          "Europe",
          "Europe",
          "Europe",
          "Europe",
          "Europe"
         ],
         "xaxis": "x",
         "yaxis": "y"
        },
        {
         "alignmentgroup": "True",
         "bingroup": "x",
         "hovertemplate": "Continent=%{x}<br>count=%{y}<extra></extra>",
         "legendgroup": "Africa",
         "marker": {
          "color": "#00cc96",
          "pattern": {
           "shape": ""
          }
         },
         "name": "Africa",
         "offsetgroup": "Africa",
         "orientation": "v",
         "showlegend": true,
         "type": "histogram",
         "x": [
          "Africa",
          "Africa",
          "Africa",
          "Africa",
          "Africa",
          "Africa",
          "Africa",
          "Africa",
          "Africa",
          "Africa",
          "Africa",
          "Africa",
          "Africa",
          "Africa",
          "Africa",
          "Africa",
          "Africa",
          "Africa",
          "Africa",
          "Africa",
          "Africa",
          "Africa",
          "Africa",
          "Africa",
          "Africa",
          "Africa",
          "Africa",
          "Africa",
          "Africa",
          "Africa",
          "Africa",
          "Africa",
          "Africa",
          "Africa",
          "Africa",
          "Africa",
          "Africa",
          "Africa",
          "Africa",
          "Africa",
          "Africa",
          "Africa",
          "Africa",
          "Africa",
          "Africa",
          "Africa",
          "Africa",
          "Africa",
          "Africa",
          "Africa"
         ],
         "xaxis": "x",
         "yaxis": "y"
        },
        {
         "alignmentgroup": "True",
         "bingroup": "x",
         "hovertemplate": "Continent=%{x}<br>count=%{y}<extra></extra>",
         "legendgroup": "North America",
         "marker": {
          "color": "#ab63fa",
          "pattern": {
           "shape": ""
          }
         },
         "name": "North America",
         "offsetgroup": "North America",
         "orientation": "v",
         "showlegend": true,
         "type": "histogram",
         "x": [
          "North America",
          "North America",
          "North America",
          "North America",
          "North America",
          "North America",
          "North America",
          "North America",
          "North America",
          "North America",
          "North America",
          "North America",
          "North America",
          "North America",
          "North America",
          "North America",
          "North America",
          "North America",
          "North America",
          "North America",
          "North America",
          "North America",
          "North America",
          "North America",
          "North America",
          "North America"
         ],
         "xaxis": "x",
         "yaxis": "y"
        },
        {
         "alignmentgroup": "True",
         "bingroup": "x",
         "hovertemplate": "Continent=%{x}<br>count=%{y}<extra></extra>",
         "legendgroup": "South America",
         "marker": {
          "color": "#FFA15A",
          "pattern": {
           "shape": ""
          }
         },
         "name": "South America",
         "offsetgroup": "South America",
         "orientation": "v",
         "showlegend": true,
         "type": "histogram",
         "x": [
          "South America",
          "South America",
          "South America",
          "South America",
          "South America",
          "South America",
          "South America",
          "South America",
          "South America",
          "South America",
          "South America"
         ],
         "xaxis": "x",
         "yaxis": "y"
        },
        {
         "alignmentgroup": "True",
         "bingroup": "x",
         "hovertemplate": "Continent=%{x}<br>count=%{y}<extra></extra>",
         "legendgroup": "Oceania",
         "marker": {
          "color": "#19d3f3",
          "pattern": {
           "shape": ""
          }
         },
         "name": "Oceania",
         "offsetgroup": "Oceania",
         "orientation": "v",
         "showlegend": true,
         "type": "histogram",
         "x": [
          "Oceania",
          "Oceania",
          "Oceania",
          "Oceania",
          "Oceania",
          "Oceania",
          "Oceania",
          "Oceania",
          "Oceania",
          "Oceania",
          "Oceania",
          "Oceania",
          "Oceania",
          "Oceania"
         ],
         "xaxis": "x",
         "yaxis": "y"
        }
       ],
       "layout": {
        "barmode": "relative",
        "legend": {
         "title": {
          "text": "Continent"
         },
         "tracegroupgap": 0
        },
        "template": {
         "data": {
          "bar": [
           {
            "error_x": {
             "color": "#2a3f5f"
            },
            "error_y": {
             "color": "#2a3f5f"
            },
            "marker": {
             "line": {
              "color": "#E5ECF6",
              "width": 0.5
             },
             "pattern": {
              "fillmode": "overlay",
              "size": 10,
              "solidity": 0.2
             }
            },
            "type": "bar"
           }
          ],
          "barpolar": [
           {
            "marker": {
             "line": {
              "color": "#E5ECF6",
              "width": 0.5
             },
             "pattern": {
              "fillmode": "overlay",
              "size": 10,
              "solidity": 0.2
             }
            },
            "type": "barpolar"
           }
          ],
          "carpet": [
           {
            "aaxis": {
             "endlinecolor": "#2a3f5f",
             "gridcolor": "white",
             "linecolor": "white",
             "minorgridcolor": "white",
             "startlinecolor": "#2a3f5f"
            },
            "baxis": {
             "endlinecolor": "#2a3f5f",
             "gridcolor": "white",
             "linecolor": "white",
             "minorgridcolor": "white",
             "startlinecolor": "#2a3f5f"
            },
            "type": "carpet"
           }
          ],
          "choropleth": [
           {
            "colorbar": {
             "outlinewidth": 0,
             "ticks": ""
            },
            "type": "choropleth"
           }
          ],
          "contour": [
           {
            "colorbar": {
             "outlinewidth": 0,
             "ticks": ""
            },
            "colorscale": [
             [
              0,
              "#0d0887"
             ],
             [
              0.1111111111111111,
              "#46039f"
             ],
             [
              0.2222222222222222,
              "#7201a8"
             ],
             [
              0.3333333333333333,
              "#9c179e"
             ],
             [
              0.4444444444444444,
              "#bd3786"
             ],
             [
              0.5555555555555556,
              "#d8576b"
             ],
             [
              0.6666666666666666,
              "#ed7953"
             ],
             [
              0.7777777777777778,
              "#fb9f3a"
             ],
             [
              0.8888888888888888,
              "#fdca26"
             ],
             [
              1,
              "#f0f921"
             ]
            ],
            "type": "contour"
           }
          ],
          "contourcarpet": [
           {
            "colorbar": {
             "outlinewidth": 0,
             "ticks": ""
            },
            "type": "contourcarpet"
           }
          ],
          "heatmap": [
           {
            "colorbar": {
             "outlinewidth": 0,
             "ticks": ""
            },
            "colorscale": [
             [
              0,
              "#0d0887"
             ],
             [
              0.1111111111111111,
              "#46039f"
             ],
             [
              0.2222222222222222,
              "#7201a8"
             ],
             [
              0.3333333333333333,
              "#9c179e"
             ],
             [
              0.4444444444444444,
              "#bd3786"
             ],
             [
              0.5555555555555556,
              "#d8576b"
             ],
             [
              0.6666666666666666,
              "#ed7953"
             ],
             [
              0.7777777777777778,
              "#fb9f3a"
             ],
             [
              0.8888888888888888,
              "#fdca26"
             ],
             [
              1,
              "#f0f921"
             ]
            ],
            "type": "heatmap"
           }
          ],
          "heatmapgl": [
           {
            "colorbar": {
             "outlinewidth": 0,
             "ticks": ""
            },
            "colorscale": [
             [
              0,
              "#0d0887"
             ],
             [
              0.1111111111111111,
              "#46039f"
             ],
             [
              0.2222222222222222,
              "#7201a8"
             ],
             [
              0.3333333333333333,
              "#9c179e"
             ],
             [
              0.4444444444444444,
              "#bd3786"
             ],
             [
              0.5555555555555556,
              "#d8576b"
             ],
             [
              0.6666666666666666,
              "#ed7953"
             ],
             [
              0.7777777777777778,
              "#fb9f3a"
             ],
             [
              0.8888888888888888,
              "#fdca26"
             ],
             [
              1,
              "#f0f921"
             ]
            ],
            "type": "heatmapgl"
           }
          ],
          "histogram": [
           {
            "marker": {
             "pattern": {
              "fillmode": "overlay",
              "size": 10,
              "solidity": 0.2
             }
            },
            "type": "histogram"
           }
          ],
          "histogram2d": [
           {
            "colorbar": {
             "outlinewidth": 0,
             "ticks": ""
            },
            "colorscale": [
             [
              0,
              "#0d0887"
             ],
             [
              0.1111111111111111,
              "#46039f"
             ],
             [
              0.2222222222222222,
              "#7201a8"
             ],
             [
              0.3333333333333333,
              "#9c179e"
             ],
             [
              0.4444444444444444,
              "#bd3786"
             ],
             [
              0.5555555555555556,
              "#d8576b"
             ],
             [
              0.6666666666666666,
              "#ed7953"
             ],
             [
              0.7777777777777778,
              "#fb9f3a"
             ],
             [
              0.8888888888888888,
              "#fdca26"
             ],
             [
              1,
              "#f0f921"
             ]
            ],
            "type": "histogram2d"
           }
          ],
          "histogram2dcontour": [
           {
            "colorbar": {
             "outlinewidth": 0,
             "ticks": ""
            },
            "colorscale": [
             [
              0,
              "#0d0887"
             ],
             [
              0.1111111111111111,
              "#46039f"
             ],
             [
              0.2222222222222222,
              "#7201a8"
             ],
             [
              0.3333333333333333,
              "#9c179e"
             ],
             [
              0.4444444444444444,
              "#bd3786"
             ],
             [
              0.5555555555555556,
              "#d8576b"
             ],
             [
              0.6666666666666666,
              "#ed7953"
             ],
             [
              0.7777777777777778,
              "#fb9f3a"
             ],
             [
              0.8888888888888888,
              "#fdca26"
             ],
             [
              1,
              "#f0f921"
             ]
            ],
            "type": "histogram2dcontour"
           }
          ],
          "mesh3d": [
           {
            "colorbar": {
             "outlinewidth": 0,
             "ticks": ""
            },
            "type": "mesh3d"
           }
          ],
          "parcoords": [
           {
            "line": {
             "colorbar": {
              "outlinewidth": 0,
              "ticks": ""
             }
            },
            "type": "parcoords"
           }
          ],
          "pie": [
           {
            "automargin": true,
            "type": "pie"
           }
          ],
          "scatter": [
           {
            "fillpattern": {
             "fillmode": "overlay",
             "size": 10,
             "solidity": 0.2
            },
            "type": "scatter"
           }
          ],
          "scatter3d": [
           {
            "line": {
             "colorbar": {
              "outlinewidth": 0,
              "ticks": ""
             }
            },
            "marker": {
             "colorbar": {
              "outlinewidth": 0,
              "ticks": ""
             }
            },
            "type": "scatter3d"
           }
          ],
          "scattercarpet": [
           {
            "marker": {
             "colorbar": {
              "outlinewidth": 0,
              "ticks": ""
             }
            },
            "type": "scattercarpet"
           }
          ],
          "scattergeo": [
           {
            "marker": {
             "colorbar": {
              "outlinewidth": 0,
              "ticks": ""
             }
            },
            "type": "scattergeo"
           }
          ],
          "scattergl": [
           {
            "marker": {
             "colorbar": {
              "outlinewidth": 0,
              "ticks": ""
             }
            },
            "type": "scattergl"
           }
          ],
          "scattermapbox": [
           {
            "marker": {
             "colorbar": {
              "outlinewidth": 0,
              "ticks": ""
             }
            },
            "type": "scattermapbox"
           }
          ],
          "scatterpolar": [
           {
            "marker": {
             "colorbar": {
              "outlinewidth": 0,
              "ticks": ""
             }
            },
            "type": "scatterpolar"
           }
          ],
          "scatterpolargl": [
           {
            "marker": {
             "colorbar": {
              "outlinewidth": 0,
              "ticks": ""
             }
            },
            "type": "scatterpolargl"
           }
          ],
          "scatterternary": [
           {
            "marker": {
             "colorbar": {
              "outlinewidth": 0,
              "ticks": ""
             }
            },
            "type": "scatterternary"
           }
          ],
          "surface": [
           {
            "colorbar": {
             "outlinewidth": 0,
             "ticks": ""
            },
            "colorscale": [
             [
              0,
              "#0d0887"
             ],
             [
              0.1111111111111111,
              "#46039f"
             ],
             [
              0.2222222222222222,
              "#7201a8"
             ],
             [
              0.3333333333333333,
              "#9c179e"
             ],
             [
              0.4444444444444444,
              "#bd3786"
             ],
             [
              0.5555555555555556,
              "#d8576b"
             ],
             [
              0.6666666666666666,
              "#ed7953"
             ],
             [
              0.7777777777777778,
              "#fb9f3a"
             ],
             [
              0.8888888888888888,
              "#fdca26"
             ],
             [
              1,
              "#f0f921"
             ]
            ],
            "type": "surface"
           }
          ],
          "table": [
           {
            "cells": {
             "fill": {
              "color": "#EBF0F8"
             },
             "line": {
              "color": "white"
             }
            },
            "header": {
             "fill": {
              "color": "#C8D4E3"
             },
             "line": {
              "color": "white"
             }
            },
            "type": "table"
           }
          ]
         },
         "layout": {
          "annotationdefaults": {
           "arrowcolor": "#2a3f5f",
           "arrowhead": 0,
           "arrowwidth": 1
          },
          "autotypenumbers": "strict",
          "coloraxis": {
           "colorbar": {
            "outlinewidth": 0,
            "ticks": ""
           }
          },
          "colorscale": {
           "diverging": [
            [
             0,
             "#8e0152"
            ],
            [
             0.1,
             "#c51b7d"
            ],
            [
             0.2,
             "#de77ae"
            ],
            [
             0.3,
             "#f1b6da"
            ],
            [
             0.4,
             "#fde0ef"
            ],
            [
             0.5,
             "#f7f7f7"
            ],
            [
             0.6,
             "#e6f5d0"
            ],
            [
             0.7,
             "#b8e186"
            ],
            [
             0.8,
             "#7fbc41"
            ],
            [
             0.9,
             "#4d9221"
            ],
            [
             1,
             "#276419"
            ]
           ],
           "sequential": [
            [
             0,
             "#0d0887"
            ],
            [
             0.1111111111111111,
             "#46039f"
            ],
            [
             0.2222222222222222,
             "#7201a8"
            ],
            [
             0.3333333333333333,
             "#9c179e"
            ],
            [
             0.4444444444444444,
             "#bd3786"
            ],
            [
             0.5555555555555556,
             "#d8576b"
            ],
            [
             0.6666666666666666,
             "#ed7953"
            ],
            [
             0.7777777777777778,
             "#fb9f3a"
            ],
            [
             0.8888888888888888,
             "#fdca26"
            ],
            [
             1,
             "#f0f921"
            ]
           ],
           "sequentialminus": [
            [
             0,
             "#0d0887"
            ],
            [
             0.1111111111111111,
             "#46039f"
            ],
            [
             0.2222222222222222,
             "#7201a8"
            ],
            [
             0.3333333333333333,
             "#9c179e"
            ],
            [
             0.4444444444444444,
             "#bd3786"
            ],
            [
             0.5555555555555556,
             "#d8576b"
            ],
            [
             0.6666666666666666,
             "#ed7953"
            ],
            [
             0.7777777777777778,
             "#fb9f3a"
            ],
            [
             0.8888888888888888,
             "#fdca26"
            ],
            [
             1,
             "#f0f921"
            ]
           ]
          },
          "colorway": [
           "#636efa",
           "#EF553B",
           "#00cc96",
           "#ab63fa",
           "#FFA15A",
           "#19d3f3",
           "#FF6692",
           "#B6E880",
           "#FF97FF",
           "#FECB52"
          ],
          "font": {
           "color": "#2a3f5f"
          },
          "geo": {
           "bgcolor": "white",
           "lakecolor": "white",
           "landcolor": "#E5ECF6",
           "showlakes": true,
           "showland": true,
           "subunitcolor": "white"
          },
          "hoverlabel": {
           "align": "left"
          },
          "hovermode": "closest",
          "mapbox": {
           "style": "light"
          },
          "paper_bgcolor": "white",
          "plot_bgcolor": "#E5ECF6",
          "polar": {
           "angularaxis": {
            "gridcolor": "white",
            "linecolor": "white",
            "ticks": ""
           },
           "bgcolor": "#E5ECF6",
           "radialaxis": {
            "gridcolor": "white",
            "linecolor": "white",
            "ticks": ""
           }
          },
          "scene": {
           "xaxis": {
            "backgroundcolor": "#E5ECF6",
            "gridcolor": "white",
            "gridwidth": 2,
            "linecolor": "white",
            "showbackground": true,
            "ticks": "",
            "zerolinecolor": "white"
           },
           "yaxis": {
            "backgroundcolor": "#E5ECF6",
            "gridcolor": "white",
            "gridwidth": 2,
            "linecolor": "white",
            "showbackground": true,
            "ticks": "",
            "zerolinecolor": "white"
           },
           "zaxis": {
            "backgroundcolor": "#E5ECF6",
            "gridcolor": "white",
            "gridwidth": 2,
            "linecolor": "white",
            "showbackground": true,
            "ticks": "",
            "zerolinecolor": "white"
           }
          },
          "shapedefaults": {
           "line": {
            "color": "#2a3f5f"
           }
          },
          "ternary": {
           "aaxis": {
            "gridcolor": "white",
            "linecolor": "white",
            "ticks": ""
           },
           "baxis": {
            "gridcolor": "white",
            "linecolor": "white",
            "ticks": ""
           },
           "bgcolor": "#E5ECF6",
           "caxis": {
            "gridcolor": "white",
            "linecolor": "white",
            "ticks": ""
           }
          },
          "title": {
           "x": 0.05
          },
          "xaxis": {
           "automargin": true,
           "gridcolor": "white",
           "linecolor": "white",
           "ticks": "",
           "title": {
            "standoff": 15
           },
           "zerolinecolor": "white",
           "zerolinewidth": 2
          },
          "yaxis": {
           "automargin": true,
           "gridcolor": "white",
           "linecolor": "white",
           "ticks": "",
           "title": {
            "standoff": 15
           },
           "zerolinecolor": "white",
           "zerolinewidth": 2
          }
         }
        },
        "title": {
         "text": "Number of countries in each continent"
        },
        "xaxis": {
         "anchor": "y",
         "categoryarray": [
          "Asia",
          "Europe",
          "Africa",
          "North America",
          "South America",
          "Oceania"
         ],
         "categoryorder": "total descending",
         "domain": [
          0,
          1
         ],
         "title": {
          "text": "Continent"
         }
        },
        "yaxis": {
         "anchor": "x",
         "domain": [
          0,
          1
         ],
         "title": {
          "text": "Number of countries"
         }
        }
       }
      }
     },
     "metadata": {},
     "output_type": "display_data"
    }
   ],
   "source": [
    "fig = (\n",
    "    px.histogram(\n",
    "        gdp_df.drop_duplicates(subset=\"Country\")[\"Continent\"],\n",
    "        x=\"Continent\",\n",
    "        title=\"Number of countries in each continent\",\n",
    "        color=\"Continent\",\n",
    "    )\n",
    "    .update_xaxes(categoryorder=\"total descending\")\n",
    "    .update_layout(yaxis_title=\"Number of countries\")\n",
    ")\n",
    "\n",
    "fig"
   ]
  },
  {
   "cell_type": "markdown",
   "id": "5be2ed12",
   "metadata": {},
   "source": [
    "#### 20. Create a seaborn boxplot showing GDP per capita in 2021 split out by continent. What do you notice?"
   ]
  },
  {
   "cell_type": "code",
   "execution_count": 22,
   "id": "0de3fe83",
   "metadata": {},
   "outputs": [
    {
     "data": {
      "image/png": "[encoded data removed]",
      "text/plain": [
       "<Figure size 900x500 with 1 Axes>"
      ]
     },
     "metadata": {},
     "output_type": "display_data"
    }
   ],
   "source": [
    "plt.figure(figsize=(9,5))\n",
    "sns.boxplot(\n",
    "    data= gdp_df[gdp_df['Year']==2021],\n",
    "    x='Continent',\n",
    "    y='GDP_Per_Capita'\n",
    ")\n",
    "plt.tight_layout()\n",
    "plt.xticks(rotation=45)\n",
    "plt.ylabel(\"GDP Per Capita\")\n",
    "plt.xlabel(\"Continent\")\n",
    "plt.title(\"2021 GDP Per Capita by Continent\");"
   ]
  },
  {
   "cell_type": "markdown",
   "id": "200b4fa9",
   "metadata": {},
   "source": [
    "- **every continent has high gdp countries that produce well outside the upper whisker limit**\n",
    "- **the IQR for Asia, North America, and Europe are much bigger, suggesting more variability in the GDP per capita on those continents**\n",
    "- **Africa, Oceania, and South America have smaller IQR and range in general indicating less variability in the AGDP for those continents**"
   ]
  },
  {
   "cell_type": "markdown",
   "id": "f648a27d",
   "metadata": {},
   "source": [
    "##### Plotly used below for practice"
   ]
  },
  {
   "cell_type": "code",
   "execution_count": 23,
   "id": "b3e15ee7",
   "metadata": {},
   "outputs": [
    {
     "data": {
      "application/vnd.plotly.v1+json": {
       "config": {
        "plotlyServerURL": "https://plot.ly"
       },
       "data": [
        {
         "alignmentgroup": "True",
         "hovertemplate": "Continent=%{x}<br>GDP_Per_Capita=%{y}<extra></extra>",
         "legendgroup": "Asia",
         "marker": {
          "color": "#636efa"
         },
         "name": "Asia",
         "notched": false,
         "offsetgroup": "Asia",
         "orientation": "v",
         "showlegend": true,
         "type": "box",
         "x": [
          "Asia",
          "Asia",
          "Asia",
          "Asia",
          "Asia",
          "Asia",
          "Asia",
          "Asia",
          "Asia",
          "Asia",
          "Asia",
          "Asia",
          "Asia",
          "Asia",
          "Asia",
          "Asia",
          "Asia",
          "Asia",
          "Asia",
          "Asia",
          "Asia",
          "Asia",
          "Asia",
          "Asia",
          "Asia",
          "Asia",
          "Asia",
          "Asia",
          "Asia",
          "Asia",
          "Asia",
          "Asia",
          "Asia",
          "Asia",
          "Asia",
          "Asia",
          "Asia",
          "Asia",
          "Asia",
          "Asia"
         ],
         "x0": " ",
         "xaxis": "x",
         "y": [
          1517.0162662229004,
          49754.04773704288,
          5911.01299624227,
          10907.856709608446,
          60127.023688627145,
          4354.565206282032,
          17657.49518086657,
          60037.4458768956,
          6677.185030857757,
          11859.436322952586,
          15004.687971136336,
          8786.582352320067,
          42409.47604043157,
          41034.65678030328,
          9203.271009827204,
          26110.53004091895,
          44232.20572534866,
          45652.27840098899,
          4933.785650155733,
          7846.97502229276,
          12986.912832506738,
          64796.99513698751,
          26333.159001005617,
          18765.21635112314,
          11668.43041758818,
          4032.625652525765,
          3853.6802963405535,
          34294.76467280447,
          5232.142773174585,
          8095.579567437582,
          92862.57179806977,
          46587.15277104336,
          107741.11843590894,
          13250.629848134558,
          3910.4627176377567,
          17087.210954272807,
          5032.4102225066445,
          69733.79377435385,
          7800.501501009317,
          5641.044400464515
         ],
         "y0": " ",
         "yaxis": "y"
        },
        {
         "alignmentgroup": "True",
         "hovertemplate": "Continent=%{x}<br>GDP_Per_Capita=%{y}<extra></extra>",
         "legendgroup": "Europe",
         "marker": {
          "color": "#EF553B"
         },
         "name": "Europe",
         "notched": false,
         "offsetgroup": "Europe",
         "orientation": "v",
         "showlegend": true,
         "type": "box",
         "x": [
          "Europe",
          "Europe",
          "Europe",
          "Europe",
          "Europe",
          "Europe",
          "Europe",
          "Europe",
          "Europe",
          "Europe",
          "Europe",
          "Europe",
          "Europe",
          "Europe",
          "Europe",
          "Europe",
          "Europe",
          "Europe",
          "Europe",
          "Europe",
          "Europe",
          "Europe",
          "Europe",
          "Europe",
          "Europe",
          "Europe",
          "Europe",
          "Europe",
          "Europe",
          "Europe",
          "Europe",
          "Europe",
          "Europe",
          "Europe",
          "Europe",
          "Europe",
          "Europe",
          "Europe",
          "Europe",
          "Europe",
          "Europe",
          "Europe",
          "Europe",
          "Europe"
         ],
         "x0": " ",
         "xaxis": "x",
         "y": [
          14595.944385954315,
          14193.116834061891,
          54121.14554204965,
          14433.904206035546,
          19872.69249520087,
          51823.50752959029,
          15893.060102042558,
          24393.775534638506,
          31793.226112243126,
          41694.2578125,
          57962.65409438128,
          38717.6961505119,
          48713.29148858533,
          44993.12594552616,
          15486.65898062151,
          53179.65440475146,
          29548.038910221658,
          33619.6266459951,
          53003.17040768648,
          102785.49023869034,
          42055.54240924128,
          11884.179915389665,
          32080.20381792812,
          39305.42262641085,
          115683.49370826466,
          45571.58525825139,
          13602.33345740702,
          20710.41347511285,
          56617.351792442154,
          16708.537207420057,
          65909.00303028169,
          34915.5390556534,
          33681.02883171325,
          30974.37069212964,
          28193.837890625,
          61609.01217925219,
          19827.756849927235,
          32534.95380657595,
          40036.485435638904,
          37933.47020964907,
          53771.98133093748,
          70097.36875288289,
          12949.326171875,
          44949.09303522898
         ],
         "y0": " ",
         "yaxis": "y"
        },
        {
         "alignmentgroup": "True",
         "hovertemplate": "Continent=%{x}<br>GDP_Per_Capita=%{y}<extra></extra>",
         "legendgroup": "Africa",
         "marker": {
          "color": "#00cc96"
         },
         "name": "Africa",
         "notched": false,
         "offsetgroup": "Africa",
         "orientation": "v",
         "showlegend": true,
         "type": "box",
         "x": [
          "Africa",
          "Africa",
          "Africa",
          "Africa",
          "Africa",
          "Africa",
          "Africa",
          "Africa",
          "Africa",
          "Africa",
          "Africa",
          "Africa",
          "Africa",
          "Africa",
          "Africa",
          "Africa",
          "Africa",
          "Africa",
          "Africa",
          "Africa",
          "Africa",
          "Africa",
          "Africa",
          "Africa",
          "Africa",
          "Africa",
          "Africa",
          "Africa",
          "Africa",
          "Africa",
          "Africa",
          "Africa",
          "Africa",
          "Africa",
          "Africa",
          "Africa",
          "Africa",
          "Africa",
          "Africa",
          "Africa",
          "Africa",
          "Africa",
          "Africa",
          "Africa",
          "Africa",
          "Africa",
          "Africa",
          "Africa",
          "Africa",
          "Africa"
         ],
         "x0": " ",
         "xaxis": "x",
         "y": [
          11029.138782119184,
          5911.835657384446,
          3321.5521744596235,
          14907.085768038569,
          2179.7890386663857,
          714.0667123775538,
          6592.855522109262,
          3700.4642891129806,
          837.5046857253758,
          1425.494512453975,
          3228.5268583001853,
          3234.392971927634,
          1073.6432710427357,
          4912.671543460476,
          12180.451645243606,
          14637.00734985946,
          8856.82896802352,
          2319.161063435332,
          13814.495200330592,
          5435.237684797212,
          2640.3441909513695,
          1831.383228802076,
          4745.637033429038,
          2292.8527189440197,
          1423.2295889040297,
          20273.88124771671,
          1482.376159094939,
          1491.133687668635,
          2120.623301230112,
          5307.521902027302,
          20901.875085471016,
          8058.39697265625,
          1226.766964489864,
          9208.5830291537,
          1186.576808845348,
          4922.632452286354,
          2237.70321395485,
          3511.6374237336136,
          27643.35453404787,
          1614.8598301377122,
          1136.7359890131097,
          13311.925698786346,
          3701.06909179688,
          2583.34448242188,
          2076.5664328234097,
          2136.6261884671567,
          10395.914297791363,
          2246.414110773397,
          3236.7889807777906,
          2115.1445549070004
         ],
         "y0": " ",
         "yaxis": "y"
        },
        {
         "alignmentgroup": "True",
         "hovertemplate": "Continent=%{x}<br>GDP_Per_Capita=%{y}<extra></extra>",
         "legendgroup": "North America",
         "marker": {
          "color": "#ab63fa"
         },
         "name": "North America",
         "notched": false,
         "offsetgroup": "North America",
         "orientation": "v",
         "showlegend": true,
         "type": "box",
         "x": [
          "North America",
          "North America",
          "North America",
          "North America",
          "North America",
          "North America",
          "North America",
          "North America",
          "North America",
          "North America",
          "North America",
          "North America",
          "North America",
          "North America",
          "North America",
          "North America",
          "North America",
          "North America",
          "North America",
          "North America",
          "North America",
          "North America",
          "North America",
          "North America",
          "North America",
          "North America"
         ],
         "x0": " ",
         "xaxis": "x",
         "y": [
          19899.88242535308,
          38866.33348619666,
          13754.802423178116,
          8762.24053675135,
          78570.48951483957,
          48218.03831576798,
          69400.66666123806,
          21189.695663489412,
          10899.414529565684,
          18626.078683118227,
          9191.604049216914,
          13688.29770931014,
          8927.30195533989,
          2881.17657533473,
          5572.176988026107,
          9607.227253664974,
          19086.10468025631,
          5692.021327080314,
          30416.79349540267,
          32766.665891112523,
          26486.132581465587,
          13045.931706010211,
          13833.83127774133,
          30053.032393498295,
          23037.143296211056,
          63635.82381040801
         ],
         "y0": " ",
         "yaxis": "y"
        },
        {
         "alignmentgroup": "True",
         "hovertemplate": "Continent=%{x}<br>GDP_Per_Capita=%{y}<extra></extra>",
         "legendgroup": "South America",
         "marker": {
          "color": "#FFA15A"
         },
         "name": "South America",
         "notched": false,
         "offsetgroup": "South America",
         "orientation": "v",
         "showlegend": true,
         "type": "box",
         "x": [
          "South America",
          "South America",
          "South America",
          "South America",
          "South America",
          "South America",
          "South America",
          "South America",
          "South America",
          "South America",
          "South America"
         ],
         "x0": " ",
         "xaxis": "x",
         "y": [
          21527.196136701514,
          8052.177441439303,
          14735.58178301524,
          25412.75207256649,
          14661.213243538055,
          10668.758291422186,
          21925.18685873826,
          13676.390206503818,
          12533.841417095811,
          14766.748001298314,
          23257.256408814897
         ],
         "y0": " ",
         "yaxis": "y"
        },
        {
         "alignmentgroup": "True",
         "hovertemplate": "Continent=%{x}<br>GDP_Per_Capita=%{y}<extra></extra>",
         "legendgroup": "Oceania",
         "marker": {
          "color": "#19d3f3"
         },
         "name": "Oceania",
         "notched": false,
         "offsetgroup": "Oceania",
         "orientation": "v",
         "showlegend": true,
         "type": "box",
         "x": [
          "Oceania",
          "Oceania",
          "Oceania",
          "Oceania",
          "Oceania",
          "Oceania",
          "Oceania",
          "Oceania",
          "Oceania",
          "Oceania",
          "Oceania",
          "Oceania",
          "Oceania",
          "Oceania"
         ],
         "x0": " ",
         "xaxis": "x",
         "y": [
          49774.340701916655,
          10359.203697766028,
          2007.9870377941893,
          5961.919858574647,
          3315.2876976957104,
          10989.622079088298,
          44041.902808568666,
          13785.636490939616,
          3670.1909102748946,
          5534.222888832896,
          2397.322823724868,
          6142.963536516776,
          4604.401249085398,
          2800.493865507552
         ],
         "y0": " ",
         "yaxis": "y"
        }
       ],
       "layout": {
        "boxmode": "overlay",
        "legend": {
         "title": {
          "text": "Continent"
         },
         "tracegroupgap": 0
        },
        "template": {
         "data": {
          "bar": [
           {
            "error_x": {
             "color": "#2a3f5f"
            },
            "error_y": {
             "color": "#2a3f5f"
            },
            "marker": {
             "line": {
              "color": "#E5ECF6",
              "width": 0.5
             },
             "pattern": {
              "fillmode": "overlay",
              "size": 10,
              "solidity": 0.2
             }
            },
            "type": "bar"
           }
          ],
          "barpolar": [
           {
            "marker": {
             "line": {
              "color": "#E5ECF6",
              "width": 0.5
             },
             "pattern": {
              "fillmode": "overlay",
              "size": 10,
              "solidity": 0.2
             }
            },
            "type": "barpolar"
           }
          ],
          "carpet": [
           {
            "aaxis": {
             "endlinecolor": "#2a3f5f",
             "gridcolor": "white",
             "linecolor": "white",
             "minorgridcolor": "white",
             "startlinecolor": "#2a3f5f"
            },
            "baxis": {
             "endlinecolor": "#2a3f5f",
             "gridcolor": "white",
             "linecolor": "white",
             "minorgridcolor": "white",
             "startlinecolor": "#2a3f5f"
            },
            "type": "carpet"
           }
          ],
          "choropleth": [
           {
            "colorbar": {
             "outlinewidth": 0,
             "ticks": ""
            },
            "type": "choropleth"
           }
          ],
          "contour": [
           {
            "colorbar": {
             "outlinewidth": 0,
             "ticks": ""
            },
            "colorscale": [
             [
              0,
              "#0d0887"
             ],
             [
              0.1111111111111111,
              "#46039f"
             ],
             [
              0.2222222222222222,
              "#7201a8"
             ],
             [
              0.3333333333333333,
              "#9c179e"
             ],
             [
              0.4444444444444444,
              "#bd3786"
             ],
             [
              0.5555555555555556,
              "#d8576b"
             ],
             [
              0.6666666666666666,
              "#ed7953"
             ],
             [
              0.7777777777777778,
              "#fb9f3a"
             ],
             [
              0.8888888888888888,
              "#fdca26"
             ],
             [
              1,
              "#f0f921"
             ]
            ],
            "type": "contour"
           }
          ],
          "contourcarpet": [
           {
            "colorbar": {
             "outlinewidth": 0,
             "ticks": ""
            },
            "type": "contourcarpet"
           }
          ],
          "heatmap": [
           {
            "colorbar": {
             "outlinewidth": 0,
             "ticks": ""
            },
            "colorscale": [
             [
              0,
              "#0d0887"
             ],
             [
              0.1111111111111111,
              "#46039f"
             ],
             [
              0.2222222222222222,
              "#7201a8"
             ],
             [
              0.3333333333333333,
              "#9c179e"
             ],
             [
              0.4444444444444444,
              "#bd3786"
             ],
             [
              0.5555555555555556,
              "#d8576b"
             ],
             [
              0.6666666666666666,
              "#ed7953"
             ],
             [
              0.7777777777777778,
              "#fb9f3a"
             ],
             [
              0.8888888888888888,
              "#fdca26"
             ],
             [
              1,
              "#f0f921"
             ]
            ],
            "type": "heatmap"
           }
          ],
          "heatmapgl": [
           {
            "colorbar": {
             "outlinewidth": 0,
             "ticks": ""
            },
            "colorscale": [
             [
              0,
              "#0d0887"
             ],
             [
              0.1111111111111111,
              "#46039f"
             ],
             [
              0.2222222222222222,
              "#7201a8"
             ],
             [
              0.3333333333333333,
              "#9c179e"
             ],
             [
              0.4444444444444444,
              "#bd3786"
             ],
             [
              0.5555555555555556,
              "#d8576b"
             ],
             [
              0.6666666666666666,
              "#ed7953"
             ],
             [
              0.7777777777777778,
              "#fb9f3a"
             ],
             [
              0.8888888888888888,
              "#fdca26"
             ],
             [
              1,
              "#f0f921"
             ]
            ],
            "type": "heatmapgl"
           }
          ],
          "histogram": [
           {
            "marker": {
             "pattern": {
              "fillmode": "overlay",
              "size": 10,
              "solidity": 0.2
             }
            },
            "type": "histogram"
           }
          ],
          "histogram2d": [
           {
            "colorbar": {
             "outlinewidth": 0,
             "ticks": ""
            },
            "colorscale": [
             [
              0,
              "#0d0887"
             ],
             [
              0.1111111111111111,
              "#46039f"
             ],
             [
              0.2222222222222222,
              "#7201a8"
             ],
             [
              0.3333333333333333,
              "#9c179e"
             ],
             [
              0.4444444444444444,
              "#bd3786"
             ],
             [
              0.5555555555555556,
              "#d8576b"
             ],
             [
              0.6666666666666666,
              "#ed7953"
             ],
             [
              0.7777777777777778,
              "#fb9f3a"
             ],
             [
              0.8888888888888888,
              "#fdca26"
             ],
             [
              1,
              "#f0f921"
             ]
            ],
            "type": "histogram2d"
           }
          ],
          "histogram2dcontour": [
           {
            "colorbar": {
             "outlinewidth": 0,
             "ticks": ""
            },
            "colorscale": [
             [
              0,
              "#0d0887"
             ],
             [
              0.1111111111111111,
              "#46039f"
             ],
             [
              0.2222222222222222,
              "#7201a8"
             ],
             [
              0.3333333333333333,
              "#9c179e"
             ],
             [
              0.4444444444444444,
              "#bd3786"
             ],
             [
              0.5555555555555556,
              "#d8576b"
             ],
             [
              0.6666666666666666,
              "#ed7953"
             ],
             [
              0.7777777777777778,
              "#fb9f3a"
             ],
             [
              0.8888888888888888,
              "#fdca26"
             ],
             [
              1,
              "#f0f921"
             ]
            ],
            "type": "histogram2dcontour"
           }
          ],
          "mesh3d": [
           {
            "colorbar": {
             "outlinewidth": 0,
             "ticks": ""
            },
            "type": "mesh3d"
           }
          ],
          "parcoords": [
           {
            "line": {
             "colorbar": {
              "outlinewidth": 0,
              "ticks": ""
             }
            },
            "type": "parcoords"
           }
          ],
          "pie": [
           {
            "automargin": true,
            "type": "pie"
           }
          ],
          "scatter": [
           {
            "fillpattern": {
             "fillmode": "overlay",
             "size": 10,
             "solidity": 0.2
            },
            "type": "scatter"
           }
          ],
          "scatter3d": [
           {
            "line": {
             "colorbar": {
              "outlinewidth": 0,
              "ticks": ""
             }
            },
            "marker": {
             "colorbar": {
              "outlinewidth": 0,
              "ticks": ""
             }
            },
            "type": "scatter3d"
           }
          ],
          "scattercarpet": [
           {
            "marker": {
             "colorbar": {
              "outlinewidth": 0,
              "ticks": ""
             }
            },
            "type": "scattercarpet"
           }
          ],
          "scattergeo": [
           {
            "marker": {
             "colorbar": {
              "outlinewidth": 0,
              "ticks": ""
             }
            },
            "type": "scattergeo"
           }
          ],
          "scattergl": [
           {
            "marker": {
             "colorbar": {
              "outlinewidth": 0,
              "ticks": ""
             }
            },
            "type": "scattergl"
           }
          ],
          "scattermapbox": [
           {
            "marker": {
             "colorbar": {
              "outlinewidth": 0,
              "ticks": ""
             }
            },
            "type": "scattermapbox"
           }
          ],
          "scatterpolar": [
           {
            "marker": {
             "colorbar": {
              "outlinewidth": 0,
              "ticks": ""
             }
            },
            "type": "scatterpolar"
           }
          ],
          "scatterpolargl": [
           {
            "marker": {
             "colorbar": {
              "outlinewidth": 0,
              "ticks": ""
             }
            },
            "type": "scatterpolargl"
           }
          ],
          "scatterternary": [
           {
            "marker": {
             "colorbar": {
              "outlinewidth": 0,
              "ticks": ""
             }
            },
            "type": "scatterternary"
           }
          ],
          "surface": [
           {
            "colorbar": {
             "outlinewidth": 0,
             "ticks": ""
            },
            "colorscale": [
             [
              0,
              "#0d0887"
             ],
             [
              0.1111111111111111,
              "#46039f"
             ],
             [
              0.2222222222222222,
              "#7201a8"
             ],
             [
              0.3333333333333333,
              "#9c179e"
             ],
             [
              0.4444444444444444,
              "#bd3786"
             ],
             [
              0.5555555555555556,
              "#d8576b"
             ],
             [
              0.6666666666666666,
              "#ed7953"
             ],
             [
              0.7777777777777778,
              "#fb9f3a"
             ],
             [
              0.8888888888888888,
              "#fdca26"
             ],
             [
              1,
              "#f0f921"
             ]
            ],
            "type": "surface"
           }
          ],
          "table": [
           {
            "cells": {
             "fill": {
              "color": "#EBF0F8"
             },
             "line": {
              "color": "white"
             }
            },
            "header": {
             "fill": {
              "color": "#C8D4E3"
             },
             "line": {
              "color": "white"
             }
            },
            "type": "table"
           }
          ]
         },
         "layout": {
          "annotationdefaults": {
           "arrowcolor": "#2a3f5f",
           "arrowhead": 0,
           "arrowwidth": 1
          },
          "autotypenumbers": "strict",
          "coloraxis": {
           "colorbar": {
            "outlinewidth": 0,
            "ticks": ""
           }
          },
          "colorscale": {
           "diverging": [
            [
             0,
             "#8e0152"
            ],
            [
             0.1,
             "#c51b7d"
            ],
            [
             0.2,
             "#de77ae"
            ],
            [
             0.3,
             "#f1b6da"
            ],
            [
             0.4,
             "#fde0ef"
            ],
            [
             0.5,
             "#f7f7f7"
            ],
            [
             0.6,
             "#e6f5d0"
            ],
            [
             0.7,
             "#b8e186"
            ],
            [
             0.8,
             "#7fbc41"
            ],
            [
             0.9,
             "#4d9221"
            ],
            [
             1,
             "#276419"
            ]
           ],
           "sequential": [
            [
             0,
             "#0d0887"
            ],
            [
             0.1111111111111111,
             "#46039f"
            ],
            [
             0.2222222222222222,
             "#7201a8"
            ],
            [
             0.3333333333333333,
             "#9c179e"
            ],
            [
             0.4444444444444444,
             "#bd3786"
            ],
            [
             0.5555555555555556,
             "#d8576b"
            ],
            [
             0.6666666666666666,
             "#ed7953"
            ],
            [
             0.7777777777777778,
             "#fb9f3a"
            ],
            [
             0.8888888888888888,
             "#fdca26"
            ],
            [
             1,
             "#f0f921"
            ]
           ],
           "sequentialminus": [
            [
             0,
             "#0d0887"
            ],
            [
             0.1111111111111111,
             "#46039f"
            ],
            [
             0.2222222222222222,
             "#7201a8"
            ],
            [
             0.3333333333333333,
             "#9c179e"
            ],
            [
             0.4444444444444444,
             "#bd3786"
            ],
            [
             0.5555555555555556,
             "#d8576b"
            ],
            [
             0.6666666666666666,
             "#ed7953"
            ],
            [
             0.7777777777777778,
             "#fb9f3a"
            ],
            [
             0.8888888888888888,
             "#fdca26"
            ],
            [
             1,
             "#f0f921"
            ]
           ]
          },
          "colorway": [
           "#636efa",
           "#EF553B",
           "#00cc96",
           "#ab63fa",
           "#FFA15A",
           "#19d3f3",
           "#FF6692",
           "#B6E880",
           "#FF97FF",
           "#FECB52"
          ],
          "font": {
           "color": "#2a3f5f"
          },
          "geo": {
           "bgcolor": "white",
           "lakecolor": "white",
           "landcolor": "#E5ECF6",
           "showlakes": true,
           "showland": true,
           "subunitcolor": "white"
          },
          "hoverlabel": {
           "align": "left"
          },
          "hovermode": "closest",
          "mapbox": {
           "style": "light"
          },
          "paper_bgcolor": "white",
          "plot_bgcolor": "#E5ECF6",
          "polar": {
           "angularaxis": {
            "gridcolor": "white",
            "linecolor": "white",
            "ticks": ""
           },
           "bgcolor": "#E5ECF6",
           "radialaxis": {
            "gridcolor": "white",
            "linecolor": "white",
            "ticks": ""
           }
          },
          "scene": {
           "xaxis": {
            "backgroundcolor": "#E5ECF6",
            "gridcolor": "white",
            "gridwidth": 2,
            "linecolor": "white",
            "showbackground": true,
            "ticks": "",
            "zerolinecolor": "white"
           },
           "yaxis": {
            "backgroundcolor": "#E5ECF6",
            "gridcolor": "white",
            "gridwidth": 2,
            "linecolor": "white",
            "showbackground": true,
            "ticks": "",
            "zerolinecolor": "white"
           },
           "zaxis": {
            "backgroundcolor": "#E5ECF6",
            "gridcolor": "white",
            "gridwidth": 2,
            "linecolor": "white",
            "showbackground": true,
            "ticks": "",
            "zerolinecolor": "white"
           }
          },
          "shapedefaults": {
           "line": {
            "color": "#2a3f5f"
           }
          },
          "ternary": {
           "aaxis": {
            "gridcolor": "white",
            "linecolor": "white",
            "ticks": ""
           },
           "baxis": {
            "gridcolor": "white",
            "linecolor": "white",
            "ticks": ""
           },
           "bgcolor": "#E5ECF6",
           "caxis": {
            "gridcolor": "white",
            "linecolor": "white",
            "ticks": ""
           }
          },
          "title": {
           "x": 0.05
          },
          "xaxis": {
           "automargin": true,
           "gridcolor": "white",
           "linecolor": "white",
           "ticks": "",
           "title": {
            "standoff": 15
           },
           "zerolinecolor": "white",
           "zerolinewidth": 2
          },
          "yaxis": {
           "automargin": true,
           "gridcolor": "white",
           "linecolor": "white",
           "ticks": "",
           "title": {
            "standoff": 15
           },
           "zerolinecolor": "white",
           "zerolinewidth": 2
          }
         }
        },
        "title": {
         "text": "2021 GDP per capita by continent"
        },
        "xaxis": {
         "anchor": "y",
         "categoryarray": [
          "Asia",
          "Europe",
          "Africa",
          "North America",
          "South America",
          "Oceania"
         ],
         "categoryorder": "total ascending",
         "domain": [
          0,
          1
         ],
         "title": {
          "text": "Continent"
         }
        },
        "yaxis": {
         "anchor": "x",
         "domain": [
          0,
          1
         ],
         "title": {
          "text": "GDP per capita"
         }
        }
       }
      }
     },
     "metadata": {},
     "output_type": "display_data"
    }
   ],
   "source": [
    "fig = (\n",
    "    px.box(gdp_df[gdp_df['Year']==2021],\n",
    "           x='Continent',\n",
    "           y='GDP_Per_Capita',\n",
    "           title='2021 GDP per capita by continent',\n",
    "           color='Continent')\n",
    "    .update_xaxes(categoryorder='total ascending')\n",
    "    .update_layout(yaxis_title=\"GDP per capita\")\n",
    ")\n",
    "fig"
   ]
  },
  {
   "cell_type": "markdown",
   "id": "47609b1e",
   "metadata": {},
   "source": [
    "#### 21. Download the full csv containing Life expectancy at birth, total (years) from [https://data.worldbank.org/indicator/SP.DYN.LE00.IN?name_desc=false](https://data.worldbank.org/indicator/SP.DYN.LE00.IN?name_desc=false). Read this data into a DataFrame named `life_expectancy`. Note: When reading this dataset it, you may encounter an error. Modify your `read_csv` call to correct this **without modifying the original csv file**."
   ]
  },
  {
   "cell_type": "code",
   "execution_count": 24,
   "id": "6e5751e0",
   "metadata": {},
   "outputs": [],
   "source": [
    "life_expectancy = pd.read_csv(\n",
    "    \"../data/Life expectancy at birth/API_SP.DYN.LE00.IN_DS2_en_csv_v2_31632.csv\",\n",
    "    header=2,\n",
    ")"
   ]
  },
  {
   "cell_type": "markdown",
   "id": "d8e0bd77",
   "metadata": {},
   "source": [
    "#### 22. Drop the Country Code, Indicator Name, and Indicator Code columns. Then use [`.melt()`](https://pandas.pydata.org/docs/reference/api/pandas.melt.html) to convert your data from wide to long. That is, instead of having one row per country and multiple colums per year, we want to have multiple rows per country and a single column for year. After melting, rename the columns to `Country`, `Year`, and `Life_Expectancy`."
   ]
  },
  {
   "cell_type": "code",
   "execution_count": 25,
   "id": "8f179507",
   "metadata": {},
   "outputs": [
    {
     "data": {
      "text/html": [
       "<div>\n",
       "<style scoped>\n",
       "    .dataframe tbody tr th:only-of-type {\n",
       "        vertical-align: middle;\n",
       "    }\n",
       "\n",
       "    .dataframe tbody tr th {\n",
       "        vertical-align: top;\n",
       "    }\n",
       "\n",
       "    .dataframe thead th {\n",
       "        text-align: right;\n",
       "    }\n",
       "</style>\n",
       "<table border=\"1\" class=\"dataframe\">\n",
       "  <thead>\n",
       "    <tr style=\"text-align: right;\">\n",
       "      <th></th>\n",
       "      <th>Country</th>\n",
       "      <th>Year</th>\n",
       "      <th>Life Expectancy</th>\n",
       "    </tr>\n",
       "  </thead>\n",
       "  <tbody>\n",
       "    <tr>\n",
       "      <th>2</th>\n",
       "      <td>Afghanistan</td>\n",
       "      <td>1960</td>\n",
       "      <td>32.535</td>\n",
       "    </tr>\n",
       "    <tr>\n",
       "      <th>268</th>\n",
       "      <td>Afghanistan</td>\n",
       "      <td>1961</td>\n",
       "      <td>33.068</td>\n",
       "    </tr>\n",
       "    <tr>\n",
       "      <th>534</th>\n",
       "      <td>Afghanistan</td>\n",
       "      <td>1962</td>\n",
       "      <td>33.547</td>\n",
       "    </tr>\n",
       "    <tr>\n",
       "      <th>800</th>\n",
       "      <td>Afghanistan</td>\n",
       "      <td>1963</td>\n",
       "      <td>34.016</td>\n",
       "    </tr>\n",
       "    <tr>\n",
       "      <th>1066</th>\n",
       "      <td>Afghanistan</td>\n",
       "      <td>1964</td>\n",
       "      <td>34.494</td>\n",
       "    </tr>\n",
       "    <tr>\n",
       "      <th>...</th>\n",
       "      <td>...</td>\n",
       "      <td>...</td>\n",
       "      <td>...</td>\n",
       "    </tr>\n",
       "    <tr>\n",
       "      <th>16225</th>\n",
       "      <td>Zimbabwe</td>\n",
       "      <td>2020</td>\n",
       "      <td>61.124</td>\n",
       "    </tr>\n",
       "    <tr>\n",
       "      <th>16491</th>\n",
       "      <td>Zimbabwe</td>\n",
       "      <td>2021</td>\n",
       "      <td>59.253</td>\n",
       "    </tr>\n",
       "    <tr>\n",
       "      <th>16757</th>\n",
       "      <td>Zimbabwe</td>\n",
       "      <td>2022</td>\n",
       "      <td>59.391</td>\n",
       "    </tr>\n",
       "    <tr>\n",
       "      <th>17023</th>\n",
       "      <td>Zimbabwe</td>\n",
       "      <td>2023</td>\n",
       "      <td>NaN</td>\n",
       "    </tr>\n",
       "    <tr>\n",
       "      <th>17289</th>\n",
       "      <td>Zimbabwe</td>\n",
       "      <td>Unnamed: 68</td>\n",
       "      <td>NaN</td>\n",
       "    </tr>\n",
       "  </tbody>\n",
       "</table>\n",
       "<p>17290 rows × 3 columns</p>\n",
       "</div>"
      ],
      "text/plain": [
       "           Country         Year  Life Expectancy\n",
       "2      Afghanistan         1960           32.535\n",
       "268    Afghanistan         1961           33.068\n",
       "534    Afghanistan         1962           33.547\n",
       "800    Afghanistan         1963           34.016\n",
       "1066   Afghanistan         1964           34.494\n",
       "...            ...          ...              ...\n",
       "16225     Zimbabwe         2020           61.124\n",
       "16491     Zimbabwe         2021           59.253\n",
       "16757     Zimbabwe         2022           59.391\n",
       "17023     Zimbabwe         2023              NaN\n",
       "17289     Zimbabwe  Unnamed: 68              NaN\n",
       "\n",
       "[17290 rows x 3 columns]"
      ]
     },
     "metadata": {},
     "output_type": "display_data"
    }
   ],
   "source": [
    "# drop undesired columns, melt to make data long, rename columns, and sort\n",
    "life_expectancy = (\n",
    "    life_expectancy.drop(\n",
    "        columns=[\"Country Code\",\n",
    "                 \"Indicator Name\",\n",
    "                 \"Indicator Code\"]\n",
    "                 )\n",
    "    .melt(\n",
    "        id_vars=\"Country Name\",\n",
    "        var_name=\"Year\",\n",
    "        value_name=\"Life Expectancy\",\n",
    "          )\n",
    "    .rename(\n",
    "        columns={\"Country Name\": \"Country\"})\n",
    "    .sort_values(\n",
    "        [\"Country\", \"Year\"])\n",
    ")\n",
    "display(life_expectancy)"
   ]
  },
  {
   "cell_type": "markdown",
   "id": "d627e1f9",
   "metadata": {},
   "source": [
    "#### 23. What was the first country with a life expectancy to exceed 80?"
   ]
  },
  {
   "cell_type": "code",
   "execution_count": 26,
   "id": "1148c65f",
   "metadata": {},
   "outputs": [
    {
     "data": {
      "text/plain": [
       "Country                Japan\n",
       "Year                    1996\n",
       "Life Expectancy    80.219756\n",
       "Name: 9695, dtype: object"
      ]
     },
     "metadata": {},
     "output_type": "display_data"
    }
   ],
   "source": [
    "# sort by year and find the first value that is >= 80\n",
    "display( \n",
    "    life_expectancy.sort_values([\"Year\"])\n",
    "    .loc[life_expectancy[\"Life Expectancy\"] >= 80]\n",
    "    .iloc[0]\n",
    ")"
   ]
  },
  {
   "cell_type": "markdown",
   "id": "a31cd5a9",
   "metadata": {},
   "source": [
    "- **The first country to have a life expectancy >= 80 was Japan in 1996.**"
   ]
  },
  {
   "cell_type": "markdown",
   "id": "45f82649",
   "metadata": {},
   "source": [
    "#### 24. Merge `gdp_df` and `life_expectancy`, keeping all countries and years that appear in both DataFrames. Save the result to a new DataFrame named `gdp_le`. If you get any errors in doing this, read them carefully and correct them. Look at the first five rows of your new data frame to confirm it merged correctly. Also, check the last five rows to make sure the data is clean and as expected."
   ]
  },
  {
   "cell_type": "code",
   "execution_count": 27,
   "id": "f2b1431a",
   "metadata": {},
   "outputs": [
    {
     "data": {
      "text/html": [
       "<div>\n",
       "<style scoped>\n",
       "    .dataframe tbody tr th:only-of-type {\n",
       "        vertical-align: middle;\n",
       "    }\n",
       "\n",
       "    .dataframe tbody tr th {\n",
       "        vertical-align: top;\n",
       "    }\n",
       "\n",
       "    .dataframe thead th {\n",
       "        text-align: right;\n",
       "    }\n",
       "</style>\n",
       "<table border=\"1\" class=\"dataframe\">\n",
       "  <thead>\n",
       "    <tr style=\"text-align: right;\">\n",
       "      <th></th>\n",
       "      <th>Country</th>\n",
       "      <th>Year</th>\n",
       "      <th>GDP_Per_Capita</th>\n",
       "      <th>Continent</th>\n",
       "      <th>Life Expectancy</th>\n",
       "    </tr>\n",
       "  </thead>\n",
       "  <tbody>\n",
       "    <tr>\n",
       "      <th>0</th>\n",
       "      <td>Afghanistan</td>\n",
       "      <td>2021</td>\n",
       "      <td>1517.016266</td>\n",
       "      <td>Asia</td>\n",
       "      <td>61.982</td>\n",
       "    </tr>\n",
       "    <tr>\n",
       "      <th>1</th>\n",
       "      <td>Afghanistan</td>\n",
       "      <td>2020</td>\n",
       "      <td>1968.341002</td>\n",
       "      <td>Asia</td>\n",
       "      <td>62.575</td>\n",
       "    </tr>\n",
       "    <tr>\n",
       "      <th>2</th>\n",
       "      <td>Afghanistan</td>\n",
       "      <td>2019</td>\n",
       "      <td>2079.921861</td>\n",
       "      <td>Asia</td>\n",
       "      <td>63.565</td>\n",
       "    </tr>\n",
       "    <tr>\n",
       "      <th>3</th>\n",
       "      <td>Afghanistan</td>\n",
       "      <td>2018</td>\n",
       "      <td>2060.698973</td>\n",
       "      <td>Asia</td>\n",
       "      <td>63.081</td>\n",
       "    </tr>\n",
       "    <tr>\n",
       "      <th>4</th>\n",
       "      <td>Afghanistan</td>\n",
       "      <td>2017</td>\n",
       "      <td>2096.093111</td>\n",
       "      <td>Asia</td>\n",
       "      <td>63.016</td>\n",
       "    </tr>\n",
       "  </tbody>\n",
       "</table>\n",
       "</div>"
      ],
      "text/plain": [
       "       Country  Year  GDP_Per_Capita Continent  Life Expectancy\n",
       "0  Afghanistan  2021     1517.016266      Asia           61.982\n",
       "1  Afghanistan  2020     1968.341002      Asia           62.575\n",
       "2  Afghanistan  2019     2079.921861      Asia           63.565\n",
       "3  Afghanistan  2018     2060.698973      Asia           63.081\n",
       "4  Afghanistan  2017     2096.093111      Asia           63.016"
      ]
     },
     "metadata": {},
     "output_type": "display_data"
    },
    {
     "data": {
      "text/html": [
       "<div>\n",
       "<style scoped>\n",
       "    .dataframe tbody tr th:only-of-type {\n",
       "        vertical-align: middle;\n",
       "    }\n",
       "\n",
       "    .dataframe tbody tr th {\n",
       "        vertical-align: top;\n",
       "    }\n",
       "\n",
       "    .dataframe thead th {\n",
       "        text-align: right;\n",
       "    }\n",
       "</style>\n",
       "<table border=\"1\" class=\"dataframe\">\n",
       "  <thead>\n",
       "    <tr style=\"text-align: right;\">\n",
       "      <th></th>\n",
       "      <th>Country</th>\n",
       "      <th>Year</th>\n",
       "      <th>GDP_Per_Capita</th>\n",
       "      <th>Continent</th>\n",
       "      <th>Life Expectancy</th>\n",
       "    </tr>\n",
       "  </thead>\n",
       "  <tbody>\n",
       "    <tr>\n",
       "      <th>5499</th>\n",
       "      <td>Zimbabwe</td>\n",
       "      <td>1994</td>\n",
       "      <td>2670.106615</td>\n",
       "      <td>Africa</td>\n",
       "      <td>52.588</td>\n",
       "    </tr>\n",
       "    <tr>\n",
       "      <th>5500</th>\n",
       "      <td>Zimbabwe</td>\n",
       "      <td>1993</td>\n",
       "      <td>2458.783255</td>\n",
       "      <td>Africa</td>\n",
       "      <td>54.426</td>\n",
       "    </tr>\n",
       "    <tr>\n",
       "      <th>5501</th>\n",
       "      <td>Zimbabwe</td>\n",
       "      <td>1992</td>\n",
       "      <td>2468.278257</td>\n",
       "      <td>Africa</td>\n",
       "      <td>56.435</td>\n",
       "    </tr>\n",
       "    <tr>\n",
       "      <th>5502</th>\n",
       "      <td>Zimbabwe</td>\n",
       "      <td>1991</td>\n",
       "      <td>2781.787843</td>\n",
       "      <td>Africa</td>\n",
       "      <td>58.091</td>\n",
       "    </tr>\n",
       "    <tr>\n",
       "      <th>5503</th>\n",
       "      <td>Zimbabwe</td>\n",
       "      <td>1990</td>\n",
       "      <td>2704.757299</td>\n",
       "      <td>Africa</td>\n",
       "      <td>59.426</td>\n",
       "    </tr>\n",
       "  </tbody>\n",
       "</table>\n",
       "</div>"
      ],
      "text/plain": [
       "       Country  Year  GDP_Per_Capita Continent  Life Expectancy\n",
       "5499  Zimbabwe  1994     2670.106615    Africa           52.588\n",
       "5500  Zimbabwe  1993     2458.783255    Africa           54.426\n",
       "5501  Zimbabwe  1992     2468.278257    Africa           56.435\n",
       "5502  Zimbabwe  1991     2781.787843    Africa           58.091\n",
       "5503  Zimbabwe  1990     2704.757299    Africa           59.426"
      ]
     },
     "metadata": {},
     "output_type": "display_data"
    }
   ],
   "source": [
    "# Clean up dfs to merge\n",
    "life_expectancy = life_expectancy.dropna()\n",
    "life_expectancy[\"Year\"] = pd.to_numeric(life_expectancy[\"Year\"])\n",
    "\n",
    "# merge the dfs on the two columns, keeping only values in both dfs.\n",
    "gdp_le = pd.merge(gdp_df, life_expectancy, on=[\"Country\", \"Year\"], how=\"inner\")\n",
    "display(gdp_le.head(), gdp_le.tail())"
   ]
  },
  {
   "cell_type": "markdown",
   "id": "0c6285c5",
   "metadata": {},
   "source": [
    "- **After dropping NaNs and changing columns to the appropriate datatypes, the two dataframes are merged and the resulting df looks clean at head and tail.**"
   ]
  },
  {
   "cell_type": "markdown",
   "id": "1897c966",
   "metadata": {},
   "source": [
    "#### 25. Create a new DataFrame, named `gdp_le_2021` by extracting data for the year 2021 from `gdp_le`. How many countries have a life expectancy of at least 80 in 2021?"
   ]
  },
  {
   "cell_type": "code",
   "execution_count": 48,
   "id": "2b07ff7b",
   "metadata": {},
   "outputs": [
    {
     "data": {
      "text/plain": [
       "31"
      ]
     },
     "metadata": {},
     "output_type": "display_data"
    }
   ],
   "source": [
    "# Slice the year 2021\n",
    "gdp_le_2021 = gdp_le[gdp_le[\"Year\"].isin([2021])].copy()\n",
    "# .copy() makes this it's own dataframe so it no longer references the old dataframe object. \n",
    "\n",
    "# slice life expectancy > 80\n",
    "display(gdp_le_2021.loc[gdp_le_2021[\"Life Expectancy\"] >= 80].count()['Country'])"
   ]
  },
  {
   "cell_type": "markdown",
   "id": "4cf5dea2",
   "metadata": {},
   "source": [
    "- **31 countries have a life expectancy of at least 80 in 2021**"
   ]
  },
  {
   "cell_type": "markdown",
   "id": "351fccea",
   "metadata": {},
   "source": [
    "#### 26. Find the countries that had the top 3 largest GDP per capita figures for 2021. Create a [seaborn FacetGrid](https://seaborn.pydata.org/generated/seaborn.FacetGrid.html) showing the change in life expectancy over time for these three countries. Each individual figure in the facet grid will represent a single country."
   ]
  },
  {
   "cell_type": "markdown",
   "id": "09abe8a6",
   "metadata": {},
   "source": [
    "- **the countries with the 3 largest GDP per capita in 2021 were Luxembourg, Singapore, and Ireland**"
   ]
  },
  {
   "cell_type": "code",
   "execution_count": 49,
   "id": "4eba8254",
   "metadata": {},
   "outputs": [
    {
     "data": {
      "image/png": "[encoded data removed]",
      "text/plain": [
       "<Figure size 900x300 with 3 Axes>"
      ]
     },
     "metadata": {},
     "output_type": "display_data"
    }
   ],
   "source": [
    "# find the countries with the 3 largest GDP per capita in 2021\n",
    "# display(gdp_le_2021.nlargest(3, \"GDP_Per_Capita\"))\n",
    "top_three_gdp = gdp_le_2021.nlargest(3, \"GDP_Per_Capita\")['Country']\n",
    "\n",
    "# slice out the desired countries into a new dataframe to plot\n",
    "top_three_countries_le_df = life_expectancy[\n",
    "    life_expectancy[\"Country\"].isin(top_three_gdp)]\n",
    "\n",
    "# create seaborn facet grid for the ∆LE over time for top three countries\n",
    "grid =(\n",
    "    sns.FacetGrid(top_three_countries_le_df,\n",
    "                  col=\"Country\")\n",
    "    .map_dataframe(sns.lineplot,\n",
    "                   x=\"Year\",\n",
    "                   y=\"Life Expectancy\"\n",
    "    )\n",
    ")\n",
    "plt.subplots_adjust(top=0.85)\n",
    "plt.suptitle(\"Change in life expectancy over time\");"
   ]
  },
  {
   "cell_type": "markdown",
   "id": "b0f10b38",
   "metadata": {},
   "source": [
    "##### Plotly used below for practice. "
   ]
  },
  {
   "cell_type": "code",
   "execution_count": 50,
   "id": "c402f3fe",
   "metadata": {},
   "outputs": [
    {
     "data": {
      "application/vnd.plotly.v1+json": {
       "config": {
        "plotlyServerURL": "https://plot.ly"
       },
       "data": [
        {
         "hovertemplate": "Country=Ireland<br>Year=%{x}<br>Life Expectancy=%{y}<extra></extra>",
         "legendgroup": "Ireland",
         "line": {
          "color": "#636efa",
          "dash": "solid"
         },
         "marker": {
          "symbol": "circle"
         },
         "mode": "lines",
         "name": "Ireland",
         "orientation": "v",
         "showlegend": true,
         "type": "scatter",
         "x": [
          1960,
          1961,
          1962,
          1963,
          1964,
          1965,
          1966,
          1967,
          1968,
          1969,
          1970,
          1971,
          1972,
          1973,
          1974,
          1975,
          1976,
          1977,
          1978,
          1979,
          1980,
          1981,
          1982,
          1983,
          1984,
          1985,
          1986,
          1987,
          1988,
          1989,
          1990,
          1991,
          1992,
          1993,
          1994,
          1995,
          1996,
          1997,
          1998,
          1999,
          2000,
          2001,
          2002,
          2003,
          2004,
          2005,
          2006,
          2007,
          2008,
          2009,
          2010,
          2011,
          2012,
          2013,
          2014,
          2015,
          2016,
          2017,
          2018,
          2019,
          2020,
          2021,
          2022
         ],
         "xaxis": "x",
         "y": [
          70.1942682926829,
          69.6782926829268,
          69.9910487804878,
          70.2300975609756,
          70.4899268292683,
          70.695,
          70.2169512195122,
          71.2453658536585,
          70.941,
          70.8528292682927,
          70.9015609756098,
          71.6758536585366,
          71.021756097561,
          71.2399756097561,
          71.1755609756098,
          71.7530487804878,
          71.8566097560976,
          71.9973902439024,
          71.9963170731707,
          72.2680243902439,
          72.5954146341464,
          72.9517804878049,
          73.2090487804878,
          73.2400975609756,
          73.6637317073171,
          73.6219024390244,
          73.6655365853659,
          74.4323902439024,
          74.4394146341463,
          74.4552195121951,
          74.8460731707317,
          75.025,
          75.4150975609756,
          75.2921951219512,
          75.7871219512195,
          75.4698048780488,
          75.8317073170732,
          75.9853658536585,
          76.1804878048781,
          76.0829268292683,
          76.5365853658537,
          77.1341463414634,
          77.6341463414634,
          78.1390243902439,
          78.5390243902439,
          78.9439024390244,
          79.2414634146342,
          79.6414634146341,
          80.0951219512195,
          80.190243902439,
          80.7439024390244,
          80.7463414634146,
          80.8463414634146,
          80.9487804878049,
          81.3487804878049,
          81.4536585365854,
          81.6536585365854,
          82.1560975609756,
          82.2048780487805,
          82.7024390243903,
          82.5560975609756,
          82.3536585365854,
          83.0560975609756
         ],
         "yaxis": "y"
        },
        {
         "hovertemplate": "Country=Luxembourg<br>Year=%{x}<br>Life Expectancy=%{y}<extra></extra>",
         "legendgroup": "Luxembourg",
         "line": {
          "color": "#EF553B",
          "dash": "solid"
         },
         "marker": {
          "symbol": "circle"
         },
         "mode": "lines",
         "name": "Luxembourg",
         "orientation": "v",
         "showlegend": true,
         "type": "scatter",
         "x": [
          1960,
          1961,
          1962,
          1963,
          1964,
          1965,
          1966,
          1967,
          1968,
          1969,
          1970,
          1971,
          1972,
          1973,
          1974,
          1975,
          1976,
          1977,
          1978,
          1979,
          1980,
          1981,
          1982,
          1983,
          1984,
          1985,
          1986,
          1987,
          1988,
          1989,
          1990,
          1991,
          1992,
          1993,
          1994,
          1995,
          1996,
          1997,
          1998,
          1999,
          2000,
          2001,
          2002,
          2003,
          2004,
          2005,
          2006,
          2007,
          2008,
          2009,
          2010,
          2011,
          2012,
          2013,
          2014,
          2015,
          2016,
          2017,
          2018,
          2019,
          2020,
          2021,
          2022
         ],
         "xaxis": "x2",
         "y": [
          68.5925365853659,
          69.2668292682927,
          68.1051707317073,
          68.7219268292683,
          69.3916829268293,
          69.0254146341464,
          69.1756341463415,
          69.2340243902439,
          69.6624390243903,
          69.4807073170732,
          69.5932195121951,
          69.195243902439,
          70.3215853658537,
          70.2403658536585,
          70.1571707317073,
          70.2986097560976,
          69.9751463414634,
          71.4586585365854,
          71.4958048780488,
          72.3307804878049,
          72.2068048780488,
          72.369756097561,
          72.6503414634146,
          72.7811219512195,
          73.0532195121951,
          73.5341951219512,
          73.995512195122,
          74.0760975609756,
          74.7882195121951,
          74.5662682926829,
          75.4383170731707,
          75.4634146341463,
          75.7707317073171,
          75.7121951219512,
          76.3707317073171,
          76.5121951219512,
          76.519512195122,
          76.880487804878,
          77.0170731707317,
          77.7707317073171,
          77.8731707317073,
          77.8243902439025,
          77.9658536585366,
          77.7268292682927,
          79.1219512195122,
          79.4317073170732,
          79.2878048780488,
          79.3829268292683,
          80.5390243902439,
          80.6365853658537,
          80.6317073170732,
          80.9878048780488,
          81.3926829268293,
          81.8,
          82.2292682926829,
          82.2926829268293,
          82.6853658536585,
          82.0951219512195,
          82.2951219512195,
          82.6390243902439,
          82.1439024390244,
          82.5975609756098,
          83.0463414634146
         ],
         "yaxis": "y2"
        },
        {
         "hovertemplate": "Country=Singapore<br>Year=%{x}<br>Life Expectancy=%{y}<extra></extra>",
         "legendgroup": "Singapore",
         "line": {
          "color": "#00cc96",
          "dash": "solid"
         },
         "marker": {
          "symbol": "circle"
         },
         "mode": "lines",
         "name": "Singapore",
         "orientation": "v",
         "showlegend": true,
         "type": "scatter",
         "x": [
          1960,
          1961,
          1962,
          1963,
          1964,
          1965,
          1966,
          1967,
          1968,
          1969,
          1970,
          1971,
          1972,
          1973,
          1974,
          1975,
          1976,
          1977,
          1978,
          1979,
          1980,
          1981,
          1982,
          1983,
          1984,
          1985,
          1986,
          1987,
          1988,
          1989,
          1990,
          1991,
          1992,
          1993,
          1994,
          1995,
          1996,
          1997,
          1998,
          1999,
          2000,
          2001,
          2002,
          2003,
          2004,
          2005,
          2006,
          2007,
          2008,
          2009,
          2010,
          2011,
          2012,
          2013,
          2014,
          2015,
          2016,
          2017,
          2018,
          2019,
          2020,
          2021,
          2022
         ],
         "xaxis": "x3",
         "y": [
          64.6946829268293,
          65.5179512195122,
          66.285756097561,
          66.7147073170732,
          67.0743902439024,
          67.512512195122,
          67.797,
          68.1193170731707,
          68.2882682926829,
          68.6862682926829,
          68.9131219512195,
          69.1883414634146,
          69.3467804878049,
          69.7398048780488,
          70.2013414634146,
          70.7834390243902,
          71.1650731707317,
          71.3711219512195,
          71.546756097561,
          71.6392195121951,
          72.190243902439,
          72.5878048780488,
          72.6878048780488,
          73.0365853658537,
          73.290243902439,
          73.890243902439,
          74.2463414634146,
          74.5487804878049,
          74.6975609756098,
          74.9463414634146,
          75.2951219512195,
          75.6463414634146,
          75.9463414634146,
          76.0463414634146,
          76.1975609756098,
          76.2951219512195,
          76.5951219512195,
          76.8975609756097,
          77.3,
          77.5512195121951,
          77.9512195121951,
          78.2512195121951,
          78.5512195121951,
          79.0390243902439,
          79.490243902439,
          79.990243902439,
          80.1414634146341,
          80.4414634146342,
          80.790243902439,
          81.2414634146342,
          81.5414634146342,
          81.7439024390244,
          81.9951219512195,
          82.2463414634147,
          82.4951219512195,
          82.7439024390244,
          82.8463414634146,
          83.0951219512195,
          83.2975609756098,
          83.5951219512195,
          83.5439024390244,
          83.0926829268293,
          82.8951219512195
         ],
         "yaxis": "y3"
        }
       ],
       "layout": {
        "annotations": [
         {
          "font": {},
          "showarrow": false,
          "text": "Country=Ireland",
          "x": 0.15999999999999998,
          "xanchor": "center",
          "xref": "paper",
          "y": 1,
          "yanchor": "bottom",
          "yref": "paper"
         },
         {
          "font": {},
          "showarrow": false,
          "text": "Country=Luxembourg",
          "x": 0.49999999999999994,
          "xanchor": "center",
          "xref": "paper",
          "y": 1,
          "yanchor": "bottom",
          "yref": "paper"
         },
         {
          "font": {},
          "showarrow": false,
          "text": "Country=Singapore",
          "x": 0.8399999999999999,
          "xanchor": "center",
          "xref": "paper",
          "y": 1,
          "yanchor": "bottom",
          "yref": "paper"
         }
        ],
        "legend": {
         "title": {
          "text": "Country"
         },
         "tracegroupgap": 0
        },
        "template": {
         "data": {
          "bar": [
           {
            "error_x": {
             "color": "#2a3f5f"
            },
            "error_y": {
             "color": "#2a3f5f"
            },
            "marker": {
             "line": {
              "color": "#E5ECF6",
              "width": 0.5
             },
             "pattern": {
              "fillmode": "overlay",
              "size": 10,
              "solidity": 0.2
             }
            },
            "type": "bar"
           }
          ],
          "barpolar": [
           {
            "marker": {
             "line": {
              "color": "#E5ECF6",
              "width": 0.5
             },
             "pattern": {
              "fillmode": "overlay",
              "size": 10,
              "solidity": 0.2
             }
            },
            "type": "barpolar"
           }
          ],
          "carpet": [
           {
            "aaxis": {
             "endlinecolor": "#2a3f5f",
             "gridcolor": "white",
             "linecolor": "white",
             "minorgridcolor": "white",
             "startlinecolor": "#2a3f5f"
            },
            "baxis": {
             "endlinecolor": "#2a3f5f",
             "gridcolor": "white",
             "linecolor": "white",
             "minorgridcolor": "white",
             "startlinecolor": "#2a3f5f"
            },
            "type": "carpet"
           }
          ],
          "choropleth": [
           {
            "colorbar": {
             "outlinewidth": 0,
             "ticks": ""
            },
            "type": "choropleth"
           }
          ],
          "contour": [
           {
            "colorbar": {
             "outlinewidth": 0,
             "ticks": ""
            },
            "colorscale": [
             [
              0,
              "#0d0887"
             ],
             [
              0.1111111111111111,
              "#46039f"
             ],
             [
              0.2222222222222222,
              "#7201a8"
             ],
             [
              0.3333333333333333,
              "#9c179e"
             ],
             [
              0.4444444444444444,
              "#bd3786"
             ],
             [
              0.5555555555555556,
              "#d8576b"
             ],
             [
              0.6666666666666666,
              "#ed7953"
             ],
             [
              0.7777777777777778,
              "#fb9f3a"
             ],
             [
              0.8888888888888888,
              "#fdca26"
             ],
             [
              1,
              "#f0f921"
             ]
            ],
            "type": "contour"
           }
          ],
          "contourcarpet": [
           {
            "colorbar": {
             "outlinewidth": 0,
             "ticks": ""
            },
            "type": "contourcarpet"
           }
          ],
          "heatmap": [
           {
            "colorbar": {
             "outlinewidth": 0,
             "ticks": ""
            },
            "colorscale": [
             [
              0,
              "#0d0887"
             ],
             [
              0.1111111111111111,
              "#46039f"
             ],
             [
              0.2222222222222222,
              "#7201a8"
             ],
             [
              0.3333333333333333,
              "#9c179e"
             ],
             [
              0.4444444444444444,
              "#bd3786"
             ],
             [
              0.5555555555555556,
              "#d8576b"
             ],
             [
              0.6666666666666666,
              "#ed7953"
             ],
             [
              0.7777777777777778,
              "#fb9f3a"
             ],
             [
              0.8888888888888888,
              "#fdca26"
             ],
             [
              1,
              "#f0f921"
             ]
            ],
            "type": "heatmap"
           }
          ],
          "heatmapgl": [
           {
            "colorbar": {
             "outlinewidth": 0,
             "ticks": ""
            },
            "colorscale": [
             [
              0,
              "#0d0887"
             ],
             [
              0.1111111111111111,
              "#46039f"
             ],
             [
              0.2222222222222222,
              "#7201a8"
             ],
             [
              0.3333333333333333,
              "#9c179e"
             ],
             [
              0.4444444444444444,
              "#bd3786"
             ],
             [
              0.5555555555555556,
              "#d8576b"
             ],
             [
              0.6666666666666666,
              "#ed7953"
             ],
             [
              0.7777777777777778,
              "#fb9f3a"
             ],
             [
              0.8888888888888888,
              "#fdca26"
             ],
             [
              1,
              "#f0f921"
             ]
            ],
            "type": "heatmapgl"
           }
          ],
          "histogram": [
           {
            "marker": {
             "pattern": {
              "fillmode": "overlay",
              "size": 10,
              "solidity": 0.2
             }
            },
            "type": "histogram"
           }
          ],
          "histogram2d": [
           {
            "colorbar": {
             "outlinewidth": 0,
             "ticks": ""
            },
            "colorscale": [
             [
              0,
              "#0d0887"
             ],
             [
              0.1111111111111111,
              "#46039f"
             ],
             [
              0.2222222222222222,
              "#7201a8"
             ],
             [
              0.3333333333333333,
              "#9c179e"
             ],
             [
              0.4444444444444444,
              "#bd3786"
             ],
             [
              0.5555555555555556,
              "#d8576b"
             ],
             [
              0.6666666666666666,
              "#ed7953"
             ],
             [
              0.7777777777777778,
              "#fb9f3a"
             ],
             [
              0.8888888888888888,
              "#fdca26"
             ],
             [
              1,
              "#f0f921"
             ]
            ],
            "type": "histogram2d"
           }
          ],
          "histogram2dcontour": [
           {
            "colorbar": {
             "outlinewidth": 0,
             "ticks": ""
            },
            "colorscale": [
             [
              0,
              "#0d0887"
             ],
             [
              0.1111111111111111,
              "#46039f"
             ],
             [
              0.2222222222222222,
              "#7201a8"
             ],
             [
              0.3333333333333333,
              "#9c179e"
             ],
             [
              0.4444444444444444,
              "#bd3786"
             ],
             [
              0.5555555555555556,
              "#d8576b"
             ],
             [
              0.6666666666666666,
              "#ed7953"
             ],
             [
              0.7777777777777778,
              "#fb9f3a"
             ],
             [
              0.8888888888888888,
              "#fdca26"
             ],
             [
              1,
              "#f0f921"
             ]
            ],
            "type": "histogram2dcontour"
           }
          ],
          "mesh3d": [
           {
            "colorbar": {
             "outlinewidth": 0,
             "ticks": ""
            },
            "type": "mesh3d"
           }
          ],
          "parcoords": [
           {
            "line": {
             "colorbar": {
              "outlinewidth": 0,
              "ticks": ""
             }
            },
            "type": "parcoords"
           }
          ],
          "pie": [
           {
            "automargin": true,
            "type": "pie"
           }
          ],
          "scatter": [
           {
            "fillpattern": {
             "fillmode": "overlay",
             "size": 10,
             "solidity": 0.2
            },
            "type": "scatter"
           }
          ],
          "scatter3d": [
           {
            "line": {
             "colorbar": {
              "outlinewidth": 0,
              "ticks": ""
             }
            },
            "marker": {
             "colorbar": {
              "outlinewidth": 0,
              "ticks": ""
             }
            },
            "type": "scatter3d"
           }
          ],
          "scattercarpet": [
           {
            "marker": {
             "colorbar": {
              "outlinewidth": 0,
              "ticks": ""
             }
            },
            "type": "scattercarpet"
           }
          ],
          "scattergeo": [
           {
            "marker": {
             "colorbar": {
              "outlinewidth": 0,
              "ticks": ""
             }
            },
            "type": "scattergeo"
           }
          ],
          "scattergl": [
           {
            "marker": {
             "colorbar": {
              "outlinewidth": 0,
              "ticks": ""
             }
            },
            "type": "scattergl"
           }
          ],
          "scattermapbox": [
           {
            "marker": {
             "colorbar": {
              "outlinewidth": 0,
              "ticks": ""
             }
            },
            "type": "scattermapbox"
           }
          ],
          "scatterpolar": [
           {
            "marker": {
             "colorbar": {
              "outlinewidth": 0,
              "ticks": ""
             }
            },
            "type": "scatterpolar"
           }
          ],
          "scatterpolargl": [
           {
            "marker": {
             "colorbar": {
              "outlinewidth": 0,
              "ticks": ""
             }
            },
            "type": "scatterpolargl"
           }
          ],
          "scatterternary": [
           {
            "marker": {
             "colorbar": {
              "outlinewidth": 0,
              "ticks": ""
             }
            },
            "type": "scatterternary"
           }
          ],
          "surface": [
           {
            "colorbar": {
             "outlinewidth": 0,
             "ticks": ""
            },
            "colorscale": [
             [
              0,
              "#0d0887"
             ],
             [
              0.1111111111111111,
              "#46039f"
             ],
             [
              0.2222222222222222,
              "#7201a8"
             ],
             [
              0.3333333333333333,
              "#9c179e"
             ],
             [
              0.4444444444444444,
              "#bd3786"
             ],
             [
              0.5555555555555556,
              "#d8576b"
             ],
             [
              0.6666666666666666,
              "#ed7953"
             ],
             [
              0.7777777777777778,
              "#fb9f3a"
             ],
             [
              0.8888888888888888,
              "#fdca26"
             ],
             [
              1,
              "#f0f921"
             ]
            ],
            "type": "surface"
           }
          ],
          "table": [
           {
            "cells": {
             "fill": {
              "color": "#EBF0F8"
             },
             "line": {
              "color": "white"
             }
            },
            "header": {
             "fill": {
              "color": "#C8D4E3"
             },
             "line": {
              "color": "white"
             }
            },
            "type": "table"
           }
          ]
         },
         "layout": {
          "annotationdefaults": {
           "arrowcolor": "#2a3f5f",
           "arrowhead": 0,
           "arrowwidth": 1
          },
          "autotypenumbers": "strict",
          "coloraxis": {
           "colorbar": {
            "outlinewidth": 0,
            "ticks": ""
           }
          },
          "colorscale": {
           "diverging": [
            [
             0,
             "#8e0152"
            ],
            [
             0.1,
             "#c51b7d"
            ],
            [
             0.2,
             "#de77ae"
            ],
            [
             0.3,
             "#f1b6da"
            ],
            [
             0.4,
             "#fde0ef"
            ],
            [
             0.5,
             "#f7f7f7"
            ],
            [
             0.6,
             "#e6f5d0"
            ],
            [
             0.7,
             "#b8e186"
            ],
            [
             0.8,
             "#7fbc41"
            ],
            [
             0.9,
             "#4d9221"
            ],
            [
             1,
             "#276419"
            ]
           ],
           "sequential": [
            [
             0,
             "#0d0887"
            ],
            [
             0.1111111111111111,
             "#46039f"
            ],
            [
             0.2222222222222222,
             "#7201a8"
            ],
            [
             0.3333333333333333,
             "#9c179e"
            ],
            [
             0.4444444444444444,
             "#bd3786"
            ],
            [
             0.5555555555555556,
             "#d8576b"
            ],
            [
             0.6666666666666666,
             "#ed7953"
            ],
            [
             0.7777777777777778,
             "#fb9f3a"
            ],
            [
             0.8888888888888888,
             "#fdca26"
            ],
            [
             1,
             "#f0f921"
            ]
           ],
           "sequentialminus": [
            [
             0,
             "#0d0887"
            ],
            [
             0.1111111111111111,
             "#46039f"
            ],
            [
             0.2222222222222222,
             "#7201a8"
            ],
            [
             0.3333333333333333,
             "#9c179e"
            ],
            [
             0.4444444444444444,
             "#bd3786"
            ],
            [
             0.5555555555555556,
             "#d8576b"
            ],
            [
             0.6666666666666666,
             "#ed7953"
            ],
            [
             0.7777777777777778,
             "#fb9f3a"
            ],
            [
             0.8888888888888888,
             "#fdca26"
            ],
            [
             1,
             "#f0f921"
            ]
           ]
          },
          "colorway": [
           "#636efa",
           "#EF553B",
           "#00cc96",
           "#ab63fa",
           "#FFA15A",
           "#19d3f3",
           "#FF6692",
           "#B6E880",
           "#FF97FF",
           "#FECB52"
          ],
          "font": {
           "color": "#2a3f5f"
          },
          "geo": {
           "bgcolor": "white",
           "lakecolor": "white",
           "landcolor": "#E5ECF6",
           "showlakes": true,
           "showland": true,
           "subunitcolor": "white"
          },
          "hoverlabel": {
           "align": "left"
          },
          "hovermode": "closest",
          "mapbox": {
           "style": "light"
          },
          "paper_bgcolor": "white",
          "plot_bgcolor": "#E5ECF6",
          "polar": {
           "angularaxis": {
            "gridcolor": "white",
            "linecolor": "white",
            "ticks": ""
           },
           "bgcolor": "#E5ECF6",
           "radialaxis": {
            "gridcolor": "white",
            "linecolor": "white",
            "ticks": ""
           }
          },
          "scene": {
           "xaxis": {
            "backgroundcolor": "#E5ECF6",
            "gridcolor": "white",
            "gridwidth": 2,
            "linecolor": "white",
            "showbackground": true,
            "ticks": "",
            "zerolinecolor": "white"
           },
           "yaxis": {
            "backgroundcolor": "#E5ECF6",
            "gridcolor": "white",
            "gridwidth": 2,
            "linecolor": "white",
            "showbackground": true,
            "ticks": "",
            "zerolinecolor": "white"
           },
           "zaxis": {
            "backgroundcolor": "#E5ECF6",
            "gridcolor": "white",
            "gridwidth": 2,
            "linecolor": "white",
            "showbackground": true,
            "ticks": "",
            "zerolinecolor": "white"
           }
          },
          "shapedefaults": {
           "line": {
            "color": "#2a3f5f"
           }
          },
          "ternary": {
           "aaxis": {
            "gridcolor": "white",
            "linecolor": "white",
            "ticks": ""
           },
           "baxis": {
            "gridcolor": "white",
            "linecolor": "white",
            "ticks": ""
           },
           "bgcolor": "#E5ECF6",
           "caxis": {
            "gridcolor": "white",
            "linecolor": "white",
            "ticks": ""
           }
          },
          "title": {
           "x": 0.05
          },
          "xaxis": {
           "automargin": true,
           "gridcolor": "white",
           "linecolor": "white",
           "ticks": "",
           "title": {
            "standoff": 15
           },
           "zerolinecolor": "white",
           "zerolinewidth": 2
          },
          "yaxis": {
           "automargin": true,
           "gridcolor": "white",
           "linecolor": "white",
           "ticks": "",
           "title": {
            "standoff": 15
           },
           "zerolinecolor": "white",
           "zerolinewidth": 2
          }
         }
        },
        "title": {
         "text": "2021 Three largest GDP per Capita - Life Expectancy"
        },
        "xaxis": {
         "anchor": "y",
         "domain": [
          0,
          0.31999999999999995
         ],
         "title": {
          "text": "Year"
         }
        },
        "xaxis2": {
         "anchor": "y2",
         "domain": [
          0.33999999999999997,
          0.6599999999999999
         ],
         "matches": "x",
         "title": {
          "text": "Year"
         }
        },
        "xaxis3": {
         "anchor": "y3",
         "domain": [
          0.6799999999999999,
          0.9999999999999999
         ],
         "matches": "x",
         "title": {
          "text": "Year"
         }
        },
        "yaxis": {
         "anchor": "x",
         "domain": [
          0,
          1
         ],
         "title": {
          "text": "Life Expectancy"
         }
        },
        "yaxis2": {
         "anchor": "x2",
         "domain": [
          0,
          1
         ],
         "matches": "y",
         "showticklabels": false
        },
        "yaxis3": {
         "anchor": "x3",
         "domain": [
          0,
          1
         ],
         "matches": "y",
         "showticklabels": false
        }
       }
      }
     },
     "metadata": {},
     "output_type": "display_data"
    }
   ],
   "source": [
    "top_three_countries_le_df = top_three_countries_le_df.reset_index()\n",
    "fig = (\n",
    "    px.line(top_three_countries_le_df,\n",
    "            x='Year',\n",
    "            y='Life Expectancy',\n",
    "            facet_col='Country',\n",
    "            color='Country',\n",
    "            title='2021 Three largest GDP per Capita - Life Expectancy')\n",
    ")\n",
    "\n",
    "fig"
   ]
  },
  {
   "cell_type": "markdown",
   "id": "8bef7a03",
   "metadata": {},
   "source": [
    "#### 27. Create a scatter plot of Life Expectancy vs GDP per Capita for the year 2021. What do you notice?"
   ]
  },
  {
   "cell_type": "code",
   "execution_count": 51,
   "id": "529a03a1",
   "metadata": {},
   "outputs": [
    {
     "data": {
      "image/png": "[encoded data removed]",
      "text/plain": [
       "<Figure size 640x480 with 1 Axes>"
      ]
     },
     "metadata": {},
     "output_type": "display_data"
    }
   ],
   "source": [
    "sns.scatterplot(gdp_le_2021, x=\"GDP_Per_Capita\", y=\"Life Expectancy\")\n",
    "plt.title(\"GDP per capita vs Life Expectancy (2021)\")\n",
    "plt.xlabel(\"GDP per capita ($)\")\n",
    "plt.ylabel(\"Life Expectancy (yrs)\");"
   ]
  },
  {
   "cell_type": "markdown",
   "id": "e1fdfb31",
   "metadata": {},
   "source": [
    "- **The scatterplot indicates a positive association between GDP per capita and life expectancy that takes on a vaguely logarithmic shape, meaning that generally as one goes up the other also goes up, but there is a ceiling around 85 years where countries' GDP per capita can continue to increase, but the life expectancy rate of increase decreases. There can be no causation inferred from this data alone.**"
   ]
  },
  {
   "cell_type": "markdown",
   "id": "1324376d",
   "metadata": {},
   "source": [
    "##### Plotly used below for practice"
   ]
  },
  {
   "cell_type": "code",
   "execution_count": 52,
   "id": "4b4f6c47",
   "metadata": {},
   "outputs": [
    {
     "data": {
      "application/vnd.plotly.v1+json": {
       "config": {
        "plotlyServerURL": "https://plot.ly"
       },
       "data": [
        {
         "customdata": [
          [
           "Afghanistan"
          ],
          [
           "Albania"
          ],
          [
           "Algeria"
          ],
          [
           "Angola"
          ],
          [
           "Antigua and Barbuda"
          ],
          [
           "Argentina"
          ],
          [
           "Armenia"
          ],
          [
           "Aruba"
          ],
          [
           "Australia"
          ],
          [
           "Austria"
          ],
          [
           "Azerbaijan"
          ],
          [
           "Bahrain"
          ],
          [
           "Bangladesh"
          ],
          [
           "Barbados"
          ],
          [
           "Belarus"
          ],
          [
           "Belgium"
          ],
          [
           "Belize"
          ],
          [
           "Benin"
          ],
          [
           "Bermuda"
          ],
          [
           "Bhutan"
          ],
          [
           "Bolivia"
          ],
          [
           "Bosnia and Herzegovina"
          ],
          [
           "Botswana"
          ],
          [
           "Brazil"
          ],
          [
           "Bulgaria"
          ],
          [
           "Burkina Faso"
          ],
          [
           "Burundi"
          ],
          [
           "Cabo Verde"
          ],
          [
           "Cambodia"
          ],
          [
           "Cameroon"
          ],
          [
           "Canada"
          ],
          [
           "Cayman Islands"
          ],
          [
           "Central African Republic"
          ],
          [
           "Chad"
          ],
          [
           "Chile"
          ],
          [
           "China"
          ],
          [
           "Colombia"
          ],
          [
           "Comoros"
          ],
          [
           "Costa Rica"
          ],
          [
           "Croatia"
          ],
          [
           "Cyprus"
          ],
          [
           "Denmark"
          ],
          [
           "Djibouti"
          ],
          [
           "Dominica"
          ],
          [
           "Dominican Republic"
          ],
          [
           "Ecuador"
          ],
          [
           "El Salvador"
          ],
          [
           "Equatorial Guinea"
          ],
          [
           "Estonia"
          ],
          [
           "Eswatini"
          ],
          [
           "Ethiopia"
          ],
          [
           "Fiji"
          ],
          [
           "Finland"
          ],
          [
           "France"
          ],
          [
           "Gabon"
          ],
          [
           "Georgia"
          ],
          [
           "Germany"
          ],
          [
           "Ghana"
          ],
          [
           "Greece"
          ],
          [
           "Grenada"
          ],
          [
           "Guatemala"
          ],
          [
           "Guinea"
          ],
          [
           "Guinea-Bissau"
          ],
          [
           "Guyana"
          ],
          [
           "Haiti"
          ],
          [
           "Honduras"
          ],
          [
           "Hong Kong SAR, China"
          ],
          [
           "Hungary"
          ],
          [
           "Iceland"
          ],
          [
           "India"
          ],
          [
           "Indonesia"
          ],
          [
           "Iraq"
          ],
          [
           "Ireland"
          ],
          [
           "Israel"
          ],
          [
           "Italy"
          ],
          [
           "Jamaica"
          ],
          [
           "Japan"
          ],
          [
           "Jordan"
          ],
          [
           "Kazakhstan"
          ],
          [
           "Kenya"
          ],
          [
           "Kiribati"
          ],
          [
           "Kosovo"
          ],
          [
           "Kuwait"
          ],
          [
           "Kyrgyz Republic"
          ],
          [
           "Lao PDR"
          ],
          [
           "Latvia"
          ],
          [
           "Lebanon"
          ],
          [
           "Lesotho"
          ],
          [
           "Liberia"
          ],
          [
           "Libya"
          ],
          [
           "Lithuania"
          ],
          [
           "Luxembourg"
          ],
          [
           "Macao SAR, China"
          ],
          [
           "Madagascar"
          ],
          [
           "Malawi"
          ],
          [
           "Malaysia"
          ],
          [
           "Maldives"
          ],
          [
           "Mali"
          ],
          [
           "Malta"
          ],
          [
           "Marshall Islands"
          ],
          [
           "Mauritania"
          ],
          [
           "Mauritius"
          ],
          [
           "Mexico"
          ],
          [
           "Moldova"
          ],
          [
           "Mongolia"
          ],
          [
           "Montenegro"
          ],
          [
           "Morocco"
          ],
          [
           "Mozambique"
          ],
          [
           "Myanmar"
          ],
          [
           "Namibia"
          ],
          [
           "Nauru"
          ],
          [
           "Nepal"
          ],
          [
           "Netherlands"
          ],
          [
           "New Zealand"
          ],
          [
           "Nicaragua"
          ],
          [
           "Niger"
          ],
          [
           "Nigeria"
          ],
          [
           "North Macedonia"
          ],
          [
           "Norway"
          ],
          [
           "Oman"
          ],
          [
           "Pakistan"
          ],
          [
           "Panama"
          ],
          [
           "Papua New Guinea"
          ],
          [
           "Paraguay"
          ],
          [
           "Peru"
          ],
          [
           "Philippines"
          ],
          [
           "Poland"
          ],
          [
           "Portugal"
          ],
          [
           "Puerto Rico"
          ],
          [
           "Qatar"
          ],
          [
           "Romania"
          ],
          [
           "Rwanda"
          ],
          [
           "Samoa"
          ],
          [
           "Saudi Arabia"
          ],
          [
           "Senegal"
          ],
          [
           "Serbia"
          ],
          [
           "Seychelles"
          ],
          [
           "Sierra Leone"
          ],
          [
           "Singapore"
          ],
          [
           "Slovak Republic"
          ],
          [
           "Slovenia"
          ],
          [
           "Solomon Islands"
          ],
          [
           "Somalia"
          ],
          [
           "South Africa"
          ],
          [
           "Spain"
          ],
          [
           "Sri Lanka"
          ],
          [
           "St. Kitts and Nevis"
          ],
          [
           "St. Lucia"
          ],
          [
           "St. Vincent and the Grenadines"
          ],
          [
           "Sudan"
          ],
          [
           "Suriname"
          ],
          [
           "Sweden"
          ],
          [
           "Switzerland"
          ],
          [
           "Tajikistan"
          ],
          [
           "Tanzania"
          ],
          [
           "Thailand"
          ],
          [
           "Timor-Leste"
          ],
          [
           "Togo"
          ],
          [
           "Tonga"
          ],
          [
           "Trinidad and Tobago"
          ],
          [
           "Tunisia"
          ],
          [
           "Tuvalu"
          ],
          [
           "Uganda"
          ],
          [
           "Ukraine"
          ],
          [
           "United Arab Emirates"
          ],
          [
           "United Kingdom"
          ],
          [
           "United States"
          ],
          [
           "Uruguay"
          ],
          [
           "Uzbekistan"
          ],
          [
           "Vanuatu"
          ],
          [
           "West Bank and Gaza"
          ],
          [
           "Zambia"
          ],
          [
           "Zimbabwe"
          ]
         ],
         "hovertemplate": "GDP_Per_Capita=%{x}<br>Life Expectancy=%{marker.color}<br>Country=%{customdata[0]}<extra></extra>",
         "legendgroup": "",
         "marker": {
          "color": [
           61.982,
           76.463,
           76.377,
           61.643,
           78.497,
           75.39,
           72.043,
           74.626,
           83.3,
           81.190243902439,
           69.366,
           78.76,
           72.381,
           77.571,
           72.3706829268293,
           81.790243902439,
           70.47,
           59.821,
           79.28,
           71.815,
           63.63,
           75.3,
           61.141,
           72.75,
           71.4634146341463,
           59.27,
           61.663,
           74.052,
           69.584,
           60.333,
           81.5870731707317,
           82.009756097561,
           53.895,
           52.525,
           78.944,
           78.211,
           72.83,
           63.417,
           77.023,
           76.4243902439025,
           81.203,
           81.4048780487805,
           62.305,
           72.814,
           72.615,
           73.67,
           70.748,
           60.594,
           76.9439024390244,
           57.066,
           64.975,
           67.114,
           81.8853658536585,
           82.3243902439024,
           65.821,
           71.694,
           80.790243902439,
           63.795,
           80.0829268292683,
           74.936,
           69.237,
           58.892,
           59.652,
           65.673,
           63.192,
           70.123,
           85.5326829268293,
           74.1634146341463,
           83.1658536585366,
           67.24,
           67.57,
           70.378,
           82.3536585365854,
           82.5,
           82.6463414634146,
           70.5,
           84.4456097560976,
           74.256,
           70.23,
           61.427,
           67.417,
           76.806,
           78.673,
           71.9,
           68.061,
           72.9804878048781,
           75.047,
           53.062,
           60.747,
           71.911,
           74.0365853658537,
           82.5975609756098,
           85.399,
           64.485,
           62.904,
           74.884,
           79.918,
           58.941,
           82.5073170731707,
           65.269,
           64.364,
           73.680243902439,
           70.213,
           68.846,
           70.975,
           73.8243902439024,
           74.042,
           59.325,
           65.672,
           59.269,
           63.617,
           68.45,
           81.309756097561,
           82.2073170731707,
           73.837,
           61.576,
           52.676,
           73.2463414634146,
           83.1634146341463,
           72.541,
           66.098,
           76.223,
           65.351,
           70.262,
           72.377,
           69.266,
           75.5024390243902,
           81.3780487804878,
           80.162,
           79.272,
           72.809756097561,
           66.072,
           72.767,
           76.936,
           67.093,
           72.780487804878,
           73.3975609756097,
           60.062,
           83.0926829268293,
           74.6146341463415,
           80.6756097560976,
           70.348,
           55.28,
           62.341,
           83.2292682926829,
           76.399,
           71.682,
           71.111,
           69.629,
           65.267,
           70.274,
           83.0560975609756,
           83.7512195121951,
           71.594,
           66.201,
           78.715,
           67.737,
           61.619,
           70.986,
           72.971,
           73.772,
           64.547,
           62.705,
           69.6478048780488,
           78.71,
           80.7,
           76.3292682926829,
           75.436,
           70.862,
           70.449,
           73.473,
           61.223,
           59.253
          ],
          "coloraxis": "coloraxis",
          "symbol": "circle"
         },
         "mode": "markers",
         "name": "",
         "orientation": "v",
         "showlegend": false,
         "type": "scatter",
         "x": [
          1517.0162662229004,
          14595.944385954315,
          11029.138782119184,
          5911.835657384446,
          19899.88242535308,
          21527.196136701514,
          14193.116834061891,
          38866.33348619666,
          49774.340701916655,
          54121.14554204965,
          14433.904206035546,
          49754.04773704288,
          5911.01299624227,
          13754.802423178116,
          19872.69249520087,
          51823.50752959029,
          8762.24053675135,
          3321.5521744596235,
          78570.48951483957,
          10907.856709608446,
          8052.177441439303,
          15893.060102042558,
          14907.085768038569,
          14735.58178301524,
          24393.775534638506,
          2179.7890386663857,
          714.0667123775538,
          6592.855522109262,
          4354.565206282032,
          3700.4642891129806,
          48218.03831576798,
          69400.66666123806,
          837.5046857253758,
          1425.494512453975,
          25412.75207256649,
          17657.49518086657,
          14661.213243538055,
          3228.5268583001853,
          21189.695663489412,
          31793.226112243126,
          41694.2578125,
          57962.65409438128,
          4912.671543460476,
          10899.414529565684,
          18626.078683118227,
          10668.758291422186,
          9191.604049216914,
          14637.00734985946,
          38717.6961505119,
          8856.82896802352,
          2319.161063435332,
          10359.203697766028,
          48713.29148858533,
          44993.12594552616,
          13814.495200330592,
          15486.65898062151,
          53179.65440475146,
          5435.237684797212,
          29548.038910221658,
          13688.29770931014,
          8927.30195533989,
          2640.3441909513695,
          1831.383228802076,
          21925.18685873826,
          2881.17657533473,
          5572.176988026107,
          60037.4458768956,
          33619.6266459951,
          53003.17040768648,
          6677.185030857757,
          11859.436322952586,
          8786.582352320067,
          102785.49023869034,
          42409.47604043157,
          42055.54240924128,
          9607.227253664974,
          41034.65678030328,
          9203.271009827204,
          26110.53004091895,
          4745.637033429038,
          2007.9870377941893,
          11884.179915389665,
          45652.27840098899,
          4933.785650155733,
          7846.97502229276,
          32080.20381792812,
          12986.912832506738,
          2292.8527189440197,
          1423.2295889040297,
          20273.88124771671,
          39305.42262641085,
          115683.49370826466,
          64796.99513698751,
          1482.376159094939,
          1491.133687668635,
          26333.159001005617,
          18765.21635112314,
          2120.623301230112,
          45571.58525825139,
          5961.919858574647,
          5307.521902027302,
          20901.875085471016,
          19086.10468025631,
          13602.33345740702,
          11668.43041758818,
          20710.41347511285,
          8058.39697265625,
          1226.766964489864,
          4032.625652525765,
          9208.5830291537,
          10989.622079088298,
          3853.6802963405535,
          56617.351792442154,
          44041.902808568666,
          5692.021327080314,
          1186.576808845348,
          4922.632452286354,
          16708.537207420057,
          65909.00303028169,
          34294.76467280447,
          5232.142773174585,
          30416.79349540267,
          3670.1909102748946,
          13676.390206503818,
          12533.841417095811,
          8095.579567437582,
          34915.5390556534,
          33681.02883171325,
          32766.665891112523,
          92862.57179806977,
          30974.37069212964,
          2237.70321395485,
          5534.222888832896,
          46587.15277104336,
          3511.6374237336136,
          19827.756849927235,
          27643.35453404787,
          1614.8598301377122,
          107741.11843590894,
          32534.95380657595,
          40036.485435638904,
          2397.322823724868,
          1136.7359890131097,
          13311.925698786346,
          37933.47020964907,
          13250.629848134558,
          26486.132581465587,
          13045.931706010211,
          13833.83127774133,
          3701.06909179688,
          14766.748001298314,
          53771.98133093748,
          70097.36875288289,
          3910.4627176377567,
          2583.34448242188,
          17087.210954272807,
          5032.4102225066445,
          2136.6261884671567,
          6142.963536516776,
          23037.143296211056,
          10395.914297791363,
          4604.401249085398,
          2246.414110773397,
          12949.326171875,
          69733.79377435385,
          44949.09303522898,
          63635.82381040801,
          23257.256408814897,
          7800.501501009317,
          2800.493865507552,
          5641.044400464515,
          3236.7889807777906,
          2115.1445549070004
         ],
         "xaxis": "x",
         "y": [
          61.982,
          76.463,
          76.377,
          61.643,
          78.497,
          75.39,
          72.043,
          74.626,
          83.3,
          81.190243902439,
          69.366,
          78.76,
          72.381,
          77.571,
          72.3706829268293,
          81.790243902439,
          70.47,
          59.821,
          79.28,
          71.815,
          63.63,
          75.3,
          61.141,
          72.75,
          71.4634146341463,
          59.27,
          61.663,
          74.052,
          69.584,
          60.333,
          81.5870731707317,
          82.009756097561,
          53.895,
          52.525,
          78.944,
          78.211,
          72.83,
          63.417,
          77.023,
          76.4243902439025,
          81.203,
          81.4048780487805,
          62.305,
          72.814,
          72.615,
          73.67,
          70.748,
          60.594,
          76.9439024390244,
          57.066,
          64.975,
          67.114,
          81.8853658536585,
          82.3243902439024,
          65.821,
          71.694,
          80.790243902439,
          63.795,
          80.0829268292683,
          74.936,
          69.237,
          58.892,
          59.652,
          65.673,
          63.192,
          70.123,
          85.5326829268293,
          74.1634146341463,
          83.1658536585366,
          67.24,
          67.57,
          70.378,
          82.3536585365854,
          82.5,
          82.6463414634146,
          70.5,
          84.4456097560976,
          74.256,
          70.23,
          61.427,
          67.417,
          76.806,
          78.673,
          71.9,
          68.061,
          72.9804878048781,
          75.047,
          53.062,
          60.747,
          71.911,
          74.0365853658537,
          82.5975609756098,
          85.399,
          64.485,
          62.904,
          74.884,
          79.918,
          58.941,
          82.5073170731707,
          65.269,
          64.364,
          73.680243902439,
          70.213,
          68.846,
          70.975,
          73.8243902439024,
          74.042,
          59.325,
          65.672,
          59.269,
          63.617,
          68.45,
          81.309756097561,
          82.2073170731707,
          73.837,
          61.576,
          52.676,
          73.2463414634146,
          83.1634146341463,
          72.541,
          66.098,
          76.223,
          65.351,
          70.262,
          72.377,
          69.266,
          75.5024390243902,
          81.3780487804878,
          80.162,
          79.272,
          72.809756097561,
          66.072,
          72.767,
          76.936,
          67.093,
          72.780487804878,
          73.3975609756097,
          60.062,
          83.0926829268293,
          74.6146341463415,
          80.6756097560976,
          70.348,
          55.28,
          62.341,
          83.2292682926829,
          76.399,
          71.682,
          71.111,
          69.629,
          65.267,
          70.274,
          83.0560975609756,
          83.7512195121951,
          71.594,
          66.201,
          78.715,
          67.737,
          61.619,
          70.986,
          72.971,
          73.772,
          64.547,
          62.705,
          69.6478048780488,
          78.71,
          80.7,
          76.3292682926829,
          75.436,
          70.862,
          70.449,
          73.473,
          61.223,
          59.253
         ],
         "yaxis": "y"
        }
       ],
       "layout": {
        "coloraxis": {
         "colorbar": {
          "title": {
           "text": "Life Expectancy"
          }
         },
         "colorscale": [
          [
           0,
           "#0d0887"
          ],
          [
           0.1111111111111111,
           "#46039f"
          ],
          [
           0.2222222222222222,
           "#7201a8"
          ],
          [
           0.3333333333333333,
           "#9c179e"
          ],
          [
           0.4444444444444444,
           "#bd3786"
          ],
          [
           0.5555555555555556,
           "#d8576b"
          ],
          [
           0.6666666666666666,
           "#ed7953"
          ],
          [
           0.7777777777777778,
           "#fb9f3a"
          ],
          [
           0.8888888888888888,
           "#fdca26"
          ],
          [
           1,
           "#f0f921"
          ]
         ]
        },
        "legend": {
         "tracegroupgap": 0
        },
        "template": {
         "data": {
          "bar": [
           {
            "error_x": {
             "color": "#2a3f5f"
            },
            "error_y": {
             "color": "#2a3f5f"
            },
            "marker": {
             "line": {
              "color": "#E5ECF6",
              "width": 0.5
             },
             "pattern": {
              "fillmode": "overlay",
              "size": 10,
              "solidity": 0.2
             }
            },
            "type": "bar"
           }
          ],
          "barpolar": [
           {
            "marker": {
             "line": {
              "color": "#E5ECF6",
              "width": 0.5
             },
             "pattern": {
              "fillmode": "overlay",
              "size": 10,
              "solidity": 0.2
             }
            },
            "type": "barpolar"
           }
          ],
          "carpet": [
           {
            "aaxis": {
             "endlinecolor": "#2a3f5f",
             "gridcolor": "white",
             "linecolor": "white",
             "minorgridcolor": "white",
             "startlinecolor": "#2a3f5f"
            },
            "baxis": {
             "endlinecolor": "#2a3f5f",
             "gridcolor": "white",
             "linecolor": "white",
             "minorgridcolor": "white",
             "startlinecolor": "#2a3f5f"
            },
            "type": "carpet"
           }
          ],
          "choropleth": [
           {
            "colorbar": {
             "outlinewidth": 0,
             "ticks": ""
            },
            "type": "choropleth"
           }
          ],
          "contour": [
           {
            "colorbar": {
             "outlinewidth": 0,
             "ticks": ""
            },
            "colorscale": [
             [
              0,
              "#0d0887"
             ],
             [
              0.1111111111111111,
              "#46039f"
             ],
             [
              0.2222222222222222,
              "#7201a8"
             ],
             [
              0.3333333333333333,
              "#9c179e"
             ],
             [
              0.4444444444444444,
              "#bd3786"
             ],
             [
              0.5555555555555556,
              "#d8576b"
             ],
             [
              0.6666666666666666,
              "#ed7953"
             ],
             [
              0.7777777777777778,
              "#fb9f3a"
             ],
             [
              0.8888888888888888,
              "#fdca26"
             ],
             [
              1,
              "#f0f921"
             ]
            ],
            "type": "contour"
           }
          ],
          "contourcarpet": [
           {
            "colorbar": {
             "outlinewidth": 0,
             "ticks": ""
            },
            "type": "contourcarpet"
           }
          ],
          "heatmap": [
           {
            "colorbar": {
             "outlinewidth": 0,
             "ticks": ""
            },
            "colorscale": [
             [
              0,
              "#0d0887"
             ],
             [
              0.1111111111111111,
              "#46039f"
             ],
             [
              0.2222222222222222,
              "#7201a8"
             ],
             [
              0.3333333333333333,
              "#9c179e"
             ],
             [
              0.4444444444444444,
              "#bd3786"
             ],
             [
              0.5555555555555556,
              "#d8576b"
             ],
             [
              0.6666666666666666,
              "#ed7953"
             ],
             [
              0.7777777777777778,
              "#fb9f3a"
             ],
             [
              0.8888888888888888,
              "#fdca26"
             ],
             [
              1,
              "#f0f921"
             ]
            ],
            "type": "heatmap"
           }
          ],
          "heatmapgl": [
           {
            "colorbar": {
             "outlinewidth": 0,
             "ticks": ""
            },
            "colorscale": [
             [
              0,
              "#0d0887"
             ],
             [
              0.1111111111111111,
              "#46039f"
             ],
             [
              0.2222222222222222,
              "#7201a8"
             ],
             [
              0.3333333333333333,
              "#9c179e"
             ],
             [
              0.4444444444444444,
              "#bd3786"
             ],
             [
              0.5555555555555556,
              "#d8576b"
             ],
             [
              0.6666666666666666,
              "#ed7953"
             ],
             [
              0.7777777777777778,
              "#fb9f3a"
             ],
             [
              0.8888888888888888,
              "#fdca26"
             ],
             [
              1,
              "#f0f921"
             ]
            ],
            "type": "heatmapgl"
           }
          ],
          "histogram": [
           {
            "marker": {
             "pattern": {
              "fillmode": "overlay",
              "size": 10,
              "solidity": 0.2
             }
            },
            "type": "histogram"
           }
          ],
          "histogram2d": [
           {
            "colorbar": {
             "outlinewidth": 0,
             "ticks": ""
            },
            "colorscale": [
             [
              0,
              "#0d0887"
             ],
             [
              0.1111111111111111,
              "#46039f"
             ],
             [
              0.2222222222222222,
              "#7201a8"
             ],
             [
              0.3333333333333333,
              "#9c179e"
             ],
             [
              0.4444444444444444,
              "#bd3786"
             ],
             [
              0.5555555555555556,
              "#d8576b"
             ],
             [
              0.6666666666666666,
              "#ed7953"
             ],
             [
              0.7777777777777778,
              "#fb9f3a"
             ],
             [
              0.8888888888888888,
              "#fdca26"
             ],
             [
              1,
              "#f0f921"
             ]
            ],
            "type": "histogram2d"
           }
          ],
          "histogram2dcontour": [
           {
            "colorbar": {
             "outlinewidth": 0,
             "ticks": ""
            },
            "colorscale": [
             [
              0,
              "#0d0887"
             ],
             [
              0.1111111111111111,
              "#46039f"
             ],
             [
              0.2222222222222222,
              "#7201a8"
             ],
             [
              0.3333333333333333,
              "#9c179e"
             ],
             [
              0.4444444444444444,
              "#bd3786"
             ],
             [
              0.5555555555555556,
              "#d8576b"
             ],
             [
              0.6666666666666666,
              "#ed7953"
             ],
             [
              0.7777777777777778,
              "#fb9f3a"
             ],
             [
              0.8888888888888888,
              "#fdca26"
             ],
             [
              1,
              "#f0f921"
             ]
            ],
            "type": "histogram2dcontour"
           }
          ],
          "mesh3d": [
           {
            "colorbar": {
             "outlinewidth": 0,
             "ticks": ""
            },
            "type": "mesh3d"
           }
          ],
          "parcoords": [
           {
            "line": {
             "colorbar": {
              "outlinewidth": 0,
              "ticks": ""
             }
            },
            "type": "parcoords"
           }
          ],
          "pie": [
           {
            "automargin": true,
            "type": "pie"
           }
          ],
          "scatter": [
           {
            "fillpattern": {
             "fillmode": "overlay",
             "size": 10,
             "solidity": 0.2
            },
            "type": "scatter"
           }
          ],
          "scatter3d": [
           {
            "line": {
             "colorbar": {
              "outlinewidth": 0,
              "ticks": ""
             }
            },
            "marker": {
             "colorbar": {
              "outlinewidth": 0,
              "ticks": ""
             }
            },
            "type": "scatter3d"
           }
          ],
          "scattercarpet": [
           {
            "marker": {
             "colorbar": {
              "outlinewidth": 0,
              "ticks": ""
             }
            },
            "type": "scattercarpet"
           }
          ],
          "scattergeo": [
           {
            "marker": {
             "colorbar": {
              "outlinewidth": 0,
              "ticks": ""
             }
            },
            "type": "scattergeo"
           }
          ],
          "scattergl": [
           {
            "marker": {
             "colorbar": {
              "outlinewidth": 0,
              "ticks": ""
             }
            },
            "type": "scattergl"
           }
          ],
          "scattermapbox": [
           {
            "marker": {
             "colorbar": {
              "outlinewidth": 0,
              "ticks": ""
             }
            },
            "type": "scattermapbox"
           }
          ],
          "scatterpolar": [
           {
            "marker": {
             "colorbar": {
              "outlinewidth": 0,
              "ticks": ""
             }
            },
            "type": "scatterpolar"
           }
          ],
          "scatterpolargl": [
           {
            "marker": {
             "colorbar": {
              "outlinewidth": 0,
              "ticks": ""
             }
            },
            "type": "scatterpolargl"
           }
          ],
          "scatterternary": [
           {
            "marker": {
             "colorbar": {
              "outlinewidth": 0,
              "ticks": ""
             }
            },
            "type": "scatterternary"
           }
          ],
          "surface": [
           {
            "colorbar": {
             "outlinewidth": 0,
             "ticks": ""
            },
            "colorscale": [
             [
              0,
              "#0d0887"
             ],
             [
              0.1111111111111111,
              "#46039f"
             ],
             [
              0.2222222222222222,
              "#7201a8"
             ],
             [
              0.3333333333333333,
              "#9c179e"
             ],
             [
              0.4444444444444444,
              "#bd3786"
             ],
             [
              0.5555555555555556,
              "#d8576b"
             ],
             [
              0.6666666666666666,
              "#ed7953"
             ],
             [
              0.7777777777777778,
              "#fb9f3a"
             ],
             [
              0.8888888888888888,
              "#fdca26"
             ],
             [
              1,
              "#f0f921"
             ]
            ],
            "type": "surface"
           }
          ],
          "table": [
           {
            "cells": {
             "fill": {
              "color": "#EBF0F8"
             },
             "line": {
              "color": "white"
             }
            },
            "header": {
             "fill": {
              "color": "#C8D4E3"
             },
             "line": {
              "color": "white"
             }
            },
            "type": "table"
           }
          ]
         },
         "layout": {
          "annotationdefaults": {
           "arrowcolor": "#2a3f5f",
           "arrowhead": 0,
           "arrowwidth": 1
          },
          "autotypenumbers": "strict",
          "coloraxis": {
           "colorbar": {
            "outlinewidth": 0,
            "ticks": ""
           }
          },
          "colorscale": {
           "diverging": [
            [
             0,
             "#8e0152"
            ],
            [
             0.1,
             "#c51b7d"
            ],
            [
             0.2,
             "#de77ae"
            ],
            [
             0.3,
             "#f1b6da"
            ],
            [
             0.4,
             "#fde0ef"
            ],
            [
             0.5,
             "#f7f7f7"
            ],
            [
             0.6,
             "#e6f5d0"
            ],
            [
             0.7,
             "#b8e186"
            ],
            [
             0.8,
             "#7fbc41"
            ],
            [
             0.9,
             "#4d9221"
            ],
            [
             1,
             "#276419"
            ]
           ],
           "sequential": [
            [
             0,
             "#0d0887"
            ],
            [
             0.1111111111111111,
             "#46039f"
            ],
            [
             0.2222222222222222,
             "#7201a8"
            ],
            [
             0.3333333333333333,
             "#9c179e"
            ],
            [
             0.4444444444444444,
             "#bd3786"
            ],
            [
             0.5555555555555556,
             "#d8576b"
            ],
            [
             0.6666666666666666,
             "#ed7953"
            ],
            [
             0.7777777777777778,
             "#fb9f3a"
            ],
            [
             0.8888888888888888,
             "#fdca26"
            ],
            [
             1,
             "#f0f921"
            ]
           ],
           "sequentialminus": [
            [
             0,
             "#0d0887"
            ],
            [
             0.1111111111111111,
             "#46039f"
            ],
            [
             0.2222222222222222,
             "#7201a8"
            ],
            [
             0.3333333333333333,
             "#9c179e"
            ],
            [
             0.4444444444444444,
             "#bd3786"
            ],
            [
             0.5555555555555556,
             "#d8576b"
            ],
            [
             0.6666666666666666,
             "#ed7953"
            ],
            [
             0.7777777777777778,
             "#fb9f3a"
            ],
            [
             0.8888888888888888,
             "#fdca26"
            ],
            [
             1,
             "#f0f921"
            ]
           ]
          },
          "colorway": [
           "#636efa",
           "#EF553B",
           "#00cc96",
           "#ab63fa",
           "#FFA15A",
           "#19d3f3",
           "#FF6692",
           "#B6E880",
           "#FF97FF",
           "#FECB52"
          ],
          "font": {
           "color": "#2a3f5f"
          },
          "geo": {
           "bgcolor": "white",
           "lakecolor": "white",
           "landcolor": "#E5ECF6",
           "showlakes": true,
           "showland": true,
           "subunitcolor": "white"
          },
          "hoverlabel": {
           "align": "left"
          },
          "hovermode": "closest",
          "mapbox": {
           "style": "light"
          },
          "paper_bgcolor": "white",
          "plot_bgcolor": "#E5ECF6",
          "polar": {
           "angularaxis": {
            "gridcolor": "white",
            "linecolor": "white",
            "ticks": ""
           },
           "bgcolor": "#E5ECF6",
           "radialaxis": {
            "gridcolor": "white",
            "linecolor": "white",
            "ticks": ""
           }
          },
          "scene": {
           "xaxis": {
            "backgroundcolor": "#E5ECF6",
            "gridcolor": "white",
            "gridwidth": 2,
            "linecolor": "white",
            "showbackground": true,
            "ticks": "",
            "zerolinecolor": "white"
           },
           "yaxis": {
            "backgroundcolor": "#E5ECF6",
            "gridcolor": "white",
            "gridwidth": 2,
            "linecolor": "white",
            "showbackground": true,
            "ticks": "",
            "zerolinecolor": "white"
           },
           "zaxis": {
            "backgroundcolor": "#E5ECF6",
            "gridcolor": "white",
            "gridwidth": 2,
            "linecolor": "white",
            "showbackground": true,
            "ticks": "",
            "zerolinecolor": "white"
           }
          },
          "shapedefaults": {
           "line": {
            "color": "#2a3f5f"
           }
          },
          "ternary": {
           "aaxis": {
            "gridcolor": "white",
            "linecolor": "white",
            "ticks": ""
           },
           "baxis": {
            "gridcolor": "white",
            "linecolor": "white",
            "ticks": ""
           },
           "bgcolor": "#E5ECF6",
           "caxis": {
            "gridcolor": "white",
            "linecolor": "white",
            "ticks": ""
           }
          },
          "title": {
           "x": 0.05
          },
          "xaxis": {
           "automargin": true,
           "gridcolor": "white",
           "linecolor": "white",
           "ticks": "",
           "title": {
            "standoff": 15
           },
           "zerolinecolor": "white",
           "zerolinewidth": 2
          },
          "yaxis": {
           "automargin": true,
           "gridcolor": "white",
           "linecolor": "white",
           "ticks": "",
           "title": {
            "standoff": 15
           },
           "zerolinecolor": "white",
           "zerolinewidth": 2
          }
         }
        },
        "title": {
         "text": "GDP per capita vs. Life Expectancy (2021)"
        },
        "xaxis": {
         "anchor": "y",
         "domain": [
          0,
          1
         ],
         "title": {
          "text": "GDP per capita"
         }
        },
        "yaxis": {
         "anchor": "x",
         "domain": [
          0,
          1
         ],
         "title": {
          "text": "Life Expectancy"
         }
        }
       }
      }
     },
     "metadata": {},
     "output_type": "display_data"
    }
   ],
   "source": [
    "fig = (\n",
    "    px.scatter(gdp_le_2021,\n",
    "               x=\"GDP_Per_Capita\",\n",
    "               y=\"Life Expectancy\",\n",
    "               title='GDP per capita vs. Life Expectancy (2021)',\n",
    "               color='Life Expectancy',\n",
    "               hover_data=[\"GDP_Per_Capita\", \"Life Expectancy\", \"Country\"])\n",
    "    .update_layout(xaxis_title=\"GDP per capita\")\n",
    ")\n",
    "fig"
   ]
  },
  {
   "cell_type": "markdown",
   "id": "db8bda7c",
   "metadata": {},
   "source": [
    "#### 28. Find the correlation between Life Expectancy and GDP per Capita for the year 2021. What is the meaning of this number?"
   ]
  },
  {
   "cell_type": "code",
   "execution_count": 53,
   "id": "77920cb6",
   "metadata": {},
   "outputs": [
    {
     "name": "stdout",
     "output_type": "stream",
     "text": [
      "correlation = 0.7450812403297985\n"
     ]
    }
   ],
   "source": [
    "print(\n",
    "    \"correlation = \"\n",
    "    + str(gdp_le_2021[\"GDP_Per_Capita\"]\n",
    "          .corr(gdp_le_2021[\"Life Expectancy\"]))\n",
    ")"
   ]
  },
  {
   "cell_type": "markdown",
   "id": "18e9d9ec",
   "metadata": {},
   "source": [
    "- **Correlation (R) is a value between -1 and 1 which indicates the strength and type of association between two variables. A correlation of 0.745... indicates a moderately strong positive association between GDP per capita and life expectancy, meaning it is highly likely that to some extent, as one of those variables increases, so will the other.**"
   ]
  },
  {
   "cell_type": "markdown",
   "id": "d0dd1f46",
   "metadata": {},
   "source": [
    "#### 29. Add a column to `gdp_le_2021` and calculate the logarithm of GDP per capita. Find the correlation between the log of GDP per capita and life expectancy. How does this compare to the calculation in the previous part? Look at a scatter plot to see if the result of this calculation makes sense."
   ]
  },
  {
   "cell_type": "code",
   "execution_count": 65,
   "id": "5fa8e8f4",
   "metadata": {},
   "outputs": [
    {
     "name": "stdout",
     "output_type": "stream",
     "text": [
      "correlation = 0.8465749797261861\n"
     ]
    },
    {
     "data": {
      "image/png": "[encoded data removed]",
      "text/plain": [
       "<Figure size 640x480 with 1 Axes>"
      ]
     },
     "metadata": {},
     "output_type": "display_data"
    }
   ],
   "source": [
    "# Add column: Log(GDP per Capita)\n",
    "gdp_le_2021[\"Log(GDP/Cap)\"] = np.log(gdp_le_2021[\"GDP_Per_Capita\"])\n",
    "R = gdp_le_2021[\"Log(GDP/Cap)\"].corr(gdp_le_2021[\"Life Expectancy\"])\n",
    "print(\"correlation = \" + str(R))\n",
    "\n",
    "log_gdp_vs_le = sns.scatterplot(gdp_le_2021, x=\"Log(GDP/Cap)\", y=\"Life Expectancy\")\n",
    "plt.title(\"Log(GDP per capita) vs Life Expectancy (2021)\")\n",
    "plt.xlabel(\"Log(GDP per capita) ($)\")\n",
    "plt.ylabel(\"Life Expectancy (yrs)\")\n",
    "plt.text(7, 80, \"R = \" + str(round(R, 4)));"
   ]
  },
  {
   "cell_type": "markdown",
   "id": "fad70884",
   "metadata": {},
   "source": [
    "- **This correlation of 0.847 is even stronger than the previous correlation, meaning there is an even higher association between the log(gdp per capita) and life expectancy than just gdp per capita and L.E.\n",
    "The scatter plot shows a more linear trend that is positively associated and fairly strong.** "
   ]
  },
  {
   "cell_type": "markdown",
   "id": "e12791d7",
   "metadata": {},
   "source": [
    "##### Plotly used below for practice"
   ]
  },
  {
   "cell_type": "code",
   "execution_count": 55,
   "id": "dba7a828",
   "metadata": {},
   "outputs": [
    {
     "data": {
      "application/vnd.plotly.v1+json": {
       "config": {
        "plotlyServerURL": "https://plot.ly"
       },
       "data": [
        {
         "customdata": [
          [
           "Afghanistan"
          ],
          [
           "Albania"
          ],
          [
           "Algeria"
          ],
          [
           "Angola"
          ],
          [
           "Antigua and Barbuda"
          ],
          [
           "Argentina"
          ],
          [
           "Armenia"
          ],
          [
           "Aruba"
          ],
          [
           "Australia"
          ],
          [
           "Austria"
          ],
          [
           "Azerbaijan"
          ],
          [
           "Bahrain"
          ],
          [
           "Bangladesh"
          ],
          [
           "Barbados"
          ],
          [
           "Belarus"
          ],
          [
           "Belgium"
          ],
          [
           "Belize"
          ],
          [
           "Benin"
          ],
          [
           "Bermuda"
          ],
          [
           "Bhutan"
          ],
          [
           "Bolivia"
          ],
          [
           "Bosnia and Herzegovina"
          ],
          [
           "Botswana"
          ],
          [
           "Brazil"
          ],
          [
           "Bulgaria"
          ],
          [
           "Burkina Faso"
          ],
          [
           "Burundi"
          ],
          [
           "Cabo Verde"
          ],
          [
           "Cambodia"
          ],
          [
           "Cameroon"
          ],
          [
           "Canada"
          ],
          [
           "Cayman Islands"
          ],
          [
           "Central African Republic"
          ],
          [
           "Chad"
          ],
          [
           "Chile"
          ],
          [
           "China"
          ],
          [
           "Colombia"
          ],
          [
           "Comoros"
          ],
          [
           "Costa Rica"
          ],
          [
           "Croatia"
          ],
          [
           "Cyprus"
          ],
          [
           "Denmark"
          ],
          [
           "Djibouti"
          ],
          [
           "Dominica"
          ],
          [
           "Dominican Republic"
          ],
          [
           "Ecuador"
          ],
          [
           "El Salvador"
          ],
          [
           "Equatorial Guinea"
          ],
          [
           "Estonia"
          ],
          [
           "Eswatini"
          ],
          [
           "Ethiopia"
          ],
          [
           "Fiji"
          ],
          [
           "Finland"
          ],
          [
           "France"
          ],
          [
           "Gabon"
          ],
          [
           "Georgia"
          ],
          [
           "Germany"
          ],
          [
           "Ghana"
          ],
          [
           "Greece"
          ],
          [
           "Grenada"
          ],
          [
           "Guatemala"
          ],
          [
           "Guinea"
          ],
          [
           "Guinea-Bissau"
          ],
          [
           "Guyana"
          ],
          [
           "Haiti"
          ],
          [
           "Honduras"
          ],
          [
           "Hong Kong SAR, China"
          ],
          [
           "Hungary"
          ],
          [
           "Iceland"
          ],
          [
           "India"
          ],
          [
           "Indonesia"
          ],
          [
           "Iraq"
          ],
          [
           "Ireland"
          ],
          [
           "Israel"
          ],
          [
           "Italy"
          ],
          [
           "Jamaica"
          ],
          [
           "Japan"
          ],
          [
           "Jordan"
          ],
          [
           "Kazakhstan"
          ],
          [
           "Kenya"
          ],
          [
           "Kiribati"
          ],
          [
           "Kosovo"
          ],
          [
           "Kuwait"
          ],
          [
           "Kyrgyz Republic"
          ],
          [
           "Lao PDR"
          ],
          [
           "Latvia"
          ],
          [
           "Lebanon"
          ],
          [
           "Lesotho"
          ],
          [
           "Liberia"
          ],
          [
           "Libya"
          ],
          [
           "Lithuania"
          ],
          [
           "Luxembourg"
          ],
          [
           "Macao SAR, China"
          ],
          [
           "Madagascar"
          ],
          [
           "Malawi"
          ],
          [
           "Malaysia"
          ],
          [
           "Maldives"
          ],
          [
           "Mali"
          ],
          [
           "Malta"
          ],
          [
           "Marshall Islands"
          ],
          [
           "Mauritania"
          ],
          [
           "Mauritius"
          ],
          [
           "Mexico"
          ],
          [
           "Moldova"
          ],
          [
           "Mongolia"
          ],
          [
           "Montenegro"
          ],
          [
           "Morocco"
          ],
          [
           "Mozambique"
          ],
          [
           "Myanmar"
          ],
          [
           "Namibia"
          ],
          [
           "Nauru"
          ],
          [
           "Nepal"
          ],
          [
           "Netherlands"
          ],
          [
           "New Zealand"
          ],
          [
           "Nicaragua"
          ],
          [
           "Niger"
          ],
          [
           "Nigeria"
          ],
          [
           "North Macedonia"
          ],
          [
           "Norway"
          ],
          [
           "Oman"
          ],
          [
           "Pakistan"
          ],
          [
           "Panama"
          ],
          [
           "Papua New Guinea"
          ],
          [
           "Paraguay"
          ],
          [
           "Peru"
          ],
          [
           "Philippines"
          ],
          [
           "Poland"
          ],
          [
           "Portugal"
          ],
          [
           "Puerto Rico"
          ],
          [
           "Qatar"
          ],
          [
           "Romania"
          ],
          [
           "Rwanda"
          ],
          [
           "Samoa"
          ],
          [
           "Saudi Arabia"
          ],
          [
           "Senegal"
          ],
          [
           "Serbia"
          ],
          [
           "Seychelles"
          ],
          [
           "Sierra Leone"
          ],
          [
           "Singapore"
          ],
          [
           "Slovak Republic"
          ],
          [
           "Slovenia"
          ],
          [
           "Solomon Islands"
          ],
          [
           "Somalia"
          ],
          [
           "South Africa"
          ],
          [
           "Spain"
          ],
          [
           "Sri Lanka"
          ],
          [
           "St. Kitts and Nevis"
          ],
          [
           "St. Lucia"
          ],
          [
           "St. Vincent and the Grenadines"
          ],
          [
           "Sudan"
          ],
          [
           "Suriname"
          ],
          [
           "Sweden"
          ],
          [
           "Switzerland"
          ],
          [
           "Tajikistan"
          ],
          [
           "Tanzania"
          ],
          [
           "Thailand"
          ],
          [
           "Timor-Leste"
          ],
          [
           "Togo"
          ],
          [
           "Tonga"
          ],
          [
           "Trinidad and Tobago"
          ],
          [
           "Tunisia"
          ],
          [
           "Tuvalu"
          ],
          [
           "Uganda"
          ],
          [
           "Ukraine"
          ],
          [
           "United Arab Emirates"
          ],
          [
           "United Kingdom"
          ],
          [
           "United States"
          ],
          [
           "Uruguay"
          ],
          [
           "Uzbekistan"
          ],
          [
           "Vanuatu"
          ],
          [
           "West Bank and Gaza"
          ],
          [
           "Zambia"
          ],
          [
           "Zimbabwe"
          ]
         ],
         "hovertemplate": "Log(GDP/Cap)=%{x}<br>Life Expectancy=%{marker.color}<br>Country=%{customdata[0]}<extra></extra>",
         "legendgroup": "",
         "marker": {
          "color": [
           61.982,
           76.463,
           76.377,
           61.643,
           78.497,
           75.39,
           72.043,
           74.626,
           83.3,
           81.190243902439,
           69.366,
           78.76,
           72.381,
           77.571,
           72.3706829268293,
           81.790243902439,
           70.47,
           59.821,
           79.28,
           71.815,
           63.63,
           75.3,
           61.141,
           72.75,
           71.4634146341463,
           59.27,
           61.663,
           74.052,
           69.584,
           60.333,
           81.5870731707317,
           82.009756097561,
           53.895,
           52.525,
           78.944,
           78.211,
           72.83,
           63.417,
           77.023,
           76.4243902439025,
           81.203,
           81.4048780487805,
           62.305,
           72.814,
           72.615,
           73.67,
           70.748,
           60.594,
           76.9439024390244,
           57.066,
           64.975,
           67.114,
           81.8853658536585,
           82.3243902439024,
           65.821,
           71.694,
           80.790243902439,
           63.795,
           80.0829268292683,
           74.936,
           69.237,
           58.892,
           59.652,
           65.673,
           63.192,
           70.123,
           85.5326829268293,
           74.1634146341463,
           83.1658536585366,
           67.24,
           67.57,
           70.378,
           82.3536585365854,
           82.5,
           82.6463414634146,
           70.5,
           84.4456097560976,
           74.256,
           70.23,
           61.427,
           67.417,
           76.806,
           78.673,
           71.9,
           68.061,
           72.9804878048781,
           75.047,
           53.062,
           60.747,
           71.911,
           74.0365853658537,
           82.5975609756098,
           85.399,
           64.485,
           62.904,
           74.884,
           79.918,
           58.941,
           82.5073170731707,
           65.269,
           64.364,
           73.680243902439,
           70.213,
           68.846,
           70.975,
           73.8243902439024,
           74.042,
           59.325,
           65.672,
           59.269,
           63.617,
           68.45,
           81.309756097561,
           82.2073170731707,
           73.837,
           61.576,
           52.676,
           73.2463414634146,
           83.1634146341463,
           72.541,
           66.098,
           76.223,
           65.351,
           70.262,
           72.377,
           69.266,
           75.5024390243902,
           81.3780487804878,
           80.162,
           79.272,
           72.809756097561,
           66.072,
           72.767,
           76.936,
           67.093,
           72.780487804878,
           73.3975609756097,
           60.062,
           83.0926829268293,
           74.6146341463415,
           80.6756097560976,
           70.348,
           55.28,
           62.341,
           83.2292682926829,
           76.399,
           71.682,
           71.111,
           69.629,
           65.267,
           70.274,
           83.0560975609756,
           83.7512195121951,
           71.594,
           66.201,
           78.715,
           67.737,
           61.619,
           70.986,
           72.971,
           73.772,
           64.547,
           62.705,
           69.6478048780488,
           78.71,
           80.7,
           76.3292682926829,
           75.436,
           70.862,
           70.449,
           73.473,
           61.223,
           59.253
          ],
          "coloraxis": "coloraxis",
          "symbol": "circle"
         },
         "mode": "markers",
         "name": "",
         "orientation": "v",
         "showlegend": false,
         "type": "scatter",
         "x": [
          7.3245007019165564,
          9.588498987323971,
          9.308296029608895,
          8.684711664099654,
          9.898469102421416,
          9.977072351348253,
          9.560512396074149,
          10.567883691797364,
          10.815254883277957,
          10.898980248765252,
          9.577335176921512,
          10.814847100825668,
          8.684572499475694,
          9.529143309255375,
          9.89710183191191,
          10.855599138618011,
          9.078206920262655,
          8.108187475083573,
          11.271751456452604,
          9.297238607613012,
          8.993697823456676,
          9.67363782135723,
          9.609591933795071,
          9.59802037746092,
          10.102083277698084,
          7.686983379846543,
          6.570976392677291,
          8.79374184504174,
          8.37898004647975,
          8.216213574303964,
          10.783488468945123,
          11.14765175251847,
          6.730426858579541,
          7.262274058786549,
          10.143006377122685,
          9.778915628360291,
          9.592960730784268,
          8.079781231158504,
          9.961270288888768,
          10.367008530739012,
          10.638118695966925,
          10.967554187214729,
          8.499573175356227,
          9.296464353890764,
          9.83231795744282,
          9.275074963711488,
          9.126045743015185,
          9.5913083506263,
          10.564052039375259,
          9.088944075249817,
          7.748960788675262,
          9.245630649709353,
          10.79370719767684,
          10.714265000317868,
          9.533473696721085,
          9.64773422135536,
          10.881431166181526,
          8.60065853085248,
          10.293772655495658,
          9.524296564992884,
          9.09686949555857,
          7.878664563002601,
          7.5128268230484725,
          9.99539133983751,
          7.965954022805401,
          8.625541098219017,
          11.002723744484364,
          10.422865301784796,
          10.878107009758125,
          8.806451775149474,
          9.380879143846578,
          9.080981104187583,
          11.540399476503202,
          10.655127107769152,
          10.646746461929373,
          9.170270933138287,
          10.62217227595678,
          9.127314244392583,
          10.170093961790418,
          8.464980955653267,
          7.604888025509006,
          9.382963375763564,
          10.728808794985506,
          8.503861852723585,
          8.967883389032405,
          10.375994415386955,
          9.471697424183873,
          7.737552050068473,
          7.260683926540251,
          9.91708869855697,
          10.579117768654742,
          11.658613238425684,
          11.079014509922397,
          7.301401592202144,
          7.307291973836213,
          10.178584222544158,
          9.839760241005623,
          7.659465334467788,
          10.727039670974596,
          8.693147832110544,
          8.576880320187323,
          9.947594150936755,
          9.856715845624022,
          9.51799663475688,
          9.364642219027516,
          9.938391919188538,
          8.994469928952864,
          7.11213750368211,
          8.302172969470694,
          9.127891266072488,
          9.304706659098326,
          8.256783891807606,
          10.944070785979733,
          10.692896796274017,
          8.6468207060545,
          7.07882780942771,
          8.50159871767517,
          9.72367507780667,
          11.096030327703895,
          10.442747988058427,
          8.562576181215512,
          10.322750152479804,
          8.20799895884414,
          9.523426282562145,
          9.43618757848628,
          8.999073459279282,
          10.460687254245972,
          10.424690015149599,
          10.39716699379815,
          11.43887595662514,
          10.34091538965269,
          7.713205267904216,
          8.618706435797622,
          10.749080090495308,
          8.163837710169664,
          9.894838096100136,
          10.227140635714548,
          7.3870034394056825,
          11.587486577059694,
          10.390070292120974,
          10.597546453243895,
          7.782107903599239,
          7.03591626715136,
          9.496415581523955,
          10.543589120338476,
          9.491800365992852,
          10.184376576193085,
          9.476231617481861,
          9.534872412884141,
          8.216377000625002,
          9.600133175338547,
          10.892507817384793,
          11.15764053669599,
          8.27141098808438,
          7.856840149446182,
          9.746085565265012,
          8.52365431781317,
          7.6669833165120025,
          8.723062565368478,
          10.044863118242843,
          9.249168151959736,
          8.434767918321688,
          7.717090495317015,
          9.468799032714072,
          11.1524403253657,
          10.713285862504414,
          11.060931858211887,
          10.054372465926246,
          8.961943305612042,
          7.937551061148488,
          8.637824504736214,
          8.082337062050849,
          7.656878436618555
         ],
         "xaxis": "x",
         "y": [
          61.982,
          76.463,
          76.377,
          61.643,
          78.497,
          75.39,
          72.043,
          74.626,
          83.3,
          81.190243902439,
          69.366,
          78.76,
          72.381,
          77.571,
          72.3706829268293,
          81.790243902439,
          70.47,
          59.821,
          79.28,
          71.815,
          63.63,
          75.3,
          61.141,
          72.75,
          71.4634146341463,
          59.27,
          61.663,
          74.052,
          69.584,
          60.333,
          81.5870731707317,
          82.009756097561,
          53.895,
          52.525,
          78.944,
          78.211,
          72.83,
          63.417,
          77.023,
          76.4243902439025,
          81.203,
          81.4048780487805,
          62.305,
          72.814,
          72.615,
          73.67,
          70.748,
          60.594,
          76.9439024390244,
          57.066,
          64.975,
          67.114,
          81.8853658536585,
          82.3243902439024,
          65.821,
          71.694,
          80.790243902439,
          63.795,
          80.0829268292683,
          74.936,
          69.237,
          58.892,
          59.652,
          65.673,
          63.192,
          70.123,
          85.5326829268293,
          74.1634146341463,
          83.1658536585366,
          67.24,
          67.57,
          70.378,
          82.3536585365854,
          82.5,
          82.6463414634146,
          70.5,
          84.4456097560976,
          74.256,
          70.23,
          61.427,
          67.417,
          76.806,
          78.673,
          71.9,
          68.061,
          72.9804878048781,
          75.047,
          53.062,
          60.747,
          71.911,
          74.0365853658537,
          82.5975609756098,
          85.399,
          64.485,
          62.904,
          74.884,
          79.918,
          58.941,
          82.5073170731707,
          65.269,
          64.364,
          73.680243902439,
          70.213,
          68.846,
          70.975,
          73.8243902439024,
          74.042,
          59.325,
          65.672,
          59.269,
          63.617,
          68.45,
          81.309756097561,
          82.2073170731707,
          73.837,
          61.576,
          52.676,
          73.2463414634146,
          83.1634146341463,
          72.541,
          66.098,
          76.223,
          65.351,
          70.262,
          72.377,
          69.266,
          75.5024390243902,
          81.3780487804878,
          80.162,
          79.272,
          72.809756097561,
          66.072,
          72.767,
          76.936,
          67.093,
          72.780487804878,
          73.3975609756097,
          60.062,
          83.0926829268293,
          74.6146341463415,
          80.6756097560976,
          70.348,
          55.28,
          62.341,
          83.2292682926829,
          76.399,
          71.682,
          71.111,
          69.629,
          65.267,
          70.274,
          83.0560975609756,
          83.7512195121951,
          71.594,
          66.201,
          78.715,
          67.737,
          61.619,
          70.986,
          72.971,
          73.772,
          64.547,
          62.705,
          69.6478048780488,
          78.71,
          80.7,
          76.3292682926829,
          75.436,
          70.862,
          70.449,
          73.473,
          61.223,
          59.253
         ],
         "yaxis": "y"
        },
        {
         "hovertemplate": "<b>OLS trendline</b><br>Life Expectancy = 5.58901 * Log(GDP/Cap) + 18.947<br>R<sup>2</sup>=0.716689<br><br>Log(GDP/Cap)=%{x}<br>Life Expectancy=%{y} <b>(trend)</b><extra></extra>",
         "legendgroup": "",
         "marker": {
          "symbol": "circle"
         },
         "mode": "lines",
         "name": "",
         "showlegend": false,
         "type": "scatter",
         "x": [
          6.570976392677291,
          6.730426858579541,
          7.03591626715136,
          7.07882780942771,
          7.11213750368211,
          7.260683926540251,
          7.262274058786549,
          7.301401592202144,
          7.307291973836213,
          7.3245007019165564,
          7.3870034394056825,
          7.5128268230484725,
          7.604888025509006,
          7.656878436618555,
          7.659465334467788,
          7.6669833165120025,
          7.686983379846543,
          7.713205267904216,
          7.717090495317015,
          7.737552050068473,
          7.748960788675262,
          7.782107903599239,
          7.856840149446182,
          7.878664563002601,
          7.937551061148488,
          7.965954022805401,
          8.079781231158504,
          8.082337062050849,
          8.108187475083573,
          8.163837710169664,
          8.20799895884414,
          8.216213574303964,
          8.216377000625002,
          8.256783891807606,
          8.27141098808438,
          8.302172969470694,
          8.37898004647975,
          8.434767918321688,
          8.464980955653267,
          8.499573175356227,
          8.50159871767517,
          8.503861852723585,
          8.52365431781317,
          8.562576181215512,
          8.576880320187323,
          8.60065853085248,
          8.618706435797622,
          8.625541098219017,
          8.637824504736214,
          8.6468207060545,
          8.684572499475694,
          8.684711664099654,
          8.693147832110544,
          8.723062565368478,
          8.79374184504174,
          8.806451775149474,
          8.961943305612042,
          8.967883389032405,
          8.993697823456676,
          8.994469928952864,
          8.999073459279282,
          9.078206920262655,
          9.080981104187583,
          9.088944075249817,
          9.09686949555857,
          9.126045743015185,
          9.127314244392583,
          9.127891266072488,
          9.170270933138287,
          9.245630649709353,
          9.249168151959736,
          9.275074963711488,
          9.296464353890764,
          9.297238607613012,
          9.304706659098326,
          9.308296029608895,
          9.364642219027516,
          9.380879143846578,
          9.382963375763564,
          9.43618757848628,
          9.468799032714072,
          9.471697424183873,
          9.476231617481861,
          9.491800365992852,
          9.496415581523955,
          9.51799663475688,
          9.523426282562145,
          9.524296564992884,
          9.529143309255375,
          9.533473696721085,
          9.534872412884141,
          9.560512396074149,
          9.577335176921512,
          9.588498987323971,
          9.5913083506263,
          9.592960730784268,
          9.59802037746092,
          9.600133175338547,
          9.609591933795071,
          9.64773422135536,
          9.67363782135723,
          9.72367507780667,
          9.746085565265012,
          9.778915628360291,
          9.83231795744282,
          9.839760241005623,
          9.856715845624022,
          9.894838096100136,
          9.89710183191191,
          9.898469102421416,
          9.91708869855697,
          9.938391919188538,
          9.947594150936755,
          9.961270288888768,
          9.977072351348253,
          9.99539133983751,
          10.044863118242843,
          10.054372465926246,
          10.102083277698084,
          10.143006377122685,
          10.170093961790418,
          10.178584222544158,
          10.184376576193085,
          10.227140635714548,
          10.293772655495658,
          10.322750152479804,
          10.34091538965269,
          10.367008530739012,
          10.375994415386955,
          10.390070292120974,
          10.39716699379815,
          10.422865301784796,
          10.424690015149599,
          10.442747988058427,
          10.460687254245972,
          10.543589120338476,
          10.564052039375259,
          10.567883691797364,
          10.579117768654742,
          10.597546453243895,
          10.62217227595678,
          10.638118695966925,
          10.646746461929373,
          10.655127107769152,
          10.692896796274017,
          10.713285862504414,
          10.714265000317868,
          10.727039670974596,
          10.728808794985506,
          10.749080090495308,
          10.783488468945123,
          10.79370719767684,
          10.814847100825668,
          10.815254883277957,
          10.855599138618011,
          10.878107009758125,
          10.881431166181526,
          10.892507817384793,
          10.898980248765252,
          10.944070785979733,
          10.967554187214729,
          11.002723744484364,
          11.060931858211887,
          11.079014509922397,
          11.096030327703895,
          11.14765175251847,
          11.1524403253657,
          11.15764053669599,
          11.271751456452604,
          11.43887595662514,
          11.540399476503202,
          11.587486577059694,
          11.658613238425684
         ],
         "xaxis": "x",
         "y": [
          55.67224811554639,
          56.56341897755217,
          58.27080351249282,
          58.510636716516544,
          58.69680505897871,
          59.52703307341123,
          59.53592034455602,
          59.75460467065584,
          59.787526095178954,
          59.88370591472733,
          60.233034580095115,
          60.93626321368324,
          61.45079454910334,
          61.741369676760456,
          61.755827884663304,
          61.79784599041782,
          61.90962662135645,
          62.05618111683281,
          62.07789570664577,
          62.192255619504316,
          62.25601921756645,
          62.44127890189947,
          62.85895845883395,
          62.98093540842636,
          63.31005286202692,
          63.46879740805306,
          64.10497925182348,
          64.11926382607408,
          64.2637421424918,
          64.57477207703522,
          64.82158990742407,
          64.86750150698543,
          64.86841489895684,
          65.09424957333309,
          65.17600061698074,
          65.34792975694234,
          65.77720557397423,
          66.08900476225209,
          66.25786584628995,
          66.45120224124459,
          66.46252302531498,
          66.47517171844058,
          66.58579207991332,
          66.80332691346094,
          66.88327294425883,
          67.01616969294825,
          67.11703968361495,
          67.15523870653489,
          67.22389083566073,
          67.27417072940848,
          67.48516602562827,
          67.48594381863875,
          67.53309367847609,
          67.70028753691543,
          68.09531500977951,
          68.1663509851594,
          69.03539530216925,
          69.06859451066424,
          69.21287174214108,
          69.21718705045143,
          69.2429162451957,
          69.68519425447593,
          69.7006992068494,
          69.74520436238785,
          69.78949964624509,
          69.95256609731426,
          69.95965576907881,
          69.96288075123843,
          70.19974129734494,
          70.62092779684579,
          70.64069894591069,
          70.78549247555007,
          70.9050380734634,
          70.90936538823895,
          70.95110443140833,
          70.97116547289768,
          71.28608510584323,
          71.37683350350672,
          71.3884823045533,
          71.68595311062201,
          71.8682189799062,
          71.88441812996798,
          71.90975979910019,
          71.99677375012493,
          72.02256825364,
          72.14318505901433,
          72.173531435788,
          72.17839545634511,
          72.20548397714613,
          72.2296865726594,
          72.23750401666422,
          72.38080623777695,
          72.47482899289558,
          72.53722368383194,
          72.55292525423286,
          72.562160429818,
          72.59043886516004,
          72.60224732175622,
          72.65511245375511,
          72.86829022712588,
          73.01306580625071,
          73.29272472546506,
          73.41797725021131,
          73.60146492748319,
          73.89993128424359,
          73.94152631013722,
          74.03629141915152,
          74.24935720498138,
          74.2620092557817,
          74.26965094959337,
          74.37371613024008,
          74.492780125358,
          74.54421152603175,
          74.6206476504334,
          74.70896559634723,
          74.81135067669595,
          75.08784913129104,
          75.14099700717951,
          75.40765339487405,
          75.63637316426329,
          75.78776605008149,
          75.8352182350077,
          75.86759177976435,
          76.10660070062868,
          76.47900798190886,
          76.6409636138351,
          76.74248937594749,
          76.88832430281808,
          76.93854653655241,
          77.0172168065423,
          77.05688037049151,
          77.20050856970035,
          77.21070691796496,
          77.31163317862011,
          77.41189598576617,
          77.87523566338639,
          77.98960320125451,
          78.01101835970258,
          78.07380577082853,
          78.17680394419865,
          78.31443800836061,
          78.40356277062413,
          78.45178347406599,
          78.49862301972013,
          78.70971833181036,
          78.82367310532088,
          78.82914552011943,
          78.90054333132416,
          78.91043098992006,
          79.02372754124227,
          79.21603644488724,
          79.27314906127827,
          79.39130027272353,
          79.39357937449635,
          79.61906397628121,
          79.74486077977343,
          79.76343953605692,
          79.825347093022,
          79.86152160163793,
          80.11353323854571,
          80.24478229324743,
          80.44134543585722,
          80.76667138954924,
          80.86773558036876,
          80.96283722158546,
          81.25135007973022,
          81.27811347968577,
          81.30717753282356,
          81.94494504355706,
          82.87900618936987,
          83.4464225478712,
          83.70959300494597,
          84.10712090028609
         ],
         "yaxis": "y"
        }
       ],
       "layout": {
        "annotations": [
         {
          "showarrow": false,
          "text": "R = 0.8466",
          "x": 11.75,
          "y": 75
         }
        ],
        "coloraxis": {
         "colorbar": {
          "title": {
           "text": "Life Expectancy"
          }
         },
         "colorscale": [
          [
           0,
           "#0d0887"
          ],
          [
           0.1111111111111111,
           "#46039f"
          ],
          [
           0.2222222222222222,
           "#7201a8"
          ],
          [
           0.3333333333333333,
           "#9c179e"
          ],
          [
           0.4444444444444444,
           "#bd3786"
          ],
          [
           0.5555555555555556,
           "#d8576b"
          ],
          [
           0.6666666666666666,
           "#ed7953"
          ],
          [
           0.7777777777777778,
           "#fb9f3a"
          ],
          [
           0.8888888888888888,
           "#fdca26"
          ],
          [
           1,
           "#f0f921"
          ]
         ]
        },
        "legend": {
         "tracegroupgap": 0
        },
        "template": {
         "data": {
          "bar": [
           {
            "error_x": {
             "color": "#2a3f5f"
            },
            "error_y": {
             "color": "#2a3f5f"
            },
            "marker": {
             "line": {
              "color": "#E5ECF6",
              "width": 0.5
             },
             "pattern": {
              "fillmode": "overlay",
              "size": 10,
              "solidity": 0.2
             }
            },
            "type": "bar"
           }
          ],
          "barpolar": [
           {
            "marker": {
             "line": {
              "color": "#E5ECF6",
              "width": 0.5
             },
             "pattern": {
              "fillmode": "overlay",
              "size": 10,
              "solidity": 0.2
             }
            },
            "type": "barpolar"
           }
          ],
          "carpet": [
           {
            "aaxis": {
             "endlinecolor": "#2a3f5f",
             "gridcolor": "white",
             "linecolor": "white",
             "minorgridcolor": "white",
             "startlinecolor": "#2a3f5f"
            },
            "baxis": {
             "endlinecolor": "#2a3f5f",
             "gridcolor": "white",
             "linecolor": "white",
             "minorgridcolor": "white",
             "startlinecolor": "#2a3f5f"
            },
            "type": "carpet"
           }
          ],
          "choropleth": [
           {
            "colorbar": {
             "outlinewidth": 0,
             "ticks": ""
            },
            "type": "choropleth"
           }
          ],
          "contour": [
           {
            "colorbar": {
             "outlinewidth": 0,
             "ticks": ""
            },
            "colorscale": [
             [
              0,
              "#0d0887"
             ],
             [
              0.1111111111111111,
              "#46039f"
             ],
             [
              0.2222222222222222,
              "#7201a8"
             ],
             [
              0.3333333333333333,
              "#9c179e"
             ],
             [
              0.4444444444444444,
              "#bd3786"
             ],
             [
              0.5555555555555556,
              "#d8576b"
             ],
             [
              0.6666666666666666,
              "#ed7953"
             ],
             [
              0.7777777777777778,
              "#fb9f3a"
             ],
             [
              0.8888888888888888,
              "#fdca26"
             ],
             [
              1,
              "#f0f921"
             ]
            ],
            "type": "contour"
           }
          ],
          "contourcarpet": [
           {
            "colorbar": {
             "outlinewidth": 0,
             "ticks": ""
            },
            "type": "contourcarpet"
           }
          ],
          "heatmap": [
           {
            "colorbar": {
             "outlinewidth": 0,
             "ticks": ""
            },
            "colorscale": [
             [
              0,
              "#0d0887"
             ],
             [
              0.1111111111111111,
              "#46039f"
             ],
             [
              0.2222222222222222,
              "#7201a8"
             ],
             [
              0.3333333333333333,
              "#9c179e"
             ],
             [
              0.4444444444444444,
              "#bd3786"
             ],
             [
              0.5555555555555556,
              "#d8576b"
             ],
             [
              0.6666666666666666,
              "#ed7953"
             ],
             [
              0.7777777777777778,
              "#fb9f3a"
             ],
             [
              0.8888888888888888,
              "#fdca26"
             ],
             [
              1,
              "#f0f921"
             ]
            ],
            "type": "heatmap"
           }
          ],
          "heatmapgl": [
           {
            "colorbar": {
             "outlinewidth": 0,
             "ticks": ""
            },
            "colorscale": [
             [
              0,
              "#0d0887"
             ],
             [
              0.1111111111111111,
              "#46039f"
             ],
             [
              0.2222222222222222,
              "#7201a8"
             ],
             [
              0.3333333333333333,
              "#9c179e"
             ],
             [
              0.4444444444444444,
              "#bd3786"
             ],
             [
              0.5555555555555556,
              "#d8576b"
             ],
             [
              0.6666666666666666,
              "#ed7953"
             ],
             [
              0.7777777777777778,
              "#fb9f3a"
             ],
             [
              0.8888888888888888,
              "#fdca26"
             ],
             [
              1,
              "#f0f921"
             ]
            ],
            "type": "heatmapgl"
           }
          ],
          "histogram": [
           {
            "marker": {
             "pattern": {
              "fillmode": "overlay",
              "size": 10,
              "solidity": 0.2
             }
            },
            "type": "histogram"
           }
          ],
          "histogram2d": [
           {
            "colorbar": {
             "outlinewidth": 0,
             "ticks": ""
            },
            "colorscale": [
             [
              0,
              "#0d0887"
             ],
             [
              0.1111111111111111,
              "#46039f"
             ],
             [
              0.2222222222222222,
              "#7201a8"
             ],
             [
              0.3333333333333333,
              "#9c179e"
             ],
             [
              0.4444444444444444,
              "#bd3786"
             ],
             [
              0.5555555555555556,
              "#d8576b"
             ],
             [
              0.6666666666666666,
              "#ed7953"
             ],
             [
              0.7777777777777778,
              "#fb9f3a"
             ],
             [
              0.8888888888888888,
              "#fdca26"
             ],
             [
              1,
              "#f0f921"
             ]
            ],
            "type": "histogram2d"
           }
          ],
          "histogram2dcontour": [
           {
            "colorbar": {
             "outlinewidth": 0,
             "ticks": ""
            },
            "colorscale": [
             [
              0,
              "#0d0887"
             ],
             [
              0.1111111111111111,
              "#46039f"
             ],
             [
              0.2222222222222222,
              "#7201a8"
             ],
             [
              0.3333333333333333,
              "#9c179e"
             ],
             [
              0.4444444444444444,
              "#bd3786"
             ],
             [
              0.5555555555555556,
              "#d8576b"
             ],
             [
              0.6666666666666666,
              "#ed7953"
             ],
             [
              0.7777777777777778,
              "#fb9f3a"
             ],
             [
              0.8888888888888888,
              "#fdca26"
             ],
             [
              1,
              "#f0f921"
             ]
            ],
            "type": "histogram2dcontour"
           }
          ],
          "mesh3d": [
           {
            "colorbar": {
             "outlinewidth": 0,
             "ticks": ""
            },
            "type": "mesh3d"
           }
          ],
          "parcoords": [
           {
            "line": {
             "colorbar": {
              "outlinewidth": 0,
              "ticks": ""
             }
            },
            "type": "parcoords"
           }
          ],
          "pie": [
           {
            "automargin": true,
            "type": "pie"
           }
          ],
          "scatter": [
           {
            "fillpattern": {
             "fillmode": "overlay",
             "size": 10,
             "solidity": 0.2
            },
            "type": "scatter"
           }
          ],
          "scatter3d": [
           {
            "line": {
             "colorbar": {
              "outlinewidth": 0,
              "ticks": ""
             }
            },
            "marker": {
             "colorbar": {
              "outlinewidth": 0,
              "ticks": ""
             }
            },
            "type": "scatter3d"
           }
          ],
          "scattercarpet": [
           {
            "marker": {
             "colorbar": {
              "outlinewidth": 0,
              "ticks": ""
             }
            },
            "type": "scattercarpet"
           }
          ],
          "scattergeo": [
           {
            "marker": {
             "colorbar": {
              "outlinewidth": 0,
              "ticks": ""
             }
            },
            "type": "scattergeo"
           }
          ],
          "scattergl": [
           {
            "marker": {
             "colorbar": {
              "outlinewidth": 0,
              "ticks": ""
             }
            },
            "type": "scattergl"
           }
          ],
          "scattermapbox": [
           {
            "marker": {
             "colorbar": {
              "outlinewidth": 0,
              "ticks": ""
             }
            },
            "type": "scattermapbox"
           }
          ],
          "scatterpolar": [
           {
            "marker": {
             "colorbar": {
              "outlinewidth": 0,
              "ticks": ""
             }
            },
            "type": "scatterpolar"
           }
          ],
          "scatterpolargl": [
           {
            "marker": {
             "colorbar": {
              "outlinewidth": 0,
              "ticks": ""
             }
            },
            "type": "scatterpolargl"
           }
          ],
          "scatterternary": [
           {
            "marker": {
             "colorbar": {
              "outlinewidth": 0,
              "ticks": ""
             }
            },
            "type": "scatterternary"
           }
          ],
          "surface": [
           {
            "colorbar": {
             "outlinewidth": 0,
             "ticks": ""
            },
            "colorscale": [
             [
              0,
              "#0d0887"
             ],
             [
              0.1111111111111111,
              "#46039f"
             ],
             [
              0.2222222222222222,
              "#7201a8"
             ],
             [
              0.3333333333333333,
              "#9c179e"
             ],
             [
              0.4444444444444444,
              "#bd3786"
             ],
             [
              0.5555555555555556,
              "#d8576b"
             ],
             [
              0.6666666666666666,
              "#ed7953"
             ],
             [
              0.7777777777777778,
              "#fb9f3a"
             ],
             [
              0.8888888888888888,
              "#fdca26"
             ],
             [
              1,
              "#f0f921"
             ]
            ],
            "type": "surface"
           }
          ],
          "table": [
           {
            "cells": {
             "fill": {
              "color": "#EBF0F8"
             },
             "line": {
              "color": "white"
             }
            },
            "header": {
             "fill": {
              "color": "#C8D4E3"
             },
             "line": {
              "color": "white"
             }
            },
            "type": "table"
           }
          ]
         },
         "layout": {
          "annotationdefaults": {
           "arrowcolor": "#2a3f5f",
           "arrowhead": 0,
           "arrowwidth": 1
          },
          "autotypenumbers": "strict",
          "coloraxis": {
           "colorbar": {
            "outlinewidth": 0,
            "ticks": ""
           }
          },
          "colorscale": {
           "diverging": [
            [
             0,
             "#8e0152"
            ],
            [
             0.1,
             "#c51b7d"
            ],
            [
             0.2,
             "#de77ae"
            ],
            [
             0.3,
             "#f1b6da"
            ],
            [
             0.4,
             "#fde0ef"
            ],
            [
             0.5,
             "#f7f7f7"
            ],
            [
             0.6,
             "#e6f5d0"
            ],
            [
             0.7,
             "#b8e186"
            ],
            [
             0.8,
             "#7fbc41"
            ],
            [
             0.9,
             "#4d9221"
            ],
            [
             1,
             "#276419"
            ]
           ],
           "sequential": [
            [
             0,
             "#0d0887"
            ],
            [
             0.1111111111111111,
             "#46039f"
            ],
            [
             0.2222222222222222,
             "#7201a8"
            ],
            [
             0.3333333333333333,
             "#9c179e"
            ],
            [
             0.4444444444444444,
             "#bd3786"
            ],
            [
             0.5555555555555556,
             "#d8576b"
            ],
            [
             0.6666666666666666,
             "#ed7953"
            ],
            [
             0.7777777777777778,
             "#fb9f3a"
            ],
            [
             0.8888888888888888,
             "#fdca26"
            ],
            [
             1,
             "#f0f921"
            ]
           ],
           "sequentialminus": [
            [
             0,
             "#0d0887"
            ],
            [
             0.1111111111111111,
             "#46039f"
            ],
            [
             0.2222222222222222,
             "#7201a8"
            ],
            [
             0.3333333333333333,
             "#9c179e"
            ],
            [
             0.4444444444444444,
             "#bd3786"
            ],
            [
             0.5555555555555556,
             "#d8576b"
            ],
            [
             0.6666666666666666,
             "#ed7953"
            ],
            [
             0.7777777777777778,
             "#fb9f3a"
            ],
            [
             0.8888888888888888,
             "#fdca26"
            ],
            [
             1,
             "#f0f921"
            ]
           ]
          },
          "colorway": [
           "#636efa",
           "#EF553B",
           "#00cc96",
           "#ab63fa",
           "#FFA15A",
           "#19d3f3",
           "#FF6692",
           "#B6E880",
           "#FF97FF",
           "#FECB52"
          ],
          "font": {
           "color": "#2a3f5f"
          },
          "geo": {
           "bgcolor": "white",
           "lakecolor": "white",
           "landcolor": "#E5ECF6",
           "showlakes": true,
           "showland": true,
           "subunitcolor": "white"
          },
          "hoverlabel": {
           "align": "left"
          },
          "hovermode": "closest",
          "mapbox": {
           "style": "light"
          },
          "paper_bgcolor": "white",
          "plot_bgcolor": "#E5ECF6",
          "polar": {
           "angularaxis": {
            "gridcolor": "white",
            "linecolor": "white",
            "ticks": ""
           },
           "bgcolor": "#E5ECF6",
           "radialaxis": {
            "gridcolor": "white",
            "linecolor": "white",
            "ticks": ""
           }
          },
          "scene": {
           "xaxis": {
            "backgroundcolor": "#E5ECF6",
            "gridcolor": "white",
            "gridwidth": 2,
            "linecolor": "white",
            "showbackground": true,
            "ticks": "",
            "zerolinecolor": "white"
           },
           "yaxis": {
            "backgroundcolor": "#E5ECF6",
            "gridcolor": "white",
            "gridwidth": 2,
            "linecolor": "white",
            "showbackground": true,
            "ticks": "",
            "zerolinecolor": "white"
           },
           "zaxis": {
            "backgroundcolor": "#E5ECF6",
            "gridcolor": "white",
            "gridwidth": 2,
            "linecolor": "white",
            "showbackground": true,
            "ticks": "",
            "zerolinecolor": "white"
           }
          },
          "shapedefaults": {
           "line": {
            "color": "#2a3f5f"
           }
          },
          "ternary": {
           "aaxis": {
            "gridcolor": "white",
            "linecolor": "white",
            "ticks": ""
           },
           "baxis": {
            "gridcolor": "white",
            "linecolor": "white",
            "ticks": ""
           },
           "bgcolor": "#E5ECF6",
           "caxis": {
            "gridcolor": "white",
            "linecolor": "white",
            "ticks": ""
           }
          },
          "title": {
           "x": 0.05
          },
          "xaxis": {
           "automargin": true,
           "gridcolor": "white",
           "linecolor": "white",
           "ticks": "",
           "title": {
            "standoff": 15
           },
           "zerolinecolor": "white",
           "zerolinewidth": 2
          },
          "yaxis": {
           "automargin": true,
           "gridcolor": "white",
           "linecolor": "white",
           "ticks": "",
           "title": {
            "standoff": 15
           },
           "zerolinecolor": "white",
           "zerolinewidth": 2
          }
         }
        },
        "title": {
         "text": "Log(GDP per capita) vs. Life Expectancy (2021)"
        },
        "xaxis": {
         "anchor": "y",
         "domain": [
          0,
          1
         ],
         "title": {
          "text": "Log(GDP/Cap)"
         }
        },
        "yaxis": {
         "anchor": "x",
         "domain": [
          0,
          1
         ],
         "title": {
          "text": "Life Expectancy"
         }
        }
       }
      }
     },
     "metadata": {},
     "output_type": "display_data"
    }
   ],
   "source": [
    "fig = (\n",
    "    px.scatter(gdp_le_2021,\n",
    "               x=\"Log(GDP/Cap)\",\n",
    "               y=\"Life Expectancy\",\n",
    "               title='Log(GDP per capita) vs. Life Expectancy (2021)',\n",
    "               color='Life Expectancy',\n",
    "               hover_data=[\"Log(GDP/Cap)\", \"Life Expectancy\", \"Country\"],\n",
    "               trendline='ols')\n",
    ")\n",
    "fig.add_annotation(x=11.75, y=75, text=\"R = \" + str(round(R, 4)), showarrow=False)\n",
    "display(fig)\n"
   ]
  },
  {
   "cell_type": "markdown",
   "id": "5a0adfd6",
   "metadata": {},
   "source": [
    "## Bonus: Solo Exploration:"
   ]
  },
  {
   "cell_type": "markdown",
   "id": "79e606b9",
   "metadata": {},
   "source": [
    "#### 1. Choose and download another data set from the UN data [http://data.un.org/Explorer.aspx](http://data.un.org/Explorer.aspx) to explore. You may want to combine your new dataset with one or both of the datasets that you already worked with. Report any interesting correlations or trends that you find. "
   ]
  },
  {
   "cell_type": "code",
   "execution_count": 56,
   "id": "7097bda9",
   "metadata": {},
   "outputs": [
    {
     "data": {
      "text/html": [
       "<div>\n",
       "<style scoped>\n",
       "    .dataframe tbody tr th:only-of-type {\n",
       "        vertical-align: middle;\n",
       "    }\n",
       "\n",
       "    .dataframe tbody tr th {\n",
       "        vertical-align: top;\n",
       "    }\n",
       "\n",
       "    .dataframe thead th {\n",
       "        text-align: right;\n",
       "    }\n",
       "</style>\n",
       "<table border=\"1\" class=\"dataframe\">\n",
       "  <thead>\n",
       "    <tr style=\"text-align: right;\">\n",
       "      <th></th>\n",
       "      <th>Country</th>\n",
       "      <th>Year</th>\n",
       "      <th>Description</th>\n",
       "      <th>Currency</th>\n",
       "      <th>Value</th>\n",
       "    </tr>\n",
       "  </thead>\n",
       "  <tbody>\n",
       "    <tr>\n",
       "      <th>0</th>\n",
       "      <td>AUSTRALIA</td>\n",
       "      <td>2008</td>\n",
       "      <td>SHARES AND OTHER EQUITY</td>\n",
       "      <td>AUSTRALIAN DOLLA</td>\n",
       "      <td>250454000000</td>\n",
       "    </tr>\n",
       "    <tr>\n",
       "      <th>1</th>\n",
       "      <td>AUSTRALIA</td>\n",
       "      <td>2008</td>\n",
       "      <td>SHARES AND OTHER EQUITY</td>\n",
       "      <td>AUSTRALIAN DOLLA</td>\n",
       "      <td>0</td>\n",
       "    </tr>\n",
       "    <tr>\n",
       "      <th>2</th>\n",
       "      <td>AUSTRALIA</td>\n",
       "      <td>2008</td>\n",
       "      <td>SECURITIES OTHER THAN SHARES</td>\n",
       "      <td>AUSTRALIAN DOLLA</td>\n",
       "      <td>60004000000</td>\n",
       "    </tr>\n",
       "    <tr>\n",
       "      <th>3</th>\n",
       "      <td>AUSTRALIA</td>\n",
       "      <td>2008</td>\n",
       "      <td>SECURITIES OTHER THAN SHARES</td>\n",
       "      <td>AUSTRALIAN DOLLA</td>\n",
       "      <td>136113000000</td>\n",
       "    </tr>\n",
       "    <tr>\n",
       "      <th>4</th>\n",
       "      <td>AUSTRALIA</td>\n",
       "      <td>2008</td>\n",
       "      <td>OTHER ACCOUNTS RECEIVABLE</td>\n",
       "      <td>AUSTRALIAN DOLLA</td>\n",
       "      <td>63428000000</td>\n",
       "    </tr>\n",
       "  </tbody>\n",
       "</table>\n",
       "</div>"
      ],
      "text/plain": [
       "     Country  Year                   Description          Currency  \\\n",
       "0  AUSTRALIA  2008       SHARES AND OTHER EQUITY  AUSTRALIAN DOLLA   \n",
       "1  AUSTRALIA  2008       SHARES AND OTHER EQUITY  AUSTRALIAN DOLLA   \n",
       "2  AUSTRALIA  2008  SECURITIES OTHER THAN SHARES  AUSTRALIAN DOLLA   \n",
       "3  AUSTRALIA  2008  SECURITIES OTHER THAN SHARES  AUSTRALIAN DOLLA   \n",
       "4  AUSTRALIA  2008     OTHER ACCOUNTS RECEIVABLE  AUSTRALIAN DOLLA   \n",
       "\n",
       "          Value  \n",
       "0  250454000000  \n",
       "1             0  \n",
       "2   60004000000  \n",
       "3  136113000000  \n",
       "4   63428000000  "
      ]
     },
     "metadata": {},
     "output_type": "display_data"
    },
    {
     "name": "stdout",
     "output_type": "stream",
     "text": [
      "<class 'pandas.core.frame.DataFrame'>\n",
      "RangeIndex: 5926 entries, 0 to 5925\n",
      "Data columns (total 5 columns):\n",
      " #   Column       Non-Null Count  Dtype   \n",
      "---  ------       --------------  -----   \n",
      " 0   Country      5926 non-null   category\n",
      " 1   Year         5926 non-null   int16   \n",
      " 2   Description  5926 non-null   category\n",
      " 3   Currency     5926 non-null   category\n",
      " 4   Value        5926 non-null   int64   \n",
      "dtypes: category(3), int16(1), int64(1)\n",
      "memory usage: 77.1 KB\n"
     ]
    },
    {
     "data": {
      "text/html": [
       "<div>\n",
       "<style scoped>\n",
       "    .dataframe tbody tr th:only-of-type {\n",
       "        vertical-align: middle;\n",
       "    }\n",
       "\n",
       "    .dataframe tbody tr th {\n",
       "        vertical-align: top;\n",
       "    }\n",
       "\n",
       "    .dataframe thead th {\n",
       "        text-align: right;\n",
       "    }\n",
       "</style>\n",
       "<table border=\"1\" class=\"dataframe\">\n",
       "  <thead>\n",
       "    <tr style=\"text-align: right;\">\n",
       "      <th></th>\n",
       "      <th>Country</th>\n",
       "      <th>Year</th>\n",
       "      <th>Description</th>\n",
       "      <th>Currency</th>\n",
       "      <th>Value</th>\n",
       "    </tr>\n",
       "  </thead>\n",
       "  <tbody>\n",
       "    <tr>\n",
       "      <th>0</th>\n",
       "      <td>AUSTRALIA</td>\n",
       "      <td>2008</td>\n",
       "      <td>SHARES AND OTHER EQUITY</td>\n",
       "      <td>AUSTRALIAN DOLLA</td>\n",
       "      <td>250454000000</td>\n",
       "    </tr>\n",
       "    <tr>\n",
       "      <th>1</th>\n",
       "      <td>AUSTRALIA</td>\n",
       "      <td>2008</td>\n",
       "      <td>SHARES AND OTHER EQUITY</td>\n",
       "      <td>AUSTRALIAN DOLLA</td>\n",
       "      <td>0</td>\n",
       "    </tr>\n",
       "    <tr>\n",
       "      <th>2</th>\n",
       "      <td>AUSTRALIA</td>\n",
       "      <td>2008</td>\n",
       "      <td>SECURITIES OTHER THAN SHARES</td>\n",
       "      <td>AUSTRALIAN DOLLA</td>\n",
       "      <td>60004000000</td>\n",
       "    </tr>\n",
       "    <tr>\n",
       "      <th>3</th>\n",
       "      <td>AUSTRALIA</td>\n",
       "      <td>2008</td>\n",
       "      <td>SECURITIES OTHER THAN SHARES</td>\n",
       "      <td>AUSTRALIAN DOLLA</td>\n",
       "      <td>136113000000</td>\n",
       "    </tr>\n",
       "    <tr>\n",
       "      <th>4</th>\n",
       "      <td>AUSTRALIA</td>\n",
       "      <td>2008</td>\n",
       "      <td>OTHER ACCOUNTS RECEIVABLE</td>\n",
       "      <td>AUSTRALIAN DOLLA</td>\n",
       "      <td>63428000000</td>\n",
       "    </tr>\n",
       "    <tr>\n",
       "      <th>...</th>\n",
       "      <td>...</td>\n",
       "      <td>...</td>\n",
       "      <td>...</td>\n",
       "      <td>...</td>\n",
       "      <td>...</td>\n",
       "    </tr>\n",
       "    <tr>\n",
       "      <th>5921</th>\n",
       "      <td>UNITED KINGDOM</td>\n",
       "      <td>1999</td>\n",
       "      <td>FINANCIAL DERIVATIVES</td>\n",
       "      <td>POUNDS STERLING</td>\n",
       "      <td>0</td>\n",
       "    </tr>\n",
       "    <tr>\n",
       "      <th>5922</th>\n",
       "      <td>UNITED KINGDOM</td>\n",
       "      <td>1999</td>\n",
       "      <td>FINANCIAL DERIVATIVES</td>\n",
       "      <td>POUNDS STERLING</td>\n",
       "      <td>-397000000</td>\n",
       "    </tr>\n",
       "    <tr>\n",
       "      <th>5923</th>\n",
       "      <td>UNITED KINGDOM</td>\n",
       "      <td>1999</td>\n",
       "      <td>FINANCIAL ASSETS</td>\n",
       "      <td>POUNDS STERLING</td>\n",
       "      <td>174363000000</td>\n",
       "    </tr>\n",
       "    <tr>\n",
       "      <th>5924</th>\n",
       "      <td>UNITED KINGDOM</td>\n",
       "      <td>1999</td>\n",
       "      <td>CURRENCY AND DEPOSITS</td>\n",
       "      <td>POUNDS STERLING</td>\n",
       "      <td>21737000000</td>\n",
       "    </tr>\n",
       "    <tr>\n",
       "      <th>5925</th>\n",
       "      <td>UNITED KINGDOM</td>\n",
       "      <td>1999</td>\n",
       "      <td>CURRENCY AND DEPOSITS</td>\n",
       "      <td>POUNDS STERLING</td>\n",
       "      <td>75110000000</td>\n",
       "    </tr>\n",
       "  </tbody>\n",
       "</table>\n",
       "<p>5926 rows × 5 columns</p>\n",
       "</div>"
      ],
      "text/plain": [
       "             Country  Year                   Description          Currency  \\\n",
       "0          AUSTRALIA  2008       SHARES AND OTHER EQUITY  AUSTRALIAN DOLLA   \n",
       "1          AUSTRALIA  2008       SHARES AND OTHER EQUITY  AUSTRALIAN DOLLA   \n",
       "2          AUSTRALIA  2008  SECURITIES OTHER THAN SHARES  AUSTRALIAN DOLLA   \n",
       "3          AUSTRALIA  2008  SECURITIES OTHER THAN SHARES  AUSTRALIAN DOLLA   \n",
       "4          AUSTRALIA  2008     OTHER ACCOUNTS RECEIVABLE  AUSTRALIAN DOLLA   \n",
       "...              ...   ...                           ...               ...   \n",
       "5921  UNITED KINGDOM  1999         FINANCIAL DERIVATIVES   POUNDS STERLING   \n",
       "5922  UNITED KINGDOM  1999         FINANCIAL DERIVATIVES   POUNDS STERLING   \n",
       "5923  UNITED KINGDOM  1999              FINANCIAL ASSETS   POUNDS STERLING   \n",
       "5924  UNITED KINGDOM  1999         CURRENCY AND DEPOSITS   POUNDS STERLING   \n",
       "5925  UNITED KINGDOM  1999         CURRENCY AND DEPOSITS   POUNDS STERLING   \n",
       "\n",
       "             Value  \n",
       "0     250454000000  \n",
       "1                0  \n",
       "2      60004000000  \n",
       "3     136113000000  \n",
       "4      63428000000  \n",
       "...            ...  \n",
       "5921             0  \n",
       "5922    -397000000  \n",
       "5923  174363000000  \n",
       "5924   21737000000  \n",
       "5925   75110000000  \n",
       "\n",
       "[5926 rows x 5 columns]"
      ]
     },
     "execution_count": 56,
     "metadata": {},
     "output_type": "execute_result"
    }
   ],
   "source": [
    "financial_df = pd.DataFrame(pd.read_csv('../data/UNdata_Export_20241010_220413212.csv',\n",
    "                                        dtype={'Year':'int16', 'Country or Area':'category',\n",
    "                                               'Description':'category', 'Magnitude':'category'},\n",
    "                                        usecols=range(1,6))).rename(columns={'Country or Area':'Country', 'Magnitude':'Currency'})\n",
    "display(financial_df.head())\n",
    "financial_df.info()\n",
    "financial_df.shape\n",
    "financial_df.describe()\n",
    "financial_df"
   ]
  },
  {
   "cell_type": "code",
   "execution_count": 57,
   "id": "51c3abc1",
   "metadata": {},
   "outputs": [
    {
     "data": {
      "text/html": [
       "<div>\n",
       "<style scoped>\n",
       "    .dataframe tbody tr th:only-of-type {\n",
       "        vertical-align: middle;\n",
       "    }\n",
       "\n",
       "    .dataframe tbody tr th {\n",
       "        vertical-align: top;\n",
       "    }\n",
       "\n",
       "    .dataframe thead th {\n",
       "        text-align: right;\n",
       "    }\n",
       "</style>\n",
       "<table border=\"1\" class=\"dataframe\">\n",
       "  <thead>\n",
       "    <tr style=\"text-align: right;\">\n",
       "      <th></th>\n",
       "      <th>Country</th>\n",
       "      <th>Year</th>\n",
       "      <th>Description</th>\n",
       "      <th>Currency</th>\n",
       "      <th>Value</th>\n",
       "    </tr>\n",
       "  </thead>\n",
       "  <tbody>\n",
       "    <tr>\n",
       "      <th>3648</th>\n",
       "      <td>JAPAN</td>\n",
       "      <td>2006</td>\n",
       "      <td>NET FINANCIAL WORTH [62-63]</td>\n",
       "      <td>YEN</td>\n",
       "      <td>-427874000000000</td>\n",
       "    </tr>\n",
       "    <tr>\n",
       "      <th>3654</th>\n",
       "      <td>JAPAN</td>\n",
       "      <td>2005</td>\n",
       "      <td>NET FINANCIAL WORTH [62-63]</td>\n",
       "      <td>YEN</td>\n",
       "      <td>-424368000000000</td>\n",
       "    </tr>\n",
       "    <tr>\n",
       "      <th>3642</th>\n",
       "      <td>JAPAN</td>\n",
       "      <td>2007</td>\n",
       "      <td>NET FINANCIAL WORTH [62-63]</td>\n",
       "      <td>YEN</td>\n",
       "      <td>-414480000000000</td>\n",
       "    </tr>\n",
       "    <tr>\n",
       "      <th>3660</th>\n",
       "      <td>JAPAN</td>\n",
       "      <td>2004</td>\n",
       "      <td>NET FINANCIAL WORTH [62-63]</td>\n",
       "      <td>YEN</td>\n",
       "      <td>-412032000000000</td>\n",
       "    </tr>\n",
       "    <tr>\n",
       "      <th>3666</th>\n",
       "      <td>JAPAN</td>\n",
       "      <td>2003</td>\n",
       "      <td>NET FINANCIAL WORTH [62-63]</td>\n",
       "      <td>YEN</td>\n",
       "      <td>-375120000000000</td>\n",
       "    </tr>\n",
       "    <tr>\n",
       "      <th>...</th>\n",
       "      <td>...</td>\n",
       "      <td>...</td>\n",
       "      <td>...</td>\n",
       "      <td>...</td>\n",
       "      <td>...</td>\n",
       "    </tr>\n",
       "    <tr>\n",
       "      <th>3653</th>\n",
       "      <td>JAPAN</td>\n",
       "      <td>2005</td>\n",
       "      <td>NET WORTH</td>\n",
       "      <td>YEN</td>\n",
       "      <td>49262500000000</td>\n",
       "    </tr>\n",
       "    <tr>\n",
       "      <th>3641</th>\n",
       "      <td>JAPAN</td>\n",
       "      <td>2007</td>\n",
       "      <td>NET WORTH</td>\n",
       "      <td>YEN</td>\n",
       "      <td>63961900000000</td>\n",
       "    </tr>\n",
       "    <tr>\n",
       "      <th>3665</th>\n",
       "      <td>JAPAN</td>\n",
       "      <td>2003</td>\n",
       "      <td>NET WORTH</td>\n",
       "      <td>YEN</td>\n",
       "      <td>79529900000000</td>\n",
       "    </tr>\n",
       "    <tr>\n",
       "      <th>3671</th>\n",
       "      <td>JAPAN</td>\n",
       "      <td>2002</td>\n",
       "      <td>NET WORTH</td>\n",
       "      <td>YEN</td>\n",
       "      <td>99158700000000</td>\n",
       "    </tr>\n",
       "    <tr>\n",
       "      <th>3677</th>\n",
       "      <td>JAPAN</td>\n",
       "      <td>2001</td>\n",
       "      <td>NET WORTH</td>\n",
       "      <td>YEN</td>\n",
       "      <td>132390000000000</td>\n",
       "    </tr>\n",
       "  </tbody>\n",
       "</table>\n",
       "<p>330 rows × 5 columns</p>\n",
       "</div>"
      ],
      "text/plain": [
       "     Country  Year                  Description Currency            Value\n",
       "3648   JAPAN  2006  NET FINANCIAL WORTH [62-63]      YEN -427874000000000\n",
       "3654   JAPAN  2005  NET FINANCIAL WORTH [62-63]      YEN -424368000000000\n",
       "3642   JAPAN  2007  NET FINANCIAL WORTH [62-63]      YEN -414480000000000\n",
       "3660   JAPAN  2004  NET FINANCIAL WORTH [62-63]      YEN -412032000000000\n",
       "3666   JAPAN  2003  NET FINANCIAL WORTH [62-63]      YEN -375120000000000\n",
       "...      ...   ...                          ...      ...              ...\n",
       "3653   JAPAN  2005                    NET WORTH      YEN   49262500000000\n",
       "3641   JAPAN  2007                    NET WORTH      YEN   63961900000000\n",
       "3665   JAPAN  2003                    NET WORTH      YEN   79529900000000\n",
       "3671   JAPAN  2002                    NET WORTH      YEN   99158700000000\n",
       "3677   JAPAN  2001                    NET WORTH      YEN  132390000000000\n",
       "\n",
       "[330 rows x 5 columns]"
      ]
     },
     "execution_count": 57,
     "metadata": {},
     "output_type": "execute_result"
    }
   ],
   "source": [
    "net_worth_global = financial_df[financial_df['Description'].isin(['NET WORTH', 'NET FINANCIAL WORTH [62-63]'])].sort_values('Value')\n",
    "net_worth_global"
   ]
  },
  {
   "cell_type": "markdown",
   "id": "9bf07d03",
   "metadata": {},
   "source": [
    "#### 2.    If time allows, check out the plotly library to add additional interativity to your plots. [https://plotly.com/python/plotly-express/](https://plotly.com/python/plotly-express/)."
   ]
  },
  {
   "cell_type": "markdown",
   "id": "43aad9fc",
   "metadata": {},
   "source": [
    "## UN Data Exploration Bonus Questions"
   ]
  },
  {
   "cell_type": "markdown",
   "id": "d290ddd2",
   "metadata": {},
   "source": [
    "#### 1. Let's compare the median life expectacy for each across all of the years of data that we have. Perform a groupby on both Year and Continent and then aggregate using the median and save the results to a new object.  \n",
    "\ta. What type of object results from this?  \n",
    "\tb. Look at the index of the resulting object. What do you notice about it?  \n",
    "\tc. Use .loc to select the median life expectancy for Asia in 2010.  \n",
    "\td. Use .loc to select the median life expectancy for both Asia and Africa in 2010.  \n",
    "\te. Use .loc to select the values for all continents for the year 2010.  \n",
    "\tf. Use .loc to select the median life expectancy for Asia across all years. Hint: One way to do this is to use the swaplevels method.  \n",
    "\n",
    "    "
   ]
  },
  {
   "cell_type": "code",
   "execution_count": 58,
   "id": "ed83693a",
   "metadata": {},
   "outputs": [
    {
     "data": {
      "text/plain": [
       "pandas.core.series.Series"
      ]
     },
     "metadata": {},
     "output_type": "display_data"
    },
    {
     "name": "stdout",
     "output_type": "stream",
     "text": [
      "71.879\n"
     ]
    },
    {
     "data": {
      "text/plain": [
       "Year  Continent\n",
       "2010  Asia         71.879\n",
       "      Africa       58.367\n",
       "Name: Life Expectancy, dtype: float64"
      ]
     },
     "metadata": {},
     "output_type": "display_data"
    },
    {
     "data": {
      "text/plain": [
       "Continent\n",
       "Africa           58.367000\n",
       "Asia             71.879000\n",
       "Europe           78.481415\n",
       "North America    74.454000\n",
       "Oceania          68.030000\n",
       "South America    73.711000\n",
       "Name: Life Expectancy, dtype: float64"
      ]
     },
     "metadata": {},
     "output_type": "display_data"
    },
    {
     "data": {
      "text/plain": [
       "Year\n",
       "1960    50.6825\n",
       "1961    52.3640\n",
       "1962    53.6970\n",
       "1963    53.8930\n",
       "1964    54.4120\n",
       "         ...   \n",
       "2018    73.9715\n",
       "2019    74.2105\n",
       "2020    73.2720\n",
       "2021    72.4610\n",
       "2022    73.8165\n",
       "Name: Life Expectancy, Length: 63, dtype: float64"
      ]
     },
     "execution_count": 58,
     "metadata": {},
     "output_type": "execute_result"
    }
   ],
   "source": [
    "# Clean up dfs for merge\n",
    "life_expectancy = life_expectancy.dropna()\n",
    "life_expectancy[\"Year\"] = pd.to_numeric(life_expectancy[\"Year\"])\n",
    "\n",
    "# merge the dfs on the two columns, keeping only values in both dfs.\n",
    "life_exp_cont = pd.merge(life_expectancy, continents, on=\"Country\", how=\"inner\")\n",
    "\n",
    "# Group by year and continent and aggregate median on life expectancy\n",
    "medians_le = life_exp_cont.groupby([\"Year\", \"Continent\"])[\"Life Expectancy\"].median()\n",
    "display(type(medians_le))\n",
    "\n",
    "# Look at the index\n",
    "medians_le.index\n",
    "\n",
    "# median le for asia 2010\n",
    "print(medians_le.loc[(2010, \"Asia\")])\n",
    "\n",
    "# median le for asia and africa in 2010\n",
    "display(medians_le.loc[[(2010, \"Asia\"), (2010, \"Africa\")]])\n",
    "\n",
    "# all continents 2010\n",
    "display(medians_le.loc[(2010)])\n",
    "\n",
    "# median for asia across all years\n",
    "medians_le.swaplevel().loc[\"Asia\"]"
   ]
  },
  {
   "cell_type": "markdown",
   "id": "a20bdf55",
   "metadata": {},
   "source": [
    "#### 2. Group gdp_le by both Year and Continent and find the min, median, and max values for both gdp per capita and life expectancy. Hint: You may want to use the [agg method](https://pandas.pydata.org/docs/reference/api/pandas.DataFrame.agg.html).  \n",
    "\ta. Look at the columns of the resulting object. What do you notice?  \n",
    "\tb. Select the median gdp per capita value for Asia in 2010."
   ]
  },
  {
   "cell_type": "code",
   "execution_count": 59,
   "id": "fbaabbce",
   "metadata": {},
   "outputs": [
    {
     "data": {
      "text/plain": [
       "'Asia, 2010 median GDPpC = 8602.903815568548'"
      ]
     },
     "metadata": {},
     "output_type": "display_data"
    }
   ],
   "source": [
    "# grouping by year and continent and aggregating min, median, max for GDP and Life exp.\n",
    "gdp_le_aggs = gdp_le.groupby([\"Year\", \"Continent\"])[\n",
    "    [\"Life Expectancy\", \"GDP_Per_Capita\"]\n",
    "].agg([\"min\", \"median\", \"max\"])\n",
    "\n",
    "# median gdp per capita for asia, 2010\n",
    "display(\n",
    "    \"Asia, 2010 median GDPpC = \"\n",
    "    + str(gdp_le_aggs.loc[(2010, \"Asia\")][(\"GDP_Per_Capita\", \"median\")])\n",
    ")"
   ]
  },
  {
   "cell_type": "markdown",
   "id": "82b1b352",
   "metadata": {},
   "source": [
    "- **the columns are also labeled with tuples.**"
   ]
  },
  {
   "cell_type": "markdown",
   "id": "8ec638ab",
   "metadata": {},
   "source": [
    "#### 3. In this question, we'll see how the median gdp per capita has changed over time. Start by creating a Series, gdp_median_per_year by grouping by the Year variable and calculating the median gdp per capita.  \n",
    "\ta. Convert gdp_median_per_year to a DataFrame by using the [reset_index method](https://pandas.pydata.org/docs/reference/api/pandas.Series.reset_index.html).  \n",
    "\tb. The [shift method](https://pandas.pydata.org/docs/reference/api/pandas.DataFrame.shift.html) will allow you to compare values across rows. Use this method to create a new column showing the change in gdp per capita since the prior year.  \n",
    "\tc. How many times was there a drop in median gdp per capita from one year to the next?  "
   ]
  },
  {
   "cell_type": "code",
   "execution_count": 60,
   "id": "6acb77c8",
   "metadata": {},
   "outputs": [
    {
     "data": {
      "text/plain": [
       "7"
      ]
     },
     "metadata": {},
     "output_type": "display_data"
    }
   ],
   "source": [
    "gdp_median_per_year = gdp_le.groupby(['Year'])['GDP_Per_Capita'].median().reset_index()\n",
    "\n",
    "# create a new column showing the change in gdp per capita since the prior year.  \n",
    "gdp_median_per_year['Shift'] = gdp_median_per_year['GDP_Per_Capita'].shift(periods=1).fillna(value=0)\n",
    "gdp_median_per_year['Difference'] = gdp_median_per_year['GDP_Per_Capita'] - gdp_median_per_year['Shift']\n",
    "\n",
    "# How many times was there a drop in median gdp per capita from one year to the next?\n",
    "display(gdp_median_per_year[gdp_median_per_year['Difference'] < 0]['GDP_Per_Capita'].count())"
   ]
  },
  {
   "cell_type": "markdown",
   "id": "8af7eb52",
   "metadata": {},
   "source": [
    "#### 4. Now, let's expand on the prior question to find the change in GDP from year to year for each country.  \n",
    "\ta. Add a new column to the gdp_le DataFrame showing the change in gdp per capita from the prior year for that country. Hint: You can combine groupby with the shift method.  \n",
    "\tb. Which country had the largest one year increase in gdp per capita? Which had the largest one year drop in gdp per capita?"
   ]
  },
  {
   "cell_type": "code",
   "execution_count": 61,
   "id": "df58e13e",
   "metadata": {},
   "outputs": [
    {
     "data": {
      "text/plain": [
       "[index                                2910\n",
       " Country                  Macao SAR, China\n",
       " Year                                 2011\n",
       " GDP_Per_Capita              135365.387353\n",
       " Previous Year's GDPPC       114042.495308\n",
       " Difference                   21322.892045\n",
       " Name: 0, dtype: object,\n",
       " index                                2919\n",
       " Country                  Macao SAR, China\n",
       " Year                                 2020\n",
       " GDP_Per_Capita               55158.712729\n",
       " Previous Year's GDPPC       122822.124456\n",
       " Difference                  -67663.411727\n",
       " Name: 0, dtype: object]"
      ]
     },
     "metadata": {},
     "output_type": "display_data"
    }
   ],
   "source": [
    "gdp_le_countries_grouped = gdp_le.groupby(['Country', 'Year'])['GDP_Per_Capita'].median().reset_index()\n",
    "gdp_le_countries_grouped[\"Previous Year's GDPPC\"] = gdp_le_countries_grouped.groupby(['Country'])['GDP_Per_Capita'].shift()\n",
    "gdp_le_countries_grouped['Difference'] = gdp_le_countries_grouped['GDP_Per_Capita'] - gdp_le_countries_grouped[\"Previous Year's GDPPC\"]\n",
    "largest_increase = gdp_le_countries_grouped[gdp_le_countries_grouped[\"Difference\"] > 0].sort_values('Difference', ascending=False).reset_index().iloc[0]\n",
    "largest_decrease = gdp_le_countries_grouped[gdp_le_countries_grouped[\"Difference\"] < 0].sort_values('Difference').reset_index().iloc[0]\n",
    "display([largest_increase, largest_decrease])"
   ]
  },
  {
   "cell_type": "markdown",
   "id": "6d04b005",
   "metadata": {},
   "source": [
    "#### 5. When looking at time series data, there can often be a large amount of observation to observation variability, making it more difficult to see general trends. This variability can be smoothed out by calculating rolling averages. We'll see how in this question.\n",
    "\n",
    "\ta. First, filter gdp_le down to just the rows for the United States and save the result to a DataFrame named gdp_le_us.  \n",
    "\tb. Use [rolling](https://pandas.pydata.org/docs/reference/api/pandas.DataFrame.rolling.html) to calculate the 3-year moving average of gdp per capita for the US.  \n",
    "\tc. Plot both the original gdp per capita values and the rolling average on the same plot."
   ]
  },
  {
   "cell_type": "code",
   "execution_count": 62,
   "id": "7b1218e9",
   "metadata": {},
   "outputs": [
    {
     "data": {
      "text/plain": [
       "<Axes: title={'center': 'GDP per capita and 3 yr rolling average'}, xlabel='Year', ylabel='GDP Per Capita ($)'>"
      ]
     },
     "execution_count": 62,
     "metadata": {},
     "output_type": "execute_result"
    },
    {
     "data": {
      "image/png": "[encoded data removed]",
      "text/plain": [
       "<Figure size 640x480 with 1 Axes>"
      ]
     },
     "metadata": {},
     "output_type": "display_data"
    }
   ],
   "source": [
    "gdp_le_us = gdp_le[gdp_le['Country'] == 'United States'].sort_values('Year')\n",
    "gdp_le_us['3yr rolling avg - GDP'] = gdp_le_us['GDP_Per_Capita'].rolling(3).mean()\n",
    "# display(gdp_le_us)\n",
    "gdp_le_us.plot(\n",
    "    kind='line', x='Year', y=['GDP_Per_Capita', '3yr rolling avg - GDP'],\n",
    "    title='GDP per capita and 3 yr rolling average', \n",
    "    xlabel='Year', ylabel='GDP Per Capita ($)',\n",
    "    legend=True)"
   ]
  },
  {
   "cell_type": "markdown",
   "id": "4a618e49",
   "metadata": {},
   "source": [
    "#### 6. When working with large datasets, it can sometimes pay off to be mindful of what data types you are using for each variable.  \n",
    "\ta. Create a new column, Continent_Category by converting the Continent column to a [category](https://pandas.pydata.org/docs/user_guide/categorical.html).  \n",
    "\tb. Use the memory_usage method to compare the memory used by the original Continent column compared to the category version.  \n",
    "\tc. You can also sometimes get speedups for groupby operations by using category datatypes. In Jupyter, if you want to estimate how long it takes to run a block of code, you can add the %%timeit magic to the top of a cell. Compare doing a groupby + aggregation on the original Continent column compared to the Continent_Category column.  \n",
    "\td. You can also sometimes save memory usage by adjusting the size that is stored for integer values. By default, the int64 type is used which can store values between –9223372036854775808 and 9223372036854775807. However, for the Year variable, we really don't need that large of a range. We could get by with a 16 bit integer, whose range is -32768 to 32768. Convert the Year column to int16 type and then compare the memory usage.  \n",
    "\te. Finally, you don't have to make these datatype changes after the data has been read in. Add some parameters to the read_csv call that imports the GDP data. Read in only the needed columns (not the Value Footnotes column). Also, read in the Country or Area column as a category type and the Year column as an int16 type."
   ]
  },
  {
   "cell_type": "code",
   "execution_count": 63,
   "id": "17a1b259",
   "metadata": {},
   "outputs": [
    {
     "data": {
      "text/plain": [
       "Index                   132\n",
       "Country               44032\n",
       "Year                  11008\n",
       "GDP_Per_Capita        44032\n",
       "Continent             44032\n",
       "Life Expectancy       44032\n",
       "Continent_Category     5724\n",
       "dtype: int64"
      ]
     },
     "execution_count": 63,
     "metadata": {},
     "output_type": "execute_result"
    }
   ],
   "source": [
    "gdp_le['Continent_Category'] = gdp_le[\"Continent\"].astype(\"category\")\n",
    "gdp_le['Year'] = gdp_le['Year'].astype('int16')\n",
    "gdp_le.memory_usage()"
   ]
  },
  {
   "cell_type": "code",
   "execution_count": 64,
   "id": "1930822d",
   "metadata": {},
   "outputs": [
    {
     "data": {
      "text/html": [
       "<div>\n",
       "<style scoped>\n",
       "    .dataframe tbody tr th:only-of-type {\n",
       "        vertical-align: middle;\n",
       "    }\n",
       "\n",
       "    .dataframe tbody tr th {\n",
       "        vertical-align: top;\n",
       "    }\n",
       "\n",
       "    .dataframe thead th {\n",
       "        text-align: right;\n",
       "    }\n",
       "</style>\n",
       "<table border=\"1\" class=\"dataframe\">\n",
       "  <thead>\n",
       "    <tr style=\"text-align: right;\">\n",
       "      <th></th>\n",
       "      <th>Country or Area</th>\n",
       "      <th>Year</th>\n",
       "      <th>Value</th>\n",
       "    </tr>\n",
       "  </thead>\n",
       "  <tbody>\n",
       "    <tr>\n",
       "      <th>0</th>\n",
       "      <td>Afghanistan</td>\n",
       "      <td>2021</td>\n",
       "      <td>1517.016266</td>\n",
       "    </tr>\n",
       "    <tr>\n",
       "      <th>1</th>\n",
       "      <td>Afghanistan</td>\n",
       "      <td>2020</td>\n",
       "      <td>1968.341002</td>\n",
       "    </tr>\n",
       "    <tr>\n",
       "      <th>2</th>\n",
       "      <td>Afghanistan</td>\n",
       "      <td>2019</td>\n",
       "      <td>2079.921861</td>\n",
       "    </tr>\n",
       "    <tr>\n",
       "      <th>3</th>\n",
       "      <td>Afghanistan</td>\n",
       "      <td>2018</td>\n",
       "      <td>2060.698973</td>\n",
       "    </tr>\n",
       "    <tr>\n",
       "      <th>4</th>\n",
       "      <td>Afghanistan</td>\n",
       "      <td>2017</td>\n",
       "      <td>2096.093111</td>\n",
       "    </tr>\n",
       "    <tr>\n",
       "      <th>...</th>\n",
       "      <td>...</td>\n",
       "      <td>...</td>\n",
       "      <td>...</td>\n",
       "    </tr>\n",
       "    <tr>\n",
       "      <th>7657</th>\n",
       "      <td>Zimbabwe</td>\n",
       "      <td>1994</td>\n",
       "      <td>2670.106615</td>\n",
       "    </tr>\n",
       "    <tr>\n",
       "      <th>7658</th>\n",
       "      <td>Zimbabwe</td>\n",
       "      <td>1993</td>\n",
       "      <td>2458.783255</td>\n",
       "    </tr>\n",
       "    <tr>\n",
       "      <th>7659</th>\n",
       "      <td>Zimbabwe</td>\n",
       "      <td>1992</td>\n",
       "      <td>2468.278257</td>\n",
       "    </tr>\n",
       "    <tr>\n",
       "      <th>7660</th>\n",
       "      <td>Zimbabwe</td>\n",
       "      <td>1991</td>\n",
       "      <td>2781.787843</td>\n",
       "    </tr>\n",
       "    <tr>\n",
       "      <th>7661</th>\n",
       "      <td>Zimbabwe</td>\n",
       "      <td>1990</td>\n",
       "      <td>2704.757299</td>\n",
       "    </tr>\n",
       "  </tbody>\n",
       "</table>\n",
       "<p>7662 rows × 3 columns</p>\n",
       "</div>"
      ],
      "text/plain": [
       "     Country or Area  Year        Value\n",
       "0        Afghanistan  2021  1517.016266\n",
       "1        Afghanistan  2020  1968.341002\n",
       "2        Afghanistan  2019  2079.921861\n",
       "3        Afghanistan  2018  2060.698973\n",
       "4        Afghanistan  2017  2096.093111\n",
       "...              ...   ...          ...\n",
       "7657        Zimbabwe  1994  2670.106615\n",
       "7658        Zimbabwe  1993  2458.783255\n",
       "7659        Zimbabwe  1992  2468.278257\n",
       "7660        Zimbabwe  1991  2781.787843\n",
       "7661        Zimbabwe  1990  2704.757299\n",
       "\n",
       "[7662 rows x 3 columns]"
      ]
     },
     "metadata": {},
     "output_type": "display_data"
    },
    {
     "data": {
      "text/plain": [
       "Index                132\n",
       "Country or Area    25556\n",
       "Year               15324\n",
       "Value              61296\n",
       "dtype: int64"
      ]
     },
     "execution_count": 64,
     "metadata": {},
     "output_type": "execute_result"
    }
   ],
   "source": [
    "gdp_df_bonus = pd.DataFrame(pd.read_csv(\"../data/gdp_per_capita.csv\", usecols=range(0,3), dtype={'Year':'int16', 'Country or Area':'category'}))\n",
    "display(gdp_df_bonus)\n",
    "gdp_df_bonus.memory_usage()"
   ]
  }
 ],
 "metadata": {
  "kernelspec": {
   "display_name": "base",
   "language": "python",
   "name": "python3"
  },
  "language_info": {
   "codemirror_mode": {
    "name": "ipython",
    "version": 3
   },
   "file_extension": ".py",
   "mimetype": "text/x-python",
   "name": "python",
   "nbconvert_exporter": "python",
   "pygments_lexer": "ipython3",
   "version": "3.12.4"
  }
 },
 "nbformat": 4,
 "nbformat_minor": 5
}
