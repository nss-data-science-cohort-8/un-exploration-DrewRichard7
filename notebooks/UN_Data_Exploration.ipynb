{
 "cells": [
  {
   "cell_type": "markdown",
   "id": "c7f5a6d6-9d3a-42a8-a797-2ff4375fcca3",
   "metadata": {},
   "source": [
    "## UN Data Exploration"
   ]
  },
  {
   "cell_type": "markdown",
   "id": "54803e1e",
   "metadata": {},
   "source": [
    "#### Guided practice"
   ]
  },
  {
   "cell_type": "markdown",
   "id": "c2d00626",
   "metadata": {},
   "source": [
    "1.\tDownload the Gross Domestic Product (GDP) per capita dataset from [http://data.un.org/Data.aspx?d=WDI&f=Indicator_Code%3aNY.GDP.PCAP.PP.KD](http://data.un.org/Data.aspx?d=WDI&f=Indicator_Code%3aNY.GDP.PCAP.PP.KD). Rename it to gdp_per_capita.csv and place it in the `data` folder of your project repository. "
   ]
  },
  {
   "cell_type": "markdown",
   "id": "3ccf0e12",
   "metadata": {},
   "source": [
    "2. Create a Jupyter Notebook in the `notebooks` folder and name it `UN_Data_Exploration`.\n",
    "    *  You are likely to get errors along the way. When you do, read the errors to try to understand what is happening and how to correct it.\n",
    "    * Use markdown cells to record your answers to any questions asked in this exercise. On the menu bar, you can toggle the cell type from 'Code' to 'Markdown'. [Here](https://www.markdownguide.org/cheat-sheet/) is a link to a cheat sheet showing the basics of styling text using Markdown."
   ]
  },
  {
   "cell_type": "markdown",
   "id": "89c65ac7",
   "metadata": {},
   "source": [
    "3.\tIn the first cell of your notebook, import the required packages with their customary aliases as follows:"
   ]
  },
  {
   "cell_type": "code",
   "execution_count": 1,
   "id": "8d49b808",
   "metadata": {},
   "outputs": [],
   "source": [
    "import pandas as pd\n",
    "import numpy as np\n",
    "import matplotlib.pyplot as plt\n",
    "import seaborn as sns"
   ]
  },
  {
   "cell_type": "markdown",
   "id": "00b2950b",
   "metadata": {},
   "source": [
    "4.\tUsing the pandas `read_csv()` function, read the GDP dataset into your notebook as a DataFrame called `gdp_df`. After reading it in, inspect the first 10 rows and then inspect the last 10 rows."
   ]
  },
  {
   "cell_type": "code",
   "execution_count": 2,
   "id": "08e3064d",
   "metadata": {},
   "outputs": [],
   "source": [
    "gdp_df = pd.DataFrame(pd.read_csv('/Users/drewrichard/Documents/1 projects/nss/nss_projects/un-exploration-DrewRichard7/data/gdp_per_capita.csv'))"
   ]
  },
  {
   "cell_type": "markdown",
   "id": "fb9ef584",
   "metadata": {},
   "source": [
    "5. Drop the 'Value Footnotes' column, and rename the remaining columns to 'Country', 'Year', and 'GDP_Per_Capita'."
   ]
  },
  {
   "cell_type": "code",
   "execution_count": 3,
   "id": "a5faadaf-39f1-40db-969d-a92f51bbfbb7",
   "metadata": {},
   "outputs": [
    {
     "name": "stdout",
     "output_type": "stream",
     "text": [
      "<class 'pandas.core.frame.DataFrame'>\n",
      "RangeIndex: 7662 entries, 0 to 7661\n",
      "Data columns (total 3 columns):\n",
      " #   Column          Non-Null Count  Dtype  \n",
      "---  ------          --------------  -----  \n",
      " 0   Country         7662 non-null   object \n",
      " 1   Year            7662 non-null   int64  \n",
      " 2   GDP_Per_Capita  7662 non-null   float64\n",
      "dtypes: float64(1), int64(1), object(1)\n",
      "memory usage: 179.7+ KB\n"
     ]
    }
   ],
   "source": [
    "gdp_df = gdp_df.drop(columns=['Value Footnotes'])\n",
    "gdp_df = gdp_df.rename(columns={'Country or Area':'Country', 'Value':'GDP_Per_Capita'})\n",
    "gdp_df.info()"
   ]
  },
  {
   "cell_type": "markdown",
   "id": "9cbc80ee",
   "metadata": {},
   "source": [
    "6. How many rows and columns does gdp_df have? What are the data types of its columns? If any of the columns are not the expected types, figure out why and fix it."
   ]
  },
  {
   "cell_type": "code",
   "execution_count": 4,
   "id": "69372b89",
   "metadata": {},
   "outputs": [
    {
     "name": "stdout",
     "output_type": "stream",
     "text": [
      "<class 'pandas.core.frame.DataFrame'>\n",
      "RangeIndex: 7662 entries, 0 to 7661\n",
      "Data columns (total 3 columns):\n",
      " #   Column          Non-Null Count  Dtype  \n",
      "---  ------          --------------  -----  \n",
      " 0   Country         7662 non-null   string \n",
      " 1   Year            7662 non-null   int64  \n",
      " 2   GDP_Per_Capita  7662 non-null   float64\n",
      "dtypes: float64(1), int64(1), string(1)\n",
      "memory usage: 179.7 KB\n"
     ]
    }
   ],
   "source": [
    "gdp_df['Country'] = gdp_df['Country'].astype('string')\n",
    "gdp_df.info()\n"
   ]
  },
  {
   "cell_type": "markdown",
   "id": "0c9b78e4",
   "metadata": {},
   "source": [
    "- **there are 7662 rows and 3 columns in the dataframe gdp_df, excluding the index column and header rows. The 'Country' column is listed as Object rather than String which indicates more than one data type in the column. Using .astype('string') I can convert the column type to str, although this is not typically necessary in a pandas df** "
   ]
  },
  {
   "cell_type": "markdown",
   "id": "54280f02",
   "metadata": {},
   "source": [
    "7. Which years are represented in this dataset? Take a look at the number of observations per year. What do you notice?"
   ]
  },
  {
   "cell_type": "code",
   "execution_count": 5,
   "id": "501783a5",
   "metadata": {},
   "outputs": [
    {
     "data": {
      "text/plain": [
       "Year\n",
       "2013    242\n",
       "2016    242\n",
       "2014    242\n",
       "2015    242\n",
       "2020    242\n",
       "2017    242\n",
       "2018    242\n",
       "2019    242\n",
       "2021    241\n",
       "2012    240\n",
       "2011    240\n",
       "2010    239\n",
       "2009    239\n",
       "2008    238\n",
       "2007    237\n",
       "2006    237\n",
       "2004    236\n",
       "2005    236\n",
       "2003    235\n",
       "2002    235\n",
       "2001    234\n",
       "2000    233\n",
       "2022    232\n",
       "1999    227\n",
       "1998    226\n",
       "1997    226\n",
       "1996    223\n",
       "1995    223\n",
       "1994    213\n",
       "1993    211\n",
       "1992    210\n",
       "1991    208\n",
       "1990    207\n",
       "Name: count, dtype: int64"
      ]
     },
     "execution_count": 5,
     "metadata": {},
     "output_type": "execute_result"
    }
   ],
   "source": [
    "gdp_df['Year'].unique()\n",
    "gdp_df['Year'].value_counts()\n"
   ]
  },
  {
   "cell_type": "markdown",
   "id": "b94bf348",
   "metadata": {},
   "source": [
    "- **There are 33 years represented: 1990 - 2022.**\n",
    "**There are an inconsistent number of measurements taken per year, which indicates a change in the number of countries throughout the time period, or an unmeasured GDP during some years for some countries**\n"
   ]
  },
  {
   "cell_type": "markdown",
   "id": "b1102209",
   "metadata": {},
   "source": [
    "8. How many countries are represented in this dataset? Which countries are least represented in the dataset? Why do you think these countries have so few observations?"
   ]
  },
  {
   "cell_type": "code",
   "execution_count": 11,
   "id": "a86455e4",
   "metadata": {},
   "outputs": [
    {
     "data": {
      "text/plain": [
       "Country\n",
       "Least developed countries: UN classification    33\n",
       "Austria                                         33\n",
       "East Asia & Pacific (IDA & IBRD)                33\n",
       "Ecuador                                         33\n",
       "Egypt                                           33\n",
       "                                                ..\n",
       "Kosovo                                          15\n",
       "Sint Maarten (Dutch part)                       14\n",
       "Turks and Caicos Islands                        12\n",
       "Somalia                                         10\n",
       "Djibouti                                        10\n",
       "Name: count, Length: 242, dtype: Int64"
      ]
     },
     "execution_count": 11,
     "metadata": {},
     "output_type": "execute_result"
    }
   ],
   "source": [
    "gdp_df['Country'].value_counts()\n"
   ]
  },
  {
   "cell_type": "markdown",
   "id": "cb7e42bb",
   "metadata": {},
   "source": [
    "- **There are 242 uniques values in the 'Country' column. Some of these values are not countries, but areas or regions, so it does not match the listed UN member states number of 195.**\n",
    "**The least represented countries are Djibouti, Somalia, and a handful of smaller island nations and countries like Kosovo which have not been high exporters due to war, famine, territorial disputes with neighboring countries, geographic isolation, or lack of resources, etc.**\n"
   ]
  },
  {
   "cell_type": "markdown",
   "id": "37b8d201",
   "metadata": {},
   "source": [
    "9. Create a new dataframe by subsetting `gdp_df` to just the year 2021. Call this new dataframe `gdp_20121`."
   ]
  },
  {
   "cell_type": "code",
   "execution_count": 17,
   "id": "099e1a63",
   "metadata": {},
   "outputs": [
    {
     "data": {
      "text/html": [
       "<div>\n",
       "<style scoped>\n",
       "    .dataframe tbody tr th:only-of-type {\n",
       "        vertical-align: middle;\n",
       "    }\n",
       "\n",
       "    .dataframe tbody tr th {\n",
       "        vertical-align: top;\n",
       "    }\n",
       "\n",
       "    .dataframe thead th {\n",
       "        text-align: right;\n",
       "    }\n",
       "</style>\n",
       "<table border=\"1\" class=\"dataframe\">\n",
       "  <thead>\n",
       "    <tr style=\"text-align: right;\">\n",
       "      <th></th>\n",
       "      <th>Country</th>\n",
       "      <th>Year</th>\n",
       "      <th>GDP_Per_Capita</th>\n",
       "    </tr>\n",
       "  </thead>\n",
       "  <tbody>\n",
       "    <tr>\n",
       "      <th>0</th>\n",
       "      <td>Afghanistan</td>\n",
       "      <td>2021</td>\n",
       "      <td>1517.016266</td>\n",
       "    </tr>\n",
       "    <tr>\n",
       "      <th>21</th>\n",
       "      <td>Africa Eastern and Southern</td>\n",
       "      <td>2021</td>\n",
       "      <td>3519.174840</td>\n",
       "    </tr>\n",
       "    <tr>\n",
       "      <th>54</th>\n",
       "      <td>Africa Western and Central</td>\n",
       "      <td>2021</td>\n",
       "      <td>4014.607965</td>\n",
       "    </tr>\n",
       "    <tr>\n",
       "      <th>87</th>\n",
       "      <td>Albania</td>\n",
       "      <td>2021</td>\n",
       "      <td>14595.944386</td>\n",
       "    </tr>\n",
       "    <tr>\n",
       "      <th>120</th>\n",
       "      <td>Algeria</td>\n",
       "      <td>2021</td>\n",
       "      <td>11029.138782</td>\n",
       "    </tr>\n",
       "    <tr>\n",
       "      <th>...</th>\n",
       "      <td>...</td>\n",
       "      <td>...</td>\n",
       "      <td>...</td>\n",
       "    </tr>\n",
       "    <tr>\n",
       "      <th>7502</th>\n",
       "      <td>Viet Nam</td>\n",
       "      <td>2021</td>\n",
       "      <td>10628.219166</td>\n",
       "    </tr>\n",
       "    <tr>\n",
       "      <th>7535</th>\n",
       "      <td>West Bank and Gaza</td>\n",
       "      <td>2021</td>\n",
       "      <td>5641.044400</td>\n",
       "    </tr>\n",
       "    <tr>\n",
       "      <th>7564</th>\n",
       "      <td>World</td>\n",
       "      <td>2021</td>\n",
       "      <td>17055.357429</td>\n",
       "    </tr>\n",
       "    <tr>\n",
       "      <th>7597</th>\n",
       "      <td>Zambia</td>\n",
       "      <td>2021</td>\n",
       "      <td>3236.788981</td>\n",
       "    </tr>\n",
       "    <tr>\n",
       "      <th>7630</th>\n",
       "      <td>Zimbabwe</td>\n",
       "      <td>2021</td>\n",
       "      <td>2115.144555</td>\n",
       "    </tr>\n",
       "  </tbody>\n",
       "</table>\n",
       "<p>241 rows × 3 columns</p>\n",
       "</div>"
      ],
      "text/plain": [
       "                          Country  Year  GDP_Per_Capita\n",
       "0                     Afghanistan  2021     1517.016266\n",
       "21    Africa Eastern and Southern  2021     3519.174840\n",
       "54     Africa Western and Central  2021     4014.607965\n",
       "87                        Albania  2021    14595.944386\n",
       "120                       Algeria  2021    11029.138782\n",
       "...                           ...   ...             ...\n",
       "7502                     Viet Nam  2021    10628.219166\n",
       "7535           West Bank and Gaza  2021     5641.044400\n",
       "7564                        World  2021    17055.357429\n",
       "7597                       Zambia  2021     3236.788981\n",
       "7630                     Zimbabwe  2021     2115.144555\n",
       "\n",
       "[241 rows x 3 columns]"
      ]
     },
     "execution_count": 17,
     "metadata": {},
     "output_type": "execute_result"
    }
   ],
   "source": [
    "gdp_2021 = gdp_df.loc[gdp_df['Year'] == 2021]\n",
    "gdp_2021"
   ]
  },
  {
   "cell_type": "markdown",
   "id": "f40e58bd",
   "metadata": {},
   "source": [
    "10. Use `.describe()` to find the summary statistics for GDP per capita in 2021. "
   ]
  },
  {
   "cell_type": "markdown",
   "id": "eca28298",
   "metadata": {},
   "source": [
    "11. Create a histogram of GDP Per Capita numbers for 2021 (you may wish to adjust the number of bins for your histogram). How would you describe the shape of the distribution?"
   ]
  },
  {
   "cell_type": "markdown",
   "id": "eafd632b",
   "metadata": {},
   "source": [
    "12. Find the top 5 counties and bottom 5 countries by GDP per capita in 2021."
   ]
  },
  {
   "cell_type": "markdown",
   "id": "9006234c",
   "metadata": {},
   "source": [
    "13. Now, return to the full dataset, `gdp_df`. Pivot the data for 1990 and 2021 (using the pandas `.pivot_table()` method or another method) so that each row corresponds to a country, each column corresponds to a year, and the values in the table give the GDP_Per_Capita amount. Drop any rows that are missing values for either 1990 or 2021. Save the result to a dataframe named `gdp_pivoted`."
   ]
  },
  {
   "cell_type": "markdown",
   "id": "e2915700",
   "metadata": {},
   "source": [
    "14. Create a new column in `gdp_pivoted` named `Percent_Change`. This column should contain the percent change in GDP_Per_Capita from 1990 to 2021. Hint: Percent change is calculated as 100*(New Value - Old Value) / Old Value."
   ]
  },
  {
   "cell_type": "markdown",
   "id": "345cf407",
   "metadata": {},
   "source": [
    "15. How many countries experienced a negative percent change in GDP per capita from 1990 to 2021?"
   ]
  },
  {
   "cell_type": "markdown",
   "id": "463d4b27",
   "metadata": {},
   "source": [
    "16. Which country had the highest % change in GDP per capita? Create a line plot showing this country's GDP per capita for all years from 1990 to 2018. Create another showing the country with the second highest % change in GDP. How do the trends in these countries compare?  \n",
    "**Bonus:** Put both line charts on the same plot."
   ]
  },
  {
   "cell_type": "markdown",
   "id": "e17268d0",
   "metadata": {},
   "source": [
    "17. Read in continents.csv contained in the `data` folder into a new dataframe called `continents`. We will be using this dataframe to add a new column to our dataset."
   ]
  },
  {
   "cell_type": "markdown",
   "id": "e1ad07d7",
   "metadata": {},
   "source": [
    "18. Merge gdp_df and continents. Keep only the countries that appear in both data frames. Save the result back to gdp_df."
   ]
  },
  {
   "cell_type": "markdown",
   "id": "700a4ad8",
   "metadata": {},
   "source": [
    "19. Determine the number of countries per continent. Create a bar chart showing this."
   ]
  },
  {
   "cell_type": "markdown",
   "id": "5be2ed12",
   "metadata": {},
   "source": [
    "20. Create a seaborn boxplot showing GDP per capita in 2021 split out by continent. What do you notice?"
   ]
  },
  {
   "cell_type": "markdown",
   "id": "47609b1e",
   "metadata": {},
   "source": [
    "21. Download the full csv containing Life expectancy at birth, total (years) from [https://data.worldbank.org/indicator/SP.DYN.LE00.IN?name_desc=false](https://data.worldbank.org/indicator/SP.DYN.LE00.IN?name_desc=false). Read this data into a DataFrame named `life_expectancy`. Note: When reading this dataset it, you may encounter an error. Modify your `read_csv` call to correct this **without modifying the original csv file**."
   ]
  },
  {
   "cell_type": "markdown",
   "id": "d8e0bd77",
   "metadata": {},
   "source": [
    "22. Drop the Country Code, Indicator Name, and Indicator Code columns. Then use [`.melt()`](https://pandas.pydata.org/docs/reference/api/pandas.melt.html) to convert your data from wide to long. That is, instead of having one row per country and multiple colums per year, we want to have multiple rows per country and a single column for year. After melting, rename the columns to `Country`, `Year`, and `Life_Expectancy`."
   ]
  },
  {
   "cell_type": "markdown",
   "id": "d627e1f9",
   "metadata": {},
   "source": [
    "23. What was the first country with a life expectancy to exceed 80?"
   ]
  },
  {
   "cell_type": "markdown",
   "id": "45f82649",
   "metadata": {},
   "source": [
    "24. Merge `gdp_df` and `life_expectancy`, keeping all countries and years that appear in both DataFrames. Save the result to a new DataFrame named `gdp_le`. If you get any errors in doing this, read them carefully and correct them. Look at the first five rows of your new data frame to confirm it merged correctly. Also, check the last five rows to make sure the data is clean and as expected."
   ]
  },
  {
   "cell_type": "markdown",
   "id": "1897c966",
   "metadata": {},
   "source": [
    "25. Create a new DataFrame, named `gdp_le_2021` by extracting data for the year 2021 from `gdp_le`. How many countries have a life expectancy of at least 80 in 2021?"
   ]
  },
  {
   "cell_type": "markdown",
   "id": "351fccea",
   "metadata": {},
   "source": [
    "26. Find the countries that had the top 3 largest GDP per capita figures for 2021. Create a [seaborn FacetGrid](https://seaborn.pydata.org/generated/seaborn.FacetGrid.html) showing the change in life expectancy over time for these three countries. Each individual figure in the facet grid will represent a single country."
   ]
  },
  {
   "cell_type": "markdown",
   "id": "8bef7a03",
   "metadata": {},
   "source": [
    "27. Create a scatter plot of Life Expectancy vs GDP per Capita for the year 2021. What do you notice?"
   ]
  },
  {
   "cell_type": "markdown",
   "id": "db8bda7c",
   "metadata": {},
   "source": [
    "28. Find the correlation between Life Expectancy and GDP per Capita for the year 2021. What is the meaning of this number?"
   ]
  },
  {
   "cell_type": "markdown",
   "id": "d0dd1f46",
   "metadata": {},
   "source": [
    "29. Add a column to `gdp_le_2021` and calculate the logarithm of GDP per capita. Find the correlation between the log of GDP per capita and life expectancy. How does this compare to the calculation in the previous part? Look at a scatter plot to see if the result of this calculation makes sense."
   ]
  },
  {
   "cell_type": "markdown",
   "id": "5a0adfd6",
   "metadata": {},
   "source": [
    "### Bonus: Solo Exploration:"
   ]
  },
  {
   "cell_type": "markdown",
   "id": "79e606b9",
   "metadata": {},
   "source": [
    "1. Choose and download another data set from the UN data [http://data.un.org/Explorer.aspx](http://data.un.org/Explorer.aspx) to explore. You may want to combine your new dataset with one or both of the datasets that you already worked with. Report any interesting correlations or trends that you find. "
   ]
  },
  {
   "cell_type": "markdown",
   "id": "eacd950d",
   "metadata": {},
   "source": [
    "2.    If time allows, check out the plotly library to add additional interativity to your plots. [https://plotly.com/python/plotly-express/](https://plotly.com/python/plotly-express/)."
   ]
  }
 ],
 "metadata": {
  "kernelspec": {
   "display_name": "base",
   "language": "python",
   "name": "python3"
  },
  "language_info": {
   "codemirror_mode": {
    "name": "ipython",
    "version": 3
   },
   "file_extension": ".py",
   "mimetype": "text/x-python",
   "name": "python",
   "nbconvert_exporter": "python",
   "pygments_lexer": "ipython3",
   "version": "3.12.4"
  }
 },
 "nbformat": 4,
 "nbformat_minor": 5
}
